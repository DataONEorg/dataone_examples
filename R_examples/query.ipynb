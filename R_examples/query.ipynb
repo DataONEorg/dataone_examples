{
 "cells": [
  {
   "cell_type": "markdown",
   "metadata": {},
   "source": [
    "---\n",
    "title: Query for Data\n",
    "author: Bryce Mecum <mecum@nceas.ucsb.edu>\n",
    "---\n",
    "\n",
    "**Task:** Query DataONE for data that's relevant to your interests\n",
    "\n",
    "DataONE provides a mechanism for one or more query services to be available to clients wanting to query across the federation.\n",
    "\n",
    "First, load the `dataone` R package:"
   ]
  },
  {
   "cell_type": "code",
   "execution_count": 1,
   "metadata": {},
   "outputs": [
    {
     "data": {
      "text/html": [
       "<ol>\n",
       "\t<li>'solr'</li>\n",
       "\t<li>'logsolr'</li>\n",
       "</ol>\n"
      ],
      "text/latex": [
       "\\begin{enumerate}\n",
       "\\item 'solr'\n",
       "\\item 'logsolr'\n",
       "\\end{enumerate}\n"
      ],
      "text/markdown": [
       "1. 'solr'\n",
       "2. 'logsolr'\n",
       "\n",
       "\n"
      ],
      "text/plain": [
       "[[1]]\n",
       "[1] \"solr\"\n",
       "\n",
       "[[2]]\n",
       "[1] \"logsolr\"\n"
      ]
     },
     "metadata": {},
     "output_type": "display_data"
    }
   ],
   "source": [
    "library(dataone)\n",
    "cn <- CNode()\n",
    "listQueryEngines(cn)"
   ]
  },
  {
   "cell_type": "markdown",
   "metadata": {},
   "source": [
    "While the above query services can be accessed directly via the HTTP API, the `dataone` R package provides a `query` function which makes access to the \"solr\" query engine more user-friendly.\n",
    "\n",
    "The `list` we pass into `query` matches [Lucene Query Syntax](https://lucene.apache.org/solr/) provided by Solr and lets us make some pretty advanced queries. Let's search for latest versions of metadata records about tundra permafrost and return a list of titles for them:"
   ]
  },
  {
   "cell_type": "code",
   "execution_count": 4,
   "metadata": {},
   "outputs": [
    {
     "data": {
      "text/html": [
       "<ol>\n",
       "\t<li><strong>$title</strong> = 'Conceptualization and Application of the Alaska Thermokarst Model'</li>\n",
       "\t<li><strong>$title</strong> = 'Warming and drying effects on tundra carbon balance'</li>\n",
       "\t<li><strong>$title</strong> = 'Conceptualization and Application of Arctic Tundra Landscape Evolution Using the Alaska Thermokarst Model'</li>\n",
       "\t<li><strong>$title</strong> = 'Conceptualization and Application of Arctic Tundra Landscape Evolution Using the Alaska Thermokarst Model'</li>\n",
       "\t<li><strong>$title</strong> = 'Warming and drying effects on tundra carbon balance'</li>\n",
       "</ol>\n"
      ],
      "text/latex": [
       "\\begin{enumerate}\n",
       "\\item \\textbf{\\$title} = 'Conceptualization and Application of the Alaska Thermokarst Model'\n",
       "\\item \\textbf{\\$title} = 'Warming and drying effects on tundra carbon balance'\n",
       "\\item \\textbf{\\$title} = 'Conceptualization and Application of Arctic Tundra Landscape Evolution Using the Alaska Thermokarst Model'\n",
       "\\item \\textbf{\\$title} = 'Conceptualization and Application of Arctic Tundra Landscape Evolution Using the Alaska Thermokarst Model'\n",
       "\\item \\textbf{\\$title} = 'Warming and drying effects on tundra carbon balance'\n",
       "\\end{enumerate}\n"
      ],
      "text/markdown": [
       "1. **$title** = 'Conceptualization and Application of the Alaska Thermokarst Model'\n",
       "2. **$title** = 'Warming and drying effects on tundra carbon balance'\n",
       "3. **$title** = 'Conceptualization and Application of Arctic Tundra Landscape Evolution Using the Alaska Thermokarst Model'\n",
       "4. **$title** = 'Conceptualization and Application of Arctic Tundra Landscape Evolution Using the Alaska Thermokarst Model'\n",
       "5. **$title** = 'Warming and drying effects on tundra carbon balance'\n",
       "\n",
       "\n"
      ],
      "text/plain": [
       "[[1]]\n",
       "[[1]]$title\n",
       "[1] \"Conceptualization and Application of the Alaska Thermokarst Model\"\n",
       "\n",
       "\n",
       "[[2]]\n",
       "[[2]]$title\n",
       "[1] \"Warming and drying effects on tundra carbon balance\"\n",
       "\n",
       "\n",
       "[[3]]\n",
       "[[3]]$title\n",
       "[1] \"Conceptualization and Application of Arctic Tundra Landscape Evolution Using the Alaska Thermokarst Model\"\n",
       "\n",
       "\n",
       "[[4]]\n",
       "[[4]]$title\n",
       "[1] \"Conceptualization and Application of Arctic Tundra Landscape Evolution Using the Alaska Thermokarst Model\"\n",
       "\n",
       "\n",
       "[[5]]\n",
       "[[5]]$title\n",
       "[1] \"Warming and drying effects on tundra carbon balance\"\n",
       "\n"
      ]
     },
     "metadata": {},
     "output_type": "display_data"
    }
   ],
   "source": [
    "query(cn, list(\n",
    "  q = \"tundra permafrost+AND+formatType:METADATA+AND+-obsoletedBy:*\",\n",
    "  fl = \"title\",\n",
    "  rows = 5\n",
    "))"
   ]
  },
  {
   "cell_type": "markdown",
   "metadata": {},
   "source": [
    "`query` returns a `list` by default but we can change it to a `data.frame` which may make the results more useful:"
   ]
  },
  {
   "cell_type": "code",
   "execution_count": 5,
   "metadata": {},
   "outputs": [
    {
     "data": {
      "text/html": [
       "<table>\n",
       "<caption>A data.frame: 5 × 1</caption>\n",
       "<thead>\n",
       "\t<tr><th scope=col>title</th></tr>\n",
       "\t<tr><th scope=col>&lt;chr&gt;</th></tr>\n",
       "</thead>\n",
       "<tbody>\n",
       "\t<tr><td>Conceptualization and Application of the Alaska Thermokarst Model                                        </td></tr>\n",
       "\t<tr><td>Warming and drying effects on tundra carbon balance                                                      </td></tr>\n",
       "\t<tr><td>Conceptualization and Application of Arctic Tundra Landscape Evolution Using the Alaska Thermokarst Model</td></tr>\n",
       "\t<tr><td>Conceptualization and Application of Arctic Tundra Landscape Evolution Using the Alaska Thermokarst Model</td></tr>\n",
       "\t<tr><td>Warming and drying effects on tundra carbon balance                                                      </td></tr>\n",
       "</tbody>\n",
       "</table>\n"
      ],
      "text/latex": [
       "A data.frame: 5 × 1\n",
       "\\begin{tabular}{l}\n",
       " title\\\\\n",
       " <chr>\\\\\n",
       "\\hline\n",
       "\t Conceptualization and Application of the Alaska Thermokarst Model                                        \\\\\n",
       "\t Warming and drying effects on tundra carbon balance                                                      \\\\\n",
       "\t Conceptualization and Application of Arctic Tundra Landscape Evolution Using the Alaska Thermokarst Model\\\\\n",
       "\t Conceptualization and Application of Arctic Tundra Landscape Evolution Using the Alaska Thermokarst Model\\\\\n",
       "\t Warming and drying effects on tundra carbon balance                                                      \\\\\n",
       "\\end{tabular}\n"
      ],
      "text/markdown": [
       "\n",
       "A data.frame: 5 × 1\n",
       "\n",
       "| title &lt;chr&gt; |\n",
       "|---|\n",
       "| Conceptualization and Application of the Alaska Thermokarst Model                                         |\n",
       "| Warming and drying effects on tundra carbon balance                                                       |\n",
       "| Conceptualization and Application of Arctic Tundra Landscape Evolution Using the Alaska Thermokarst Model |\n",
       "| Conceptualization and Application of Arctic Tundra Landscape Evolution Using the Alaska Thermokarst Model |\n",
       "| Warming and drying effects on tundra carbon balance                                                       |\n",
       "\n"
      ],
      "text/plain": [
       "  title                                                                                                    \n",
       "1 Conceptualization and Application of the Alaska Thermokarst Model                                        \n",
       "2 Warming and drying effects on tundra carbon balance                                                      \n",
       "3 Conceptualization and Application of Arctic Tundra Landscape Evolution Using the Alaska Thermokarst Model\n",
       "4 Conceptualization and Application of Arctic Tundra Landscape Evolution Using the Alaska Thermokarst Model\n",
       "5 Warming and drying effects on tundra carbon balance                                                      "
      ]
     },
     "metadata": {},
     "output_type": "display_data"
    }
   ],
   "source": [
    "query(cn, list(\n",
    "  q = \"tundra permafrost+AND+formatType:METADATA+AND+-obsoletedBy:*\",\n",
    "  fl = \"title\",\n",
    "  rows = 5\n",
    "), as = \"data.frame\")"
   ]
  },
  {
   "cell_type": "code",
   "execution_count": null,
   "metadata": {},
   "outputs": [],
   "source": []
  }
 ],
 "metadata": {
  "kernelspec": {
   "display_name": "R",
   "language": "R",
   "name": "ir"
  },
  "language_info": {
   "codemirror_mode": "r",
   "file_extension": ".r",
   "mimetype": "text/x-r-source",
   "name": "R",
   "pygments_lexer": "r",
   "version": "3.6.3"
  }
 },
 "nbformat": 4,
 "nbformat_minor": 4
}
