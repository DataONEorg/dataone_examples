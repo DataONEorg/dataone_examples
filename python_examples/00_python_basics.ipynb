{
 "cells": [
  {
   "cell_type": "markdown",
   "metadata": {},
   "source": [
    "# Getting started with Python in DataONE\n",
    "\n",
    "The DataONE python libraries are located in GitHub at [github.com/DataONEorg/d1_python](https://github.com/DataONEorg/d1_python) with documentation at [dataone-python.readthedocs.io](https://dataone-python.readthedocs.io/en/latest/).\n",
    "\n",
    "## Installation\n",
    "\n",
    "Installation under a virtual environment is recommended. \n",
    "\n",
    "Pip:\n",
    "```\n",
    "pip install -U dateparser\n",
    "pip install -U dataone-common\n",
    "pip install -U dataone-libclient\n",
    "pip install -U dataone-scimeta\n",
    "pip install -U dataone-util\n",
    "```\n",
    "\n",
    "Developer installation for editing the library source:\n",
    "```\n",
    "git clone https://github.com/DataONEorg/d1_python.git\n",
    "cd d1_python\n",
    "pip install -U dateparser\n",
    "pip install -e lib_common/src\n",
    "pip install -e lib_client/src\n",
    "pip install -e utilities/src\n",
    "pip install -e lib_scimeta/src\n",
    "```\n",
    "\n",
    "## Getting a client\n",
    "\n",
    "The DataONE python clients provide an abstraction of the DataONE APIs enabling interaction with DataONE Member (MN) and Coordinating (CN) Nodes. Since the APIs of MNs and CNs differ, there are two basic types of client - one for MNs and one for CNs that derive from a common base. There are also different versions of the DataONE API in use by MNs, though these have mostly upgraded to version 2. CNs are all operating with the version 2 API.\n",
    "\n",
    "### Getting a MN client"
   ]
  },
  {
   "cell_type": "code",
   "execution_count": null,
   "metadata": {},
   "outputs": [],
   "source": [
    "import d1_client.mnclient_2_0\n",
    "\n",
    "# Base URL of the KNB MN\n",
    "base_url = \"https://knb.ecoinformatics.org/knb/d1/mn\"\n",
    "client = d1_client.mnclient_2_0.MemberNodeClient_2_0(base_url)\n",
    "\n",
    "# Call the getCapabilities API method\n",
    "# https://dataone-architecture-documentation.readthedocs.io/en/latest/apis/MN_APIs.html#MNCore.getCapabilities\n",
    "node = client.getCapabilities()\n",
    "\n",
    "# Response is an instance of a Node document that can be accessed through its properties\n",
    "# https://dataone-architecture-documentation.readthedocs.io/en/latest/apis/Types.html#Types.Node\n",
    "print(f\"{node.name:30} {node.baseURL}\")"
   ]
  },
  {
   "cell_type": "markdown",
   "metadata": {},
   "source": [
    "### Getting a CN client"
   ]
  },
  {
   "cell_type": "code",
   "execution_count": null,
   "metadata": {},
   "outputs": [],
   "source": [
    "import d1_client.cnclient_2_0\n",
    "\n",
    "# The production CN base URL:\n",
    "base_url = \"https://cn.dataone.org/cn\"\n",
    "client = d1_client.cnclient_2_0.CoordinatingNodeClient_2_0(base_url)\n",
    "\n",
    "# Call the listNodes API method\n",
    "# https://dataone-architecture-documentation.readthedocs.io/en/latest/apis/CN_APIs.html#CNCore.listNodes\n",
    "nodes = client.listNodes()\n",
    "\n",
    "# Response is a structure mirroring the API response message structure, \n",
    "# in this case a list of Node objects\n",
    "# https://dataone-architecture-documentation.readthedocs.io/en/latest/apis/Types.html#Types.NodeList\n",
    "for node in nodes.node:\n",
    "    print(f\"{node.name:30}\\n  {node.baseURL}\")\n"
   ]
  },
  {
   "cell_type": "markdown",
   "metadata": {},
   "source": [
    "## Handling Errors\n",
    "\n",
    "Errors arising from the APIs will generally result in a `DataONEException` which may include additional details about the error condition.\n",
    "\n",
    "For example, attempting to get System Metadata for a non-existing object:"
   ]
  },
  {
   "cell_type": "code",
   "execution_count": null,
   "metadata": {},
   "outputs": [],
   "source": [
    "# Try and retrieve non-existing system metadata\n",
    "import d1_common.types.exceptions\n",
    "\n",
    "identifier = \"something_bogus\"\n",
    "try:\n",
    "    sysmeta = client.getSystemMetadata(identifier)\n",
    "except d1_common.types.exceptions.DataONEException as e:\n",
    "    print(e)"
   ]
  },
  {
   "cell_type": "markdown",
   "metadata": {},
   "source": [
    "## Response and request message structure\n",
    "\n",
    "The python library parses and validates all XML messages returned from a node. They are deserialzed from XML to a python object (actually a PyXB wrapper) enabling access to the message properties.\n",
    "\n",
    "Properties are named the same as their descriptions in the documentation, and values can generally be accessed directly through the property name. A couple of exceptions are [`identifier`](https://dataone-architecture-documentation.readthedocs.io/en/latest/apis/Types.html#Types.Identifier) and [`subject`](https://dataone-architecture-documentation.readthedocs.io/en/latest/apis/Types.html#Types.Subject), the values for which are accessed through their `value()` method.\n",
    "\n",
    "Using the [`nodeList`]() response from the `CN.listNodes()` call above:"
   ]
  },
  {
   "cell_type": "code",
   "execution_count": null,
   "metadata": {},
   "outputs": [],
   "source": [
    "nodes.__class__.__name__"
   ]
  },
  {
   "cell_type": "markdown",
   "metadata": {},
   "source": [
    "A node list is a list of Node instances:"
   ]
  },
  {
   "cell_type": "code",
   "execution_count": null,
   "metadata": {},
   "outputs": [],
   "source": [
    "node = nodes.node[0]\n",
    "node.__class__.__name__"
   ]
  },
  {
   "cell_type": "markdown",
   "metadata": {},
   "source": [
    "The `name`, `baseURL` and `identifier` properties of the node documents can be retrieved. Note that the identifier value must be accessed through the value() property getter:"
   ]
  },
  {
   "cell_type": "code",
   "execution_count": null,
   "metadata": {},
   "outputs": [],
   "source": [
    "print(node.name)\n",
    "print(node.baseURL)\n",
    "print(node.identifier)\n",
    "print(node.identifier.value())"
   ]
  },
  {
   "cell_type": "code",
   "execution_count": null,
   "metadata": {},
   "outputs": [],
   "source": []
  }
 ],
 "metadata": {
  "kernelspec": {
   "display_name": "Python 3",
   "language": "python",
   "name": "python3"
  },
  "language_info": {
   "codemirror_mode": {
    "name": "ipython",
    "version": 3
   },
   "file_extension": ".py",
   "mimetype": "text/x-python",
   "name": "python",
   "nbconvert_exporter": "python",
   "pygments_lexer": "ipython3",
   "version": "3.7.8"
  }
 },
 "nbformat": 4,
 "nbformat_minor": 4
}
