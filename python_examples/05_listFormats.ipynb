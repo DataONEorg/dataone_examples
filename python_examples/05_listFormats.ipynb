{
 "cells": [
  {
   "cell_type": "markdown",
   "metadata": {},
   "source": [
    "# List Formats\n",
    "\n",
    "List the formatIds registered in DataONE using the listFormts method."
   ]
  },
  {
   "cell_type": "code",
   "execution_count": null,
   "metadata": {},
   "outputs": [],
   "source": [
    "# include some utility data and methods\n",
    "import notebook_utils as nbu\n",
    "\n",
    "# Import the library and create a client instance\n",
    "from d1_client import cnclient_2_0\n",
    "\n",
    "cn_base_url = \"https://cn.dataone.org/cn\"\n",
    "client = cnclient_2_0.CoordinatingNodeClient_2_0(base_url=cn_base_url)\n",
    "\n",
    "formats = client.listFormats()\n",
    "\n",
    "print(nbu.asXml(formats))"
   ]
  },
  {
   "cell_type": "code",
   "execution_count": null,
   "metadata": {},
   "outputs": [],
   "source": [
    "for fmt in formats.objectFormat:\n",
    "    print(fmt.formatId)\n",
    "    print(f\"  {fmt.formatType}\")\n",
    "    media_type = \"\"\n",
    "    if fmt.mediaType is not None:\n",
    "        media_type = fmt.mediaType.name\n",
    "    ext = \"\"\n",
    "    if fmt.extension is not None:\n",
    "        ext = fmt.extension\n",
    "    print(f\"  {ext:4} {media_type}\")\n",
    "    print(f\"  {fmt.formatName}\")\n",
    " "
   ]
  },
  {
   "cell_type": "code",
   "execution_count": null,
   "metadata": {},
   "outputs": [],
   "source": []
  }
 ],
 "metadata": {
  "kernelspec": {
   "display_name": "Python 3",
   "language": "python",
   "name": "python3"
  },
  "language_info": {
   "codemirror_mode": {
    "name": "ipython",
    "version": 3
   },
   "file_extension": ".py",
   "mimetype": "text/x-python",
   "name": "python",
   "nbconvert_exporter": "python",
   "pygments_lexer": "ipython3",
   "version": "3.8.5"
  }
 },
 "nbformat": 4,
 "nbformat_minor": 4
}
