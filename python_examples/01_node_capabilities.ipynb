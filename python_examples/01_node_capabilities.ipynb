{
 "cells": [
  {
   "cell_type": "markdown",
   "metadata": {},
   "source": [
    "# Viewing Node Capabilities\n",
    "\n",
    "Coordinating (CN) and particularly Member (MN) Nodes can vary in their support of the DataONE APIs.\n",
    "\n",
    "The [`getCapabilities`](https://dataone-architecture-documentation.readthedocs.io/en/latest/apis/MN_APIs.html#MNCore.getCapabilities) API method provides a report on the MN or CN implementation and the current reported operating parameters.\n",
    "\n",
    "The capabilities can be viewed with a simple `GET` request to the `node` path of the node `baseURL + version` which results in a [`Node`](https://dataone-architecture-documentation.readthedocs.io/en/latest/apis/Types2.html#v2_0.Types.Node) document (for CNs, omit the `node` from the path). For example:\n",
    "\n",
    "```\n",
    "curl 'https://knb.ecoinformatics.org/knb/d1/mn/v2/node'\n",
    "\n",
    "<?xml version=\"1.0\" encoding=\"UTF-8\" standalone=\"yes\"?>\n",
    "<ns3:node xmlns:ns2=\"http://ns.dataone.org/service/types/v1\" xmlns:ns3=\"http://ns.dataone.org/service/types/v2.0\" replicate=\"true\" synchronize=\"true\" type=\"mn\" state=\"up\">\n",
    "    <identifier>urn:node:KNB</identifier>\n",
    "    <name>KNB Data Repository</name>\n",
    "    <description>The Knowledge Network for Biocomplexity (KNB) is a national network intended to facilitate ecological and environmental research on biocomplexity.</description>\n",
    "    <baseURL>https://knb.ecoinformatics.org/knb/d1/mn</baseURL>\n",
    "    <services>\n",
    "        <service name=\"MNCore\" version=\"v1\" available=\"true\"/>\n",
    "        <service name=\"MNCore\" version=\"v2\" available=\"true\"/>\n",
    "        <service name=\"MNRead\" version=\"v1\" available=\"true\"/>\n",
    "        <service name=\"MNRead\" version=\"v2\" available=\"true\"/>\n",
    "        <service name=\"MNAuthorization\" version=\"v1\" available=\"true\"/>\n",
    "        <service name=\"MNAuthorization\" version=\"v2\" available=\"true\"/>\n",
    "        <service name=\"MNStorage\" version=\"v1\" available=\"true\"/>\n",
    "        <service name=\"MNStorage\" version=\"v2\" available=\"true\"/>\n",
    "        <service name=\"MNReplication\" version=\"v1\" available=\"true\"/>\n",
    "        <service name=\"MNReplication\" version=\"v2\" available=\"true\"/>\n",
    "        <service name=\"MNPackage\" version=\"v1\" available=\"true\"/>\n",
    "        <service name=\"MNPackage\" version=\"v2\" available=\"true\"/>\n",
    "        <service name=\"MNView\" version=\"v2\" available=\"true\"/>\n",
    "    </services>\n",
    "    <synchronization>\n",
    "        <schedule hour=\"*\" mday=\"*\" min=\"0/3\" mon=\"*\" sec=\"10\" wday=\"?\" year=\"*\"/>\n",
    "        <lastHarvested>2020-08-11T14:28:01.430+00:00</lastHarvested>\n",
    "        <lastCompleteHarvest>2020-08-11T14:28:01.430+00:00</lastCompleteHarvest>\n",
    "    </synchronization>\n",
    "    <ping success=\"true\" lastSuccess=\"2020-08-11T14:28:01.433+00:00\"/>\n",
    "    <subject>CN=urn:node:KNB,DC=dataone,DC=org</subject>\n",
    "    <contactSubject>CN=Christopher Jones A2108,O=Google,C=US,DC=cilogon,DC=org</contactSubject>\n",
    "    <property key=\"upgrade_status\">success</property>\n",
    "    <property key=\"metacat_version\">2.13.0</property>\n",
    "</ns3:node>\n",
    "```\n"
   ]
  },
  {
   "cell_type": "markdown",
   "metadata": {},
   "source": [
    "## Capabilities with the python client\n",
    "\n",
    "Using the python client to retrieve capabilities returns a parsed `Node` document:"
   ]
  },
  {
   "cell_type": "code",
   "execution_count": null,
   "metadata": {},
   "outputs": [],
   "source": [
    "# notebook utils contains some convenience methods, see notebook_utils/__init__.py\n",
    "import notebook_utils as nbu\n",
    "\n",
    "import d1_client.mnclient_2_0\n",
    "\n",
    "base_url = \"https://knb.ecoinformatics.org/knb/d1/mn\"\n",
    "client = d1_client.mnclient_2_0.MemberNodeClient_2_0(base_url)\n",
    "\n",
    "node = client.getCapabilities()\n",
    "\n",
    "# Response is an instance of a Node document that can be accessed through its properties\n",
    "# https://dataone-architecture-documentation.readthedocs.io/en/latest/apis/Types.html#Types.Node\n",
    "print(f\"Identifier:  {nbu.propertyStr(node.identifier)}\")\n",
    "print(f\"BaseURL:  {node.baseURL}\")\n",
    "print(f\"Subject:  {nbu.subjectStr(node.subject)}\")\n",
    "print(f\"Name:  {node.name}\")\n",
    "print(f\"Description:\\n  {node.description}\")\n",
    "print(\"Synchronization info:\")\n",
    "s = node.synchronization.schedule\n",
    "print(f\"  Last harvested: {node.synchronization.lastHarvested}\")\n",
    "print(f\"  Schedule: \")\n",
    "print(f\"    sec  min  hr   mday wday mon  year:\")\n",
    "print(f\"    {s.sec:5}{s.min:5}{s.hour:5}{s.mday:5}{s.wday:5}{s.mon:5}{s.year}\")"
   ]
  }
 ],
 "metadata": {
  "kernelspec": {
   "display_name": "Python 3",
   "language": "python",
   "name": "python3"
  },
  "language_info": {
   "codemirror_mode": {
    "name": "ipython",
    "version": 3
   },
   "file_extension": ".py",
   "mimetype": "text/x-python",
   "name": "python",
   "nbconvert_exporter": "python",
   "pygments_lexer": "ipython3",
   "version": "3.8.5"
  }
 },
 "nbformat": 4,
 "nbformat_minor": 4
}
