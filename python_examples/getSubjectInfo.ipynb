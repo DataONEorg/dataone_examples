{
 "cells": [
  {
   "cell_type": "markdown",
   "id": "f87473b4-5cca-4ae0-9da2-b1ffd5816d39",
   "metadata": {},
   "source": [
    "# Search for a subject"
   ]
  },
  {
   "cell_type": "markdown",
   "id": "d52cc088-807f-465c-bc38-219ba6cf0579",
   "metadata": {},
   "source": [
    "Return a subject using their ORCiD URL"
   ]
  },
  {
   "cell_type": "code",
   "execution_count": 1,
   "id": "caf3a9a3-300e-433f-9737-ca19262c78f0",
   "metadata": {},
   "outputs": [
    {
     "data": {
      "text/plain": [
       "<d1_common.types.generated.dataoneTypes_v1.Person at 0x7f7fc1665150>"
      ]
     },
     "execution_count": 1,
     "metadata": {},
     "output_type": "execute_result"
    }
   ],
   "source": [
    "from d1_client.cnclient import CoordinatingNodeClient\n",
    "from os import environ\n",
    "\n",
    "environ['D1_AUTH_TOKEN'] = \"TOKEN\"\n",
    "auth_token = environ.get('D1_AUTH_TOKEN')\n",
    "\n",
    "# Set the token in the request header\n",
    "options: dict = {\"headers\": {\"Authorization\": \"Bearer \" + auth_token}}\n",
    "# Create the Member Node Client\n",
    "CN_URL = 'https://cn.dataone.org/cn'\n",
    "client: CoordinatingNodeClient = CoordinatingNodeClient(CN_URL, **options)\n",
    "\n",
    "# Set your ORCID\n",
    "orcid: str = \"http://orcid.org/0000-0001-5828-6070\"\n",
    "\n",
    "# Get records\n",
    "subject = client.getSubjectInfo(orcid)\n",
    "\n",
    "# Display content of first record\n",
    "r = subject.content()[0]\n",
    "r"
   ]
  },
  {
   "cell_type": "code",
   "execution_count": 2,
   "id": "e1f090fb-828c-4bc0-8ea6-77d96d859c0f",
   "metadata": {},
   "outputs": [
    {
     "data": {
      "text/plain": [
       "'http://orcid.org/0000-0001-5828-6070'"
      ]
     },
     "execution_count": 2,
     "metadata": {},
     "output_type": "execute_result"
    }
   ],
   "source": [
    "subject.content()[0].content()[0].value()"
   ]
  },
  {
   "cell_type": "code",
   "execution_count": 16,
   "id": "37635eaf",
   "metadata": {},
   "outputs": [
    {
     "data": {
      "text/plain": [
       "[<d1_common.types.generated.dataoneTypes_v1.Subject at 0x7f7fc16f9490>,\n",
       " 'Ian M.',\n",
       " 'Nesbitt',\n",
       " 'nesbitt@nceas.ucsb.edu',\n",
       " <d1_common.types.generated.dataoneTypes_v1.Subject at 0x7f7fc16f9790>,\n",
       " <d1_common.types.generated.dataoneTypes_v1.Subject at 0x7f7fc16f9890>,\n",
       " <d1_common.types.generated.dataoneTypes_v1.Subject at 0x7f7fc16f99d0>,\n",
       " <d1_common.types.generated.dataoneTypes_v1.Subject at 0x7f7fc16f9910>,\n",
       " 0]"
      ]
     },
     "execution_count": 16,
     "metadata": {},
     "output_type": "execute_result"
    }
   ],
   "source": [
    "subject.content()[0].content()"
   ]
  },
  {
   "cell_type": "code",
   "execution_count": 17,
   "id": "5240a6aa-ded1-43cb-93f2-aa7d5a7521a2",
   "metadata": {},
   "outputs": [
    {
     "data": {
      "text/plain": [
       "'Ian M. Nesbitt'"
      ]
     },
     "execution_count": 17,
     "metadata": {},
     "output_type": "execute_result"
    }
   ],
   "source": [
    "first, last = subject.content()[0].content()[1], subject.content()[0].content()[2]\n",
    "\"%s %s\" % (first, last)"
   ]
  },
  {
   "cell_type": "code",
   "execution_count": null,
   "id": "56119079",
   "metadata": {},
   "outputs": [],
   "source": []
  }
 ],
 "metadata": {
  "kernelspec": {
   "display_name": "Python 3 (ipykernel)",
   "language": "python",
   "name": "python3"
  },
  "language_info": {
   "codemirror_mode": {
    "name": "ipython",
    "version": 3
   },
   "file_extension": ".py",
   "mimetype": "text/x-python",
   "name": "python",
   "nbconvert_exporter": "python",
   "pygments_lexer": "ipython3",
   "version": "3.7.15"
  }
 },
 "nbformat": 4,
 "nbformat_minor": 5
}
