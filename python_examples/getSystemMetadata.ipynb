{
 "cells": [
  {
   "cell_type": "markdown",
   "metadata": {},
   "source": [
    "# Get System Metadata\n",
    "\n",
    "[System metadata](https://dataone-architecture-documentation.readthedocs.io/en/latest/apis/Types.html#Types.SystemMetadata) is low level metadata associated with every object synchronized with DataONE.\n",
    "\n",
    "Retrieving the system metadata for an object is accomplished by the [`getSystemMetadata(id)`](https://dataone-architecture-documentation.readthedocs.io/en/latest/apis/MN_APIs.html#MNRead.getSystemMetadata) call which accepts a single parameter, the identifier of the object to retrieve.\n"
   ]
  },
  {
   "cell_type": "code",
   "execution_count": 1,
   "metadata": {},
   "outputs": [
    {
     "name": "stdout",
     "output_type": "stream",
     "text": [
      "<d1_common.types.generated.dataoneTypes_v2_0.SystemMetadata object at 0x7fdc4aad6520>\n",
      "<?xml version=\"1.0\" ?>\n",
      "<ns1:systemMetadata xmlns:ns1=\"http://ns.dataone.org/service/types/v2.0\">\n",
      "  <serialVersion>1</serialVersion>\n",
      "  <identifier>urn:uuid:f310f0cb-1f3d-464c-9274-5036fb8eb471</identifier>\n",
      "  <formatId>https://eml.ecoinformatics.org/eml-2.2.0</formatId>\n",
      "  <size>49777</size>\n",
      "  <checksum algorithm=\"MD5\">1106c26cc194813a64b1549cb0ca8093</checksum>\n",
      "  <submitter>http://orcid.org/0000-0001-6544-2035</submitter>\n",
      "  <rightsHolder>http://orcid.org/0000-0001-6544-2035</rightsHolder>\n",
      "  <accessPolicy>\n",
      "    <allow>\n",
      "      <subject>CN=knb-data-admins,DC=dataone,DC=org</subject>\n",
      "      <permission>read</permission>\n",
      "      <permission>write</permission>\n",
      "      <permission>changePermission</permission>\n",
      "    </allow>\n",
      "    <allow>\n",
      "      <subject>public</subject>\n",
      "      <permission>read</permission>\n",
      "    </allow>\n",
      "  </accessPolicy>\n",
      "  <replicationPolicy replicationAllowed=\"false\"/>\n",
      "  <obsoletes>urn:uuid:25332fbe-8b05-4c72-852f-c3ee3021da2f</obsoletes>\n",
      "  <archived>false</archived>\n",
      "  <dateUploaded>2020-08-07T04:36:01.55Z</dateUploaded>\n",
      "  <dateSysMetadataModified>2020-08-07T04:36:02.485Z</dateSysMetadataModified>\n",
      "  <originMemberNode>urn:node:KNB</originMemberNode>\n",
      "  <authoritativeMemberNode>urn:node:KNB</authoritativeMemberNode>\n",
      "  <replica>\n",
      "    <replicaMemberNode>urn:node:KNB</replicaMemberNode>\n",
      "    <replicationStatus>completed</replicationStatus>\n",
      "    <replicaVerified>2020-08-07T12:48:55.328Z</replicaVerified>\n",
      "  </replica>\n",
      "  <replica>\n",
      "    <replicaMemberNode>urn:node:CN</replicaMemberNode>\n",
      "    <replicationStatus>completed</replicationStatus>\n",
      "    <replicaVerified>2020-08-07T12:48:55.368Z</replicaVerified>\n",
      "  </replica>\n",
      "  <fileName>A_global_database_of_chlorophyll_and_water.xml</fileName>\n",
      "</ns1:systemMetadata>\n"
     ]
    }
   ],
   "source": [
    "# include some utility data and methods\n",
    "import notebook_utils as nbu\n",
    "\n",
    "# Import the library and create a client instance\n",
    "from d1_client import baseclient_2_0\n",
    "\n",
    "cn_base_url = \"https://cn.dataone.org/cn\"\n",
    "client = baseclient_2_0.DataONEBaseClient_2_0(cn_base_url)\n",
    "\n",
    "identifier = \"urn:uuid:f310f0cb-1f3d-464c-9274-5036fb8eb471\"\n",
    "\n",
    "sysmeta = client.getSystemMetadata(identifier)\n",
    "\n",
    "# System metadata object is returned\n",
    "print(sysmeta)\n",
    "\n",
    "# Show the xml representation of the system metadata\n",
    "print(nbu.asXml(sysmeta, max_lines=-1))"
   ]
  },
  {
   "cell_type": "markdown",
   "metadata": {},
   "source": [
    "## Accessing properties of the system metadata\n",
    "\n",
    "Properties of the system metadata can be accessed directly from the system metadata instance which is a [PyXB](https://pypi.org/project/PyXB/) object resulting from the deserialization of the XML message. Note some properties are complex (e.g. `identifier`) that are accessed through a `.value()` accessor. For example:\n"
   ]
  },
  {
   "cell_type": "code",
   "execution_count": 4,
   "metadata": {},
   "outputs": [
    {
     "name": "stdout",
     "output_type": "stream",
     "text": [
      "Identifier: urn:uuid:f310f0cb-1f3d-464c-9274-5036fb8eb471\n",
      "Series Identifier: \n",
      "Modified: 2020-08-07 04:36:02.485000+00:00\n",
      "Uploaded: 2020-08-07 04:36:01.550000+00:00\n",
      "Format ID: https://eml.ecoinformatics.org/eml-2.2.0\n",
      "Size: 49777\n",
      "Checksum: hash://md5/1106c26cc194813a64b1549cb0ca8093\n",
      "Origin Member Node: urn:node:KNB\n",
      "Authoritative Member Node: urn:node:KNB\n",
      "Obsoletes: urn:uuid:25332fbe-8b05-4c72-852f-c3ee3021da2f\n",
      "Obsoleted By: \n",
      "Access policy rules:\n",
      "  CN=knb-data-admins,DC=dataone,DC=org  can  read, write, changePermission\n",
      "  public  can  read\n",
      "Replication allowed: false\n",
      "Replicas of this object:\n",
      "  urn:node:KNB    completed  2020-08-07 12:48:55.328000+00:00\n",
      "  urn:node:CN     completed  2020-08-07 12:48:55.368000+00:00\n"
     ]
    }
   ],
   "source": [
    "print(f\"Identifier: {sysmeta.identifier.value()}\")\n",
    "print(f\"Series Identifier: {nbu.propertyStr(sysmeta.seriesId)}\")\n",
    "print(f\"Modified: {sysmeta.dateSysMetadataModified}\")\n",
    "print(f\"Uploaded: {sysmeta.dateUploaded}\")\n",
    "print(f\"Format ID: {sysmeta.formatId}\")\n",
    "print(f\"Size: {sysmeta.size}\")\n",
    "print(f\"Checksum: hash://{sysmeta.checksum.algorithm.lower()}/{sysmeta.checksum.value()}\")\n",
    "print(f\"Origin Member Node: {nbu.propertyStr(sysmeta.originMemberNode)}\")\n",
    "print(f\"Authoritative Member Node: {nbu.propertyStr(sysmeta.authoritativeMemberNode)}\")\n",
    "print(f\"Obsoletes: {nbu.propertyStr(sysmeta.obsoletes)}\")\n",
    "print(f\"Obsoleted By: {nbu.propertyStr(sysmeta.obsoletedBy)}\")\n",
    "print(\"Access policy rules:\")\n",
    "for rule in sysmeta.accessPolicy.allow:\n",
    "    print(f\"  {', '.join(map(lambda S: S.value(), rule.subject))}  can  {', '.join(rule.permission)}\")\n",
    "print(f\"Replication allowed: {sysmeta.replicationPolicy.replicationAllowed}\")\n",
    "print(\"Replicas of this object:\")\n",
    "for replica in sysmeta.replica:\n",
    "    print(f\"  {replica.replicaMemberNode.value():15} {replica.replicationStatus:10} {replica.replicaVerified}\")\n"
   ]
  },
  {
   "cell_type": "markdown",
   "metadata": {},
   "source": [
    "## Error Handling\n",
    "\n",
    "Errors resulting from a call to a DataONE API will normally result in a `DataONEException` which can include detail about the cause of the error."
   ]
  },
  {
   "cell_type": "code",
   "execution_count": 3,
   "metadata": {},
   "outputs": [
    {
     "name": "stdout",
     "output_type": "stream",
     "text": [
      "name: NotFound\n",
      "errorCode: 404\n",
      "detailCode: 1420\n",
      "description: No system metadata could be found for given PID: something_bogus\n",
      "traceInformation:\n",
      "  < Accept-Encoding: gzip, deflate\n",
      "  < Accept: */*\n",
      "  < Charset: utf-8\n",
      "  < Connection: keep-alive\n",
      "  < GET /cn/v2/meta/something_bogus HTTP/1.1\n",
      "  < Host: cn.dataone.org\n",
      "  < User-Agent: DataONE-Python/3.5.0 +http://dataone.org/\n",
      "  \n",
      "  > Access-Control-Allow-Credentials: true\n",
      "  > Access-Control-Allow-Headers: Authorization, Content-Type, Location, Content-Length, x-annotator-auth-token, Cache-Control\n",
      "  > Access-Control-Allow-Methods: POST, GET, OPTIONS, PUT, DELETE\n",
      "  > Access-Control-Allow-Origin: \n",
      "  > Access-Control-Expose-Headers: Content-Length, Content-Type, Location\n",
      "  > Connection: Keep-Alive\n",
      "  > Content-Length: 201\n",
      "  > Content-Type: text/xml\n",
      "  > Date: Tue, 11 Aug 2020 12:42:26 GMT\n",
      "  > HTTP/1.1 404 404\n",
      "  > Keep-Alive: timeout=5, max=100\n",
      "  > Server: Apache/2.4.43 (Ubuntu)\n",
      "  > Set-Cookie: JSESSIONID=6277636C70DDAE65E22AD9F30C3E8681; Path=/metacat; Secure; HttpOnly;SameSite=None;Secure\n",
      "  > Vary: Origin\n",
      "  \n",
      "  <?xml version=\"1.0\" encoding=\"UTF-8\"?><error detailCode=\"1420\" errorCode=\"404\" name=\"NotFound\">\n",
      "      <description>No system metadata could be found for given PID: something_bogus</description>\n",
      "  </error>\n",
      "identifier: <unset>\n",
      "nodeId: <unset>\n",
      "\n"
     ]
    }
   ],
   "source": [
    "# Try and retrieve non-existing system metadata\n",
    "import d1_common.types.exceptions\n",
    "\n",
    "identifier = \"something_bogus\"\n",
    "try:\n",
    "    sysmeta = client.getSystemMetadata(identifier)\n",
    "except d1_common.types.exceptions.DataONEException as e:\n",
    "    print(e)"
   ]
  },
  {
   "cell_type": "code",
   "execution_count": null,
   "metadata": {},
   "outputs": [],
   "source": []
  }
 ],
 "metadata": {
  "kernelspec": {
   "display_name": "Python 3",
   "language": "python",
   "name": "python3"
  },
  "language_info": {
   "codemirror_mode": {
    "name": "ipython",
    "version": 3
   },
   "file_extension": ".py",
   "mimetype": "text/x-python",
   "name": "python",
   "nbconvert_exporter": "python",
   "pygments_lexer": "ipython3",
   "version": "3.8.5"
  }
 },
 "nbformat": 4,
 "nbformat_minor": 4
}
