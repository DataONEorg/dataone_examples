{
 "cells": [
  {
   "cell_type": "markdown",
   "metadata": {
    "slideshow": {
     "slide_type": "slide"
    }
   },
   "source": [
    "# List Nodes in the Production Environment\n",
    "\n",
    "Connect to the DataONE production environment, retrieve the list of nodes, and print out the response document.\n",
    "\n",
    "Uses the [`CNCore.listNodes()`](https://dataone-architecture-documentation.readthedocs.io/en/latest/apis/CN_APIs.html#CNCore.listNodes) API."
   ]
  },
  {
   "cell_type": "code",
   "execution_count": null,
   "metadata": {
    "collapsed": false,
    "jupyter": {
     "outputs_hidden": false
    },
    "slideshow": {
     "slide_type": "slide"
    }
   },
   "outputs": [],
   "source": [
    "# notebook utils contains some convenience methods, see notebook_utils/__init__.py\n",
    "import notebook_utils as nbu\n",
    "\n",
    "from d1_client import cnclient_2_0\n",
    "\n",
    "cn_base_url = nbu.ENVIRONMENTS[\"production\"]\n",
    "print(\"Using base url of: {0}\\n\".format(cn_base_url))\n",
    "\n",
    "cncli = cnclient_2_0.CoordinatingNodeClient_2_0(base_url=cn_base_url)\n",
    "nodes = cncli.listNodes()\n",
    "\n",
    "print(\"XML Response:\")\n",
    "print(nbu.asXml(nodes, max_lines=40))"
   ]
  },
  {
   "cell_type": "markdown",
   "metadata": {},
   "source": [
    "## Formatted list of Nodes\n",
    "\n",
    "Print out a formatted list of Member Nodes in the environment"
   ]
  },
  {
   "cell_type": "code",
   "execution_count": null,
   "metadata": {
    "slideshow": {
     "slide_type": "slide"
    }
   },
   "outputs": [],
   "source": [
    "# Print a formatted list of nodes, showing only MNs:\n",
    "i = 0\n",
    "for node in nodes.node:\n",
    "    if node.type.upper() == \"MN\":\n",
    "        i += 1\n",
    "        print(f\"{i:02d}: {nbu.propertyStr(node.identifier):25}{node.baseURL:<55}{node.state:<5}{node.name}\")\n"
   ]
  },
  {
   "cell_type": "markdown",
   "metadata": {},
   "source": [
    "## Mapping the nodes\n",
    "\n",
    "Approximate locations of the nodes are available in the node document. Making a map of the nodes is straight forward:"
   ]
  },
  {
   "cell_type": "code",
   "execution_count": null,
   "metadata": {},
   "outputs": [],
   "source": [
    "from ipyleaflet import Map, Marker, MarkerCluster\n",
    "\n",
    "def getCNProperty(node, name):\n",
    "    #Note: 'property' is a reserved name in Pyxb, so it is renamed to \"property_\"\n",
    "    for p in node.property_:\n",
    "        if p.key == name:\n",
    "            return p.value()\n",
    "    return None\n",
    "\n",
    "m = Map(center=(0, -50), zoom=1)\n",
    "m.layout.width = \"100%\"\n",
    "m.layout.height = \"600px\"\n",
    "\n",
    "for node in nodes.node:\n",
    "    if node.type.upper() == \"MN\":\n",
    "        coord = getCNProperty(node, \"CN_location_lonlat\")\n",
    "        if coord is not None:\n",
    "            lon,lat = coord.split(\",\")\n",
    "            marker = Marker(location=(lat, lon), title=node.identifier.value(), draggable=False)\n",
    "            m.add_layer(marker)\n",
    "m"
   ]
  },
  {
   "cell_type": "code",
   "execution_count": null,
   "metadata": {},
   "outputs": [],
   "source": []
  }
 ],
 "metadata": {
  "celltoolbar": "Slideshow",
  "kernelspec": {
   "display_name": "Python 3",
   "language": "python",
   "name": "python3"
  },
  "language_info": {
   "codemirror_mode": {
    "name": "ipython",
    "version": 3
   },
   "file_extension": ".py",
   "mimetype": "text/x-python",
   "name": "python",
   "nbconvert_exporter": "python",
   "pygments_lexer": "ipython3",
   "version": "3.8.5"
  }
 },
 "nbformat": 4,
 "nbformat_minor": 4
}
