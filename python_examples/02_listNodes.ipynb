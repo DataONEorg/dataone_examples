{
 "cells": [
  {
   "cell_type": "markdown",
   "metadata": {
    "slideshow": {
     "slide_type": "slide"
    }
   },
   "source": [
    "# List Nodes in the Production Environment\n",
    "\n",
    "Connect to the DataONE production environment, retrieve the list of nodes, and print out the response document.\n",
    "\n",
    "Uses the [`CNCore.listNodes()`](https://dataone-architecture-documentation.readthedocs.io/en/latest/apis/CN_APIs.html#CNCore.listNodes) API."
   ]
  },
  {
   "cell_type": "code",
   "execution_count": 4,
   "metadata": {
    "jupyter": {
     "outputs_hidden": false
    },
    "slideshow": {
     "slide_type": "fragment"
    }
   },
   "outputs": [
    {
     "name": "stdout",
     "output_type": "stream",
     "text": [
      "Using base url of: https://cn.dataone.org/cn\n",
      "\n",
      "XML Response:\n",
      "<?xml version=\"1.0\" ?>\n",
      "<ns1:nodeList xmlns:ns1=\"http://ns.dataone.org/service/types/v2.0\">\n",
      "  <node replicate=\"false\" state=\"up\" synchronize=\"false\" type=\"cn\">\n",
      "    <identifier>urn:node:CN</identifier>\n",
      "    <name>cn</name>\n",
      "    <description>Round Robin Router for Production Coordinating Nodes</description>\n",
      "    <baseURL>https://cn.dataone.org/cn</baseURL>\n",
      "    <services>\n",
      "      <service available=\"true\" name=\"CNCore\" version=\"v1\"/>\n",
      "      <service available=\"true\" name=\"CNRead\" version=\"v1\"/>\n",
      "      <service available=\"true\" name=\"CNAuthorization\" version=\"v1\"/>\n",
      "      <service available=\"true\" name=\"CNIdentity\" version=\"v1\">\n",
      "        <restriction methodName=\"mapIdentity\">\n",
      "          <subject>CN=urn:node:KNB,DC=dataone,DC=org</subject>\n",
      "        </restriction>\n",
      "      </service>\n",
      "      <service available=\"true\" name=\"CNReplication\" version=\"v1\"/>\n",
      "      <service available=\"true\" name=\"CNRegister\" version=\"v1\"/>\n",
      "      <service available=\"true\" name=\"CNCore\" version=\"v2\"/>\n",
      "      <service available=\"true\" name=\"CNRead\" version=\"v2\"/>\n",
      "      <service available=\"true\" name=\"CNAuthorization\" version=\"v2\"/>\n",
      "      <service available=\"true\" name=\"CNIdentity\" version=\"v2\"/>\n",
      "      <service available=\"true\" name=\"CNReplication\" version=\"v2\"/>\n",
      "      <service available=\"true\" name=\"CNRegister\" version=\"v2\"/>\n",
      "      <service available=\"true\" name=\"CNDiagnostic\" version=\"v2\"/>\n",
      "      <service available=\"true\" name=\"CNView\" version=\"v2\"/>\n",
      "    </services>\n",
      "    <subject>CN=urn:node:CN,DC=dataone,DC=org</subject>\n",
      "    <contactSubject>CN=Robert P Waltz A904,O=Google,C=US,DC=cilogon,DC=org</contactSubject>\n",
      "    <property key=\"CN_operational_status\">operational</property>\n",
      "    <property key=\"CN_node_name\">CN</property>\n",
      "  </node>\n",
      "  <node replicate=\"false\" state=\"down\" synchronize=\"false\" type=\"cn\">\n",
      "    <identifier>urn:node:CNUNM1</identifier>\n",
      "    <name>cn-unm-1</name>\n",
      "    <description>University of New Mexico Coordinating Node</description>\n",
      "    <baseURL>https://cn-unm-1.dataone.org/cn</baseURL>\n",
      "    <services>\n",
      "      <service available=\"true\" name=\"CNCore\" version=\"v1\"/>\n",
      "      <service available=\"true\" name=\"CNRead\" version=\"v1\"/>\n",
      "...\n",
      "\n"
     ]
    }
   ],
   "source": [
    "# notebook utils contains some convenience methods, see notebook_utils/__init__.py\n",
    "import notebook_utils as nbu\n",
    "\n",
    "from d1_client import cnclient_2_0\n",
    "\n",
    "cn_base_url = nbu.ENVIRONMENTS[\"production\"]\n",
    "print(\"Using base url of: {0}\\n\".format(cn_base_url))\n",
    "\n",
    "cncli = cnclient_2_0.CoordinatingNodeClient_2_0(base_url=cn_base_url)\n",
    "nodes = cncli.listNodes()\n",
    "\n",
    "print(\"XML Response:\")\n",
    "print(nbu.asXml(nodes, max_lines=40))"
   ]
  },
  {
   "cell_type": "markdown",
   "metadata": {
    "slideshow": {
     "slide_type": "slide"
    }
   },
   "source": [
    "## Formatted list of Nodes\n",
    "\n",
    "Print out a formatted list of Member Nodes in the environment"
   ]
  },
  {
   "cell_type": "code",
   "execution_count": 5,
   "metadata": {
    "slideshow": {
     "slide_type": "fragment"
    }
   },
   "outputs": [
    {
     "name": "stdout",
     "output_type": "stream",
     "text": [
      "01: urn:node:KNB             https://knb.ecoinformatics.org/knb/d1/mn               up   KNB Data Repository\n",
      "02: urn:node:ESA             https://data.esa.org/esa/d1/mn                         up   ESA Data Registry\n",
      "03: urn:node:SANPARKS        https://dataknp.sanparks.org/sanparks/d1/mn            up   SANParks Data Repository\n",
      "04: urn:node:ORNLDAAC        http://mercury-ops2.ornl.gov/ornldaac/mn               down ORNL DAAC\n",
      "05: urn:node:LTER            https://gmn.lternet.edu/mn                             up   U.S. LTER Network\n",
      "06: urn:node:CDL             https://merritt-aws.cdlib.org:8084/mn                  up   UC3 Merritt\n",
      "07: urn:node:PISCO           https://data.piscoweb.org/catalog/d1/mn                up   PISCO MN\n",
      "08: urn:node:ONEShare        https://oneshare.unm.edu/mn                            up   ONEShare DataONE Member Node\n",
      "09: urn:node:mnORC1          https://mn-orc-1.dataone.org/knb/d1/mn                 up   DataONE ORC Dedicated Replica Server\n",
      "10: urn:node:mnUNM1          https://mn-unm-1.dataone.org/knb/d1/mn                 up   DataONE UNM Dedicated Replica Server\n",
      "11: urn:node:mnUCSB1         https://mn-ucsb-1.dataone.org/knb/d1/mn                up   DataONE UCSB Dedicated Replica Server\n",
      "12: urn:node:TFRI            https://172.16.1.243/tfri/d1/mn                        up   TFRI Data Catalog\n",
      "13: urn:node:USANPN          https://mynpn.usanpn.org/knb/d1/mn                     down USA National Phenology Network\n",
      "14: urn:node:SEAD            http://sead-curbee.ncsa.illinois.edu:8081/sead/rest/mn up   SEAD Virtual Archive\n",
      "15: urn:node:GOA             https://goa.nceas.ucsb.edu/goa/d1/mn                   up   Gulf of Alaska Data Portal\n",
      "16: urn:node:KUBI            https://bidataone.nhm.ku.edu/mn                        down University of Kansas - Biodiversity Institute\n",
      "17: urn:node:LTER_EUROPE     https://data.lter-europe.net/knb/d1/mn                 up   LTER Europe Member Node\n",
      "18: urn:node:DRYAD           https://datadryad.org/mn                               down Dryad Digital Repository\n",
      "19: urn:node:CLOEBIRD        http://dataone.ornith.cornell.edu/metacat/d1/mn        down Cornell Lab of Ornithology - eBird\n",
      "20: urn:node:EDACGSTORE      https://gstore.unm.edu/dataone/                        up   EDAC Gstore Repository\n",
      "21: urn:node:IOE             https://data.rcg.montana.edu/catalog/d1/mn             up   Montana IoE Data Repository\n",
      "22: urn:node:US_MPC          https://dataone-prod.pop.umn.edu/mn                    up   Minnesota Population Center\n",
      "23: urn:node:EDORA           http://mercury-ops2.ornl.gov/EDORA_MN/mn               down Environmental Data for the Oak Ridge Area (EDORA)\n",
      "24: urn:node:RGD             http://mercury-ops2.ornl.gov/RGD_MN/mn                 down Regional and Global biogeochemical dynamics Data (RGD)\n",
      "25: urn:node:GLEON           http://poseidon.limnology.wisc.edu/metacat/d1/mn       down GLEON Data Repository\n",
      "26: urn:node:IARC            https://trusty.iarc.uaf.edu/mn                         up   IARC Data Archive\n",
      "27: urn:node:NMEPSCOR        https://nmepscor-d1.unm.edu/mn                         up   NM EPSCoR Tier 4 Node\n",
      "28: urn:node:TERN            https://dataone.tern.org.au/mn                         up   TERN Australia\n",
      "29: urn:node:NKN             https://dataone.northwestknowledge.net/mn              up   Northwest Knowledge Network\n",
      "30: urn:node:USGS_SDC        https://usgs.ornl.gov/USGS_MN/mn/                      up   USGS Science Data Catalog\n",
      "31: urn:node:NRDC            https://dataone.sensor.nevada.edu/mn                   up   NRDC DataONE member node\n",
      "32: urn:node:NCEI            https://ncei-node.dataone.org/mn                       up   NOAA NCEI Environmental Data Archive\n",
      "33: urn:node:PPBIO           https://ppbiodata.inpa.gov.br/metacat/d1/mn            down PPBio\n",
      "34: urn:node:NEON            https://dataone.neonscience.org/metacat/d1/mn          up   NEON Member Node\n",
      "35: urn:node:TDAR            https://dataone.tdar.org/dataone/                      up   The Digital Archaeological Record\n",
      "36: urn:node:ARCTIC          https://arcticdata.io/metacat/d1/mn                    up   Arctic Data Center\n",
      "37: urn:node:BCODMO          https://www.bco-dmo.org/d1/mn                          up   Biological and Chemical Oceanography Data Management Office (BCO-DMO) \n",
      "38: urn:node:GRIIDC          https://dataone-prod.tamucc.edu/mn                     up   Gulf of Mexico Research Initiative Information and Data Cooperative (GRIIDC)\n",
      "39: urn:node:R2R             https://r2r-node.dataone.org/mn                        up   Rolling Deck to Repository (R2R)\n",
      "40: urn:node:EDI             https://gmn.edirepository.org/mn                       up   Environmental Data Initiative\n",
      "41: urn:node:UIC             https://dataone.lib.uic.edu/metacat/d1/mn              up   A Member Node for University of Illinois at Chicago.\n",
      "42: urn:node:RW              https://dataone.researchworkspace.com/mn               up   Research Workspace\n",
      "43: urn:node:FEMC            https://dataone.uvm.edu/mn                             up   Forest Ecosystem Monitoring Cooperative Member Node\n",
      "44: urn:node:OTS_NDC         https://metacat.ots.ac.cr/metacat/d1/mn                down Organization for Tropical Studies - Neotropical Data Center\n",
      "45: urn:node:PANGAEA         https://pangaea-orc-1.dataone.org/mn                   up   PANGAEA\n",
      "46: urn:node:ESS_DIVE        https://data.ess-dive.lbl.gov/catalog/d1/mn            up   ESS-DIVE: Deep Insight for Earth Science Data\n",
      "47: urn:node:CAS_CERN        https://data-en.cern.ac.cn/metacat/d1/mn               up   Chinese Ecosystem Research Network (CERN)\n",
      "48: urn:node:FIGSHARE_CARY   https://gmn.dataone.org/cary/figshare                  up   Cary Institute of Ecosystem Studies (powered by Figshare)\n",
      "49: urn:node:IEDA_EARTHCHEM  https://gmn.dataone.org/ieda/earthchem                 up   IEDA EARTHCHEM\n",
      "50: urn:node:IEDA_USAP       https://gmn.dataone.org/ieda/usap                      up   IEDA USAP\n",
      "51: urn:node:IEDA_MGDL       https://gmn.dataone.org/ieda/mgdl                      up   IEDA MGDL\n",
      "52: urn:node:METAGRIL        https://gril.flsh.usherbrooke.ca/metacat/d1/mn         up   metaGRIL\n",
      "53: urn:node:ARM             https://gmn.dataone.org/arm                            up   ARM - Atmospheric Radiation Measurement Research Facility\n",
      "54: urn:node:CA_OPC          https://opc.dataone.org/metacat/d1/mn                  up   California Ocean Protection Council Data Repository\n"
     ]
    }
   ],
   "source": [
    "# Print a formatted list of nodes, showing only MNs:\n",
    "i = 0\n",
    "for node in nodes.node:\n",
    "    if node.type.upper() == \"MN\":\n",
    "        i += 1\n",
    "        print(f\"{i:02d}: {nbu.propertyStr(node.identifier):25}{node.baseURL:<55}{node.state:<5}{node.name}\")\n"
   ]
  },
  {
   "cell_type": "markdown",
   "metadata": {
    "slideshow": {
     "slide_type": "slide"
    }
   },
   "source": [
    "## Mapping the nodes\n",
    "\n",
    "Approximate locations of the nodes are available in the node document. Making a map of the nodes is straight forward:"
   ]
  },
  {
   "cell_type": "code",
   "execution_count": 6,
   "metadata": {
    "slideshow": {
     "slide_type": "fragment"
    }
   },
   "outputs": [
    {
     "data": {
      "application/vnd.jupyter.widget-view+json": {
       "model_id": "0274394e5bcc4af5979386d0a2165e9c",
       "version_major": 2,
       "version_minor": 0
      },
      "text/plain": [
       "Map(center=[0, -50], controls=(ZoomControl(options=['position', 'zoom_in_text', 'zoom_in_title', 'zoom_out_tex…"
      ]
     },
     "metadata": {},
     "output_type": "display_data"
    }
   ],
   "source": [
    "from ipyleaflet import Map, Marker, MarkerCluster\n",
    "\n",
    "def getCNProperty(node, name):\n",
    "    #Note: 'property' is a reserved name in Pyxb, so it is renamed to \"property_\"\n",
    "    for p in node.property_:\n",
    "        if p.key == name:\n",
    "            return p.value()\n",
    "    return None\n",
    "\n",
    "m = Map(center=(0, -50), zoom=1)\n",
    "m.layout.width = \"100%\"\n",
    "m.layout.height = \"600px\"\n",
    "\n",
    "for node in nodes.node:\n",
    "    if node.type.upper() == \"MN\":\n",
    "        coord = getCNProperty(node, \"CN_location_lonlat\")\n",
    "        if coord is not None:\n",
    "            lon,lat = coord.split(\",\")\n",
    "            marker = Marker(location=(lat, lon), title=node.identifier.value(), draggable=False)\n",
    "            m.add_layer(marker)\n",
    "m"
   ]
  },
  {
   "cell_type": "code",
   "execution_count": null,
   "metadata": {},
   "outputs": [],
   "source": []
  }
 ],
 "metadata": {
  "celltoolbar": "Slideshow",
  "kernelspec": {
   "display_name": "Python 3",
   "language": "python",
   "name": "python3"
  },
  "language_info": {
   "codemirror_mode": {
    "name": "ipython",
    "version": 3
   },
   "file_extension": ".py",
   "mimetype": "text/x-python",
   "name": "python",
   "nbconvert_exporter": "python",
   "pygments_lexer": "ipython3",
   "version": "3.7.8"
  }
 },
 "nbformat": 4,
 "nbformat_minor": 4
}
