{
 "cells": [
  {
   "cell_type": "markdown",
   "metadata": {},
   "source": [
    "# Create System Metadata\n",
    "\n",
    "An instance of System Metadata is created for arbitrary values to demonstrate programmatic construction of system metadata using the python libraries.\n",
    "\n",
    "First gather the values to be used for the system metadata. Normally these would be obtained by examining a file."
   ]
  },
  {
   "cell_type": "code",
   "execution_count": 8,
   "metadata": {},
   "outputs": [],
   "source": [
    "import notebook_utils as nbu\n",
    "from d1_common.types import dataoneTypes\n",
    "import hashlib\n",
    "\n",
    "def checksumOfObject( o ):\n",
    "    '''Compute the SHA-256 checksum of an arbitrary thing.\n",
    "    '''\n",
    "    m = hashlib.sha256()\n",
    "    if isinstance(o, bytes):\n",
    "        m.update(o)\n",
    "    elif isinstance(o, str):\n",
    "        m.update( bytes(o, \"utf-8\") )\n",
    "    else:\n",
    "        m.update( bytes( o ) )\n",
    "    return m.hexdigest()\n",
    "\n",
    "\n",
    "# Create a dictionary of properties to use\n",
    "source = {\n",
    "    \"identifier\":\"test_identifier_01\",\n",
    "    \"seriesIdentifier\":\"test\",\n",
    "    \"formatId\": \"eml://ecoinformatics.org/eml-2.0.1\",\n",
    "    \"mediaType\": \"text/xml\",\n",
    "    \"fileName\":\"metadata.xml\",\n",
    "    \"size\":17181,\n",
    "    \"checksum\": checksumOfObject(\"arbitrary thing to create checksum\"),\n",
    "    \"checksum_algorithm\": \"SHA256\",\n",
    "    \"submitter\":\"CN=urn:node:cnStageUNM1,DC=dataone,DC=org\",\n",
    "    \"rightsHolder\":\"CN=testRightsHolder,DC=dataone,DC=org\",\n",
    "    \"obsoletes\":\"test_identifier_00\",\n",
    "    \"obsoletedBy\": None,\n",
    "}\n"
   ]
  },
  {
   "cell_type": "markdown",
   "metadata": {},
   "source": [
    "Given the dictionary of values, create the system metadata and print the resulting XML."
   ]
  },
  {
   "cell_type": "code",
   "execution_count": 9,
   "metadata": {},
   "outputs": [
    {
     "name": "stdout",
     "output_type": "stream",
     "text": [
      "<?xml version=\"1.0\" ?>\n",
      "<ns1:systemMetadata xmlns:ns1=\"http://ns.dataone.org/service/types/v2.0\">\n",
      "  <identifier>test_identifier_01</identifier>\n",
      "  <formatId>eml://ecoinformatics.org/eml-2.0.1</formatId>\n",
      "  <size>17181</size>\n",
      "  <checksum algorithm=\"SHA256\">2daf664721aa2139df9831d9ea7f8e95f6483992ee96489181cf7041363f9e7c</checksum>\n",
      "  <submitter>CN=urn:node:cnStageUNM1,DC=dataone,DC=org</submitter>\n",
      "  <rightsHolder>CN=testRightsHolder,DC=dataone,DC=org</rightsHolder>\n",
      "  <accessPolicy>\n",
      "    <allow>\n",
      "      <subject>Public</subject>\n",
      "      <permission>read</permission>\n",
      "    </allow>\n",
      "  </accessPolicy>\n",
      "  <replicationPolicy numberReplicas=\"1\" replicationAllowed=\"true\"/>\n",
      "  <obsoletes>test_identifier_00</obsoletes>\n",
      "  <mediaType name=\"text/xml\"/>\n",
      "  <fileName>metadata.xml</fileName>\n",
      "</ns1:systemMetadata>\n",
      "\n"
     ]
    }
   ],
   "source": [
    "system_metadata = dataoneTypes.systemMetadata()\n",
    "\n",
    "# Set with public read-only defaults\n",
    "# enable public read by adding read permission for the \"Public\" user\n",
    "access_policy = dataoneTypes.accessPolicy()\n",
    "access_rule = dataoneTypes.accessRule()\n",
    "access_rule.subject.append(\"Public\")\n",
    "access_rule.permission.append(dataoneTypes.Permission('read'))\n",
    "access_policy.append(access_rule)\n",
    "system_metadata.accessPolicy = access_policy\n",
    "\n",
    "# Replication Policy\n",
    "replication_policy = dataoneTypes.replicationPolicy()\n",
    "replication_policy.replicationAllowed = True\n",
    "replication_policy.numberReplicas = 1\n",
    "system_metadata.replicationPolicy = replication_policy\n",
    "\n",
    "# Obsolescence\n",
    "system_metadata.obsoletes = source.get(\"obsoletes\", None)\n",
    "system_metadata.obsoletedBy = source.get(\"obsoletedBy\", None)\n",
    "\n",
    "# Add properties\n",
    "system_metadata.identifier = source.get(\"identifier\")\n",
    "system_metadata.seriesIdentifier = source.get(\"seriesIdentifier\")\n",
    "system_metadata.formatId = source.get(\"formatId\")\n",
    "system_metadata.size = source.get(\"size\")\n",
    "\n",
    "checksum = dataoneTypes.checksum( source.get(\"checksum\") )\n",
    "checksum.algorithm = source.get(\"checksum_algorithm\")\n",
    "system_metadata.checksum = checksum\n",
    "\n",
    "system_metadata.submitter = source.get(\"submitter\")\n",
    "system_metadata.rightsHolder = source.get(\"rightsHolder\")\n",
    "\n",
    "#Media type information\n",
    "media_type = dataoneTypes.mediaType()\n",
    "media_type.name = source.get(\"mediaType\")\n",
    "system_metadata.mediaType = media_type\n",
    "system_metadata.fileName = source.get(\"fileName\")\n",
    "\n",
    "print(nbu.asXml(system_metadata))"
   ]
  },
  {
   "cell_type": "code",
   "execution_count": null,
   "metadata": {},
   "outputs": [],
   "source": []
  }
 ],
 "metadata": {
  "kernelspec": {
   "display_name": "Python 3",
   "language": "python",
   "name": "python3"
  },
  "language_info": {
   "codemirror_mode": {
    "name": "ipython",
    "version": 3
   },
   "file_extension": ".py",
   "mimetype": "text/x-python",
   "name": "python",
   "nbconvert_exporter": "python",
   "pygments_lexer": "ipython3",
   "version": "3.7.8"
  }
 },
 "nbformat": 4,
 "nbformat_minor": 4
}
