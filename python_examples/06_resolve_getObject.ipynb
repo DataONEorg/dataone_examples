{
 "cells": [
  {
   "cell_type": "markdown",
   "metadata": {},
   "source": [
    "# Resolve and Retrieve an object\n",
    "\n",
    "Content in DataONE may be replicated across multiple locations. The workflow for retrieving an object given its identifier is typically:\n",
    "\n",
    "1. Resolve the object to determine which nodes it is available on\n",
    "2. Retrieve the bytes of the object"
   ]
  },
  {
   "cell_type": "code",
   "execution_count": null,
   "metadata": {},
   "outputs": [],
   "source": [
    "import notebook_utils as nbu\n",
    "\n",
    "from d1_client import cnclient_2_0\n",
    "from d1_client import mnclient_2_0\n",
    "\n",
    "cncli = cnclient_2_0.CoordinatingNodeClient_2_0()\n",
    "\n",
    "identifier = \"ark:/13030/m5dz07z6/2/cadwsap-s3400113-001.xml\"\n"
   ]
  },
  {
   "cell_type": "markdown",
   "metadata": {},
   "source": [
    "## Bundling package component download\n",
    "\n",
    "A common scenario is for data and metadata to be aggregated in a data package. In this case, downloading the package can be achieved by resolving and downloading each of the package components. Alternatively, the [`MN.getPackage`](https://dataone-architecture-documentation.readthedocs.io/en/latest/apis/MN_APIs.html#MNPackage.getPackage) method may be used. This method will return a .zip file of the package in the BagIt structure."
   ]
  },
  {
   "cell_type": "code",
   "execution_count": null,
   "metadata": {},
   "outputs": [],
   "source": [
    "import notebook_utils as nbu\n",
    "\n",
    "from d1_client import cnclient_2_0\n",
    "package_identifier = \"ark:/13030/m5dz07z6/2/mrt-dataone-map.rdf\"\n"
   ]
  }
 ],
 "metadata": {
  "kernelspec": {
   "display_name": "Python 3",
   "language": "python",
   "name": "python3"
  },
  "language_info": {
   "codemirror_mode": {
    "name": "ipython",
    "version": 3
   },
   "file_extension": ".py",
   "mimetype": "text/x-python",
   "name": "python",
   "nbconvert_exporter": "python",
   "pygments_lexer": "ipython3",
   "version": "3.8.5"
  }
 },
 "nbformat": 4,
 "nbformat_minor": 4
}
