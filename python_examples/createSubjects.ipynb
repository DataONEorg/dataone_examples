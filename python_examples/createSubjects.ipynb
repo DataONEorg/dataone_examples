{
 "cells": [
  {
   "cell_type": "markdown",
   "id": "f87473b4-5cca-4ae0-9da2-b1ffd5816d39",
   "metadata": {},
   "source": [
    "# Create subjects from a list"
   ]
  },
  {
   "cell_type": "markdown",
   "id": "d52cc088-807f-465c-bc38-219ba6cf0579",
   "metadata": {},
   "source": [
    "Dict of subject names with ORCiD URLs"
   ]
  },
  {
   "cell_type": "code",
   "execution_count": 46,
   "id": "caf3a9a3-300e-433f-9737-ca19262c78f0",
   "metadata": {},
   "outputs": [],
   "source": [
    "from d1_client.cnclient import CoordinatingNodeClient\n",
    "from d1_common.types.dataoneTypes import Subject, person\n",
    "from os import environ\n",
    "\n",
    "AUTH_TOKEN = {\n",
    "    'prod': 'TOKEN',\n",
    "    'stage': 'TOKEN',\n",
    "}\n",
    "CN_URL = {\n",
    "    'prod': 'https://cn.dataone.org/cn',\n",
    "    'stage': 'https://cn-stage.test.dataone.org/cn',\n",
    "}\n",
    "CN = 'stage'\n",
    "environ['D1_AUTH_TOKEN'] = AUTH_TOKEN[CN]\n",
    "auth_token = environ.get('D1_AUTH_TOKEN')\n",
    "\n",
    "# Set the token in the request header\n",
    "options: dict = {\"headers\": {\"Authorization\": \"Bearer \" + auth_token}}\n",
    "# Create the Member Node Client\n",
    "client: CoordinatingNodeClient = CoordinatingNodeClient(CN_URL[CN], **options)"
   ]
  },
  {
   "cell_type": "markdown",
   "id": "627edef8",
   "metadata": {},
   "source": [
    "## Test user"
   ]
  },
  {
   "cell_type": "code",
   "execution_count": 26,
   "id": "8cd6ae82",
   "metadata": {},
   "outputs": [
    {
     "name": "stdout",
     "output_type": "stream",
     "text": [
      "Error processing Ian Nesbitt (http://orcid.org/0000-0001-5828-6070)\n",
      "name: IdentifierNotUnique\n",
      "errorCode: 409\n",
      "description: Entry uid=http://orcid.org/0000-0001-5828-6070,dc=dataone,dc=org already exists\n"
     ]
    }
   ],
   "source": [
    "id_dict = {'http://orcid.org/0000-0001-5828-6070': ['Ian Nesbitt', 'nesbitt@nceas.ucsb.edu']}\n",
    "for sid in id_dict:\n",
    "    name = id_dict[sid][0]\n",
    "    name_list = name.split(' ')\n",
    "    given_name = id_dict[sid][0].split()[:-1]\n",
    "    family_name = id_dict[sid][0].split()[-1]\n",
    "    s = Subject(sid)\n",
    "    p = person()\n",
    "    p.subject = s\n",
    "    p.givenName = given_name\n",
    "    p.familyName = family_name\n",
    "    p.email = 'nesbitt@nceas.ucsb.edu'\n",
    "    try:\n",
    "        client.registerAccount(p)\n",
    "    except Exception as e:\n",
    "        err_n = str(e).split('\\n')[0]\n",
    "        err_c = str(e).split('\\n')[1]\n",
    "        err_d = str(e).split('\\n')[3]\n",
    "        print('Error processing %s (%s)\\n%s\\n%s\\n%s' % (name, sid, err_n, err_c, err_d))"
   ]
  },
  {
   "cell_type": "code",
   "execution_count": 44,
   "id": "9b20e518",
   "metadata": {},
   "outputs": [],
   "source": [
    "id_list = {\n",
    "    'http://orcid.org/0000-0002-6014-8942': ['Timothy Pasch', 'timothy.pasch@und.edu'],\n",
    "}"
   ]
  },
  {
   "cell_type": "markdown",
   "id": "35a29e23",
   "metadata": {},
   "source": [
    "## Create users from list"
   ]
  },
  {
   "cell_type": "code",
   "execution_count": 31,
   "id": "e1f090fb-828c-4bc0-8ea6-77d96d859c0f",
   "metadata": {},
   "outputs": [
    {
     "name": "stdout",
     "output_type": "stream",
     "text": [
      "http://orcid.org/0000-0002-6014-8942 ['Timothy'] Pasch\n",
      "Error processing Timothy Pasch (http://orcid.org/0000-0002-6014-8942)\n",
      "name: IdentifierNotUnique\n",
      "errorCode: 409\n",
      "description: Entry uid=http://orcid.org/0000-0002-6014-8942,dc=dataone,dc=org already exists\n",
      "http://orcid.org/0000-0001-6699-2020 ['Alexander'] Brand\n",
      "Error processing Alexander Brand (http://orcid.org/0000-0001-6699-2020)\n",
      "name: IdentifierNotUnique\n",
      "errorCode: 409\n",
      "description: Entry uid=http://orcid.org/0000-0001-6699-2020,dc=dataone,dc=org already exists\n",
      "http://orcid.org/0000-0002-2137-4103 ['Olaf'] Kuhlke\n",
      "Error processing Olaf Kuhlke (http://orcid.org/0000-0002-2137-4103)\n",
      "name: IdentifierNotUnique\n",
      "errorCode: 409\n",
      "description: Entry uid=http://orcid.org/0000-0002-2137-4103,dc=dataone,dc=org already exists\n",
      "http://orcid.org/0000-0003-0910-5688 ['Emma'] Verstraete\n",
      "Error processing Emma Verstraete (http://orcid.org/0000-0003-0910-5688)\n",
      "name: IdentifierNotUnique\n",
      "errorCode: 409\n",
      "description: Entry uid=http://orcid.org/0000-0003-0910-5688,dc=dataone,dc=org already exists\n",
      "http://orcid.org/0000-0003-3276-071X ['Alexandra'] Zachwieja\n",
      "Error processing Alexandra Zachwieja (http://orcid.org/0000-0003-3276-071X)\n",
      "name: IdentifierNotUnique\n",
      "errorCode: 409\n",
      "description: Entry uid=http://orcid.org/0000-0003-3276-071X,dc=dataone,dc=org already exists\n",
      "http://orcid.org/0000-0001-8948-5582 ['Reihaneh'] Hosseini\n",
      "Error processing Reihaneh Hosseini (http://orcid.org/0000-0001-8948-5582)\n",
      "name: IdentifierNotUnique\n",
      "errorCode: 409\n",
      "description: Entry uid=http://orcid.org/0000-0001-8948-5582,dc=dataone,dc=org already exists\n",
      "http://orcid.org/0000-0002-1601-3354 ['Joseph'] Vantassel\n",
      "Error processing Joseph Vantassel (http://orcid.org/0000-0002-1601-3354)\n",
      "name: IdentifierNotUnique\n",
      "errorCode: 409\n",
      "description: Entry uid=http://orcid.org/0000-0002-1601-3354,dc=dataone,dc=org already exists\n",
      "http://orcid.org/0000-0001-9540-1824 ['Sherif'] Abdelaziz\n",
      "Error processing Sherif Abdelaziz (http://orcid.org/0000-0001-9540-1824)\n",
      "name: IdentifierNotUnique\n",
      "errorCode: 409\n",
      "description: Entry uid=http://orcid.org/0000-0001-9540-1824,dc=dataone,dc=org already exists\n",
      "http://orcid.org/0000-0002-3221-2353 ['Aymane'] Ahajjam\n",
      "Error processing Aymane Ahajjam (http://orcid.org/0000-0002-3221-2353)\n",
      "name: IdentifierNotUnique\n",
      "errorCode: 409\n",
      "description: Entry uid=http://orcid.org/0000-0002-3221-2353,dc=dataone,dc=org already exists\n",
      "http://orcid.org/0009-0008-4129-1576 ['Evan'] Shook\n",
      "Error processing Evan Shook (http://orcid.org/0009-0008-4129-1576)\n",
      "name: IdentifierNotUnique\n",
      "errorCode: 409\n",
      "description: Entry uid=http://orcid.org/0009-0008-4129-1576,dc=dataone,dc=org already exists\n",
      "http://orcid.org/0009-0002-0289-1292 ['Robert'] Chance\n",
      "Error processing Robert Chance (http://orcid.org/0009-0002-0289-1292)\n",
      "name: IdentifierNotUnique\n",
      "errorCode: 409\n",
      "description: Entry uid=http://orcid.org/0009-0002-0289-1292,dc=dataone,dc=org already exists\n",
      "http://orcid.org/0000-0002-5356-8105 ['Emmanuel'] Chukwuemeka\n",
      "Error processing Emmanuel Chukwuemeka (http://orcid.org/0000-0002-5356-8105)\n",
      "name: IdentifierNotUnique\n",
      "errorCode: 409\n",
      "description: Entry uid=http://orcid.org/0000-0002-5356-8105,dc=dataone,dc=org already exists\n",
      "http://orcid.org/0000-0003-1550-5098 ['Jaakko'] Putkonen\n",
      "Error processing Jaakko Putkonen (http://orcid.org/0000-0003-1550-5098)\n",
      "name: IdentifierNotUnique\n",
      "errorCode: 409\n",
      "description: Entry uid=http://orcid.org/0000-0003-1550-5098,dc=dataone,dc=org already exists\n",
      "http://orcid.org/0000-0003-3066-5217 ['Jordan'] Krueger\n",
      "Error processing Jordan Krueger (http://orcid.org/0000-0003-3066-5217)\n",
      "name: IdentifierNotUnique\n",
      "errorCode: 409\n",
      "description: Entry uid=http://orcid.org/0000-0003-3066-5217,dc=dataone,dc=org already exists\n",
      "http://orcid.org/0009-0007-1989-0663 ['Hayden'] Patterson\n",
      "Error processing Hayden Patterson (http://orcid.org/0009-0007-1989-0663)\n",
      "name: IdentifierNotUnique\n",
      "errorCode: 409\n",
      "description: Entry uid=http://orcid.org/0009-0007-1989-0663,dc=dataone,dc=org already exists\n"
     ]
    }
   ],
   "source": [
    "for orcid in id_list:\n",
    "    name = id_list[orcid][0]\n",
    "    nameL = name.split(' ')\n",
    "    givenNameL = id_list[orcid][0].split()[:-1]\n",
    "    familyName = id_list[orcid][0].split()[-1]\n",
    "    email = id_list[orcid][1]\n",
    "    s = Subject(orcid)\n",
    "    p = person()\n",
    "    p.subject = s\n",
    "    p.givenName = givenNameL\n",
    "    p.familyName = familyName\n",
    "    p.email = email\n",
    "    p.verified = True\n",
    "    \n",
    "    n = 1\n",
    "    listLen = len(id_list[orcid])\n",
    "    while n < listLen:\n",
    "        p.subject = id_list[orcid][n]\n",
    "        n += 1\n",
    "    print('%s %s %s' % (p.content()[0].value(), p.content()[1], p.content()[2]))\n",
    "    if True:\n",
    "        try:\n",
    "            client.registerAccount(p)\n",
    "        except Exception as e:\n",
    "            err_n = str(e).split('\\n')[0]\n",
    "            err_c = str(e).split('\\n')[1]\n",
    "            err_d = str(e).split('\\n')[3]\n",
    "            print('Error processing %s (%s)\\n%s\\n%s\\n%s' % (name, orcid, err_n, err_c, err_d))"
   ]
  },
  {
   "cell_type": "code",
   "execution_count": 33,
   "id": "6f16a998",
   "metadata": {},
   "outputs": [
    {
     "data": {
      "text/plain": [
       "<d1_common.types.generated.dataoneTypes_v1.SubjectInfo at 0x7fe1b1388610>"
      ]
     },
     "execution_count": 33,
     "metadata": {},
     "output_type": "execute_result"
    }
   ],
   "source": [
    "srch = client.getSubjectInfo(orcid)\n",
    "srch"
   ]
  },
  {
   "cell_type": "code",
   "execution_count": 35,
   "id": "16401a2a",
   "metadata": {},
   "outputs": [
    {
     "data": {
      "text/plain": [
       "<d1_common.types.generated.dataoneTypes_v1.Person at 0x7fe1b1388850>"
      ]
     },
     "execution_count": 35,
     "metadata": {},
     "output_type": "execute_result"
    }
   ],
   "source": [
    "srch.content()[0]"
   ]
  },
  {
   "cell_type": "code",
   "execution_count": null,
   "id": "b3374890",
   "metadata": {},
   "outputs": [],
   "source": []
  }
 ],
 "metadata": {
  "kernelspec": {
   "display_name": "Python 3 (ipykernel)",
   "language": "python",
   "name": "python3"
  },
  "language_info": {
   "codemirror_mode": {
    "name": "ipython",
    "version": 3
   },
   "file_extension": ".py",
   "mimetype": "text/x-python",
   "name": "python",
   "nbconvert_exporter": "python",
   "pygments_lexer": "ipython3",
   "version": "3.7.15"
  }
 },
 "nbformat": 4,
 "nbformat_minor": 5
}
