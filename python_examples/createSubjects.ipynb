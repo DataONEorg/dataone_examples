{
 "cells": [
  {
   "cell_type": "markdown",
   "id": "f87473b4-5cca-4ae0-9da2-b1ffd5816d39",
   "metadata": {},
   "source": [
    "# Create subjects from a list"
   ]
  },
  {
   "cell_type": "markdown",
   "id": "d52cc088-807f-465c-bc38-219ba6cf0579",
   "metadata": {},
   "source": [
    "Register users for DataONE from a `dict` of ORCiD URLs with subject names"
   ]
  },
  {
   "cell_type": "code",
   "execution_count": 1,
   "id": "caf3a9a3-300e-433f-9737-ca19262c78f0",
   "metadata": {},
   "outputs": [],
   "source": [
    "from d1_client.cnclient import CoordinatingNodeClient\n",
    "from d1_common.types.dataoneTypes import Subject, person\n",
    "from os import environ\n",
    "\n",
    "AUTH_TOKEN = {\n",
    "    'prod': 'TOKEN',\n",
    "    'stage': 'TOKEN',\n",
    "    'sandbox': 'TOKEN',\n",
    "}\n",
    "CN_URL = {\n",
    "    'prod': 'https://cn.dataone.org/cn',\n",
    "    'stage': 'https://cn-stage.test.dataone.org/cn',\n",
    "    'sandbox': 'https://cn-sandbox.test.dataone.org/cn',\n",
    "}\n",
    "# The environment to use (change this to 'prod' to run on the production CN)\n",
    "CN = 'stage'\n",
    "\n",
    "environ['D1_AUTH_TOKEN'] = AUTH_TOKEN[CN]\n",
    "auth_token = environ.get('D1_AUTH_TOKEN')\n",
    "\n",
    "# Set the token in the request header\n",
    "options: dict = {\"headers\": {\"Authorization\": \"Bearer \" + str(auth_token)}}\n",
    "# Create the Member Node Client\n",
    "client: CoordinatingNodeClient = CoordinatingNodeClient(CN_URL[CN], **options)"
   ]
  },
  {
   "cell_type": "markdown",
   "id": "627edef8",
   "metadata": {},
   "source": [
    "## Test user\n",
    "If you've set your auth token correctly for the given `CN` environment, this should succeed in authenticating but fail to create the user (Ian already exists in the database)"
   ]
  },
  {
   "cell_type": "code",
   "execution_count": 2,
   "id": "8cd6ae82",
   "metadata": {},
   "outputs": [
    {
     "name": "stdout",
     "output_type": "stream",
     "text": [
      "Error processing Ian Nesbitt (http://orcid.org/0000-0001-5828-6070)\n",
      "name: IdentifierNotUnique\n",
      "errorCode: 409\n",
      "description: Entry uid=http://orcid.org/0000-0001-5828-6070,dc=dataone,dc=org already exists\n"
     ]
    }
   ],
   "source": [
    "id_dict = {'http://orcid.org/0000-0001-5828-6070': ['Ian Nesbitt', 'nesbitt@nceas.ucsb.edu']}\n",
    "for sid in id_dict:\n",
    "    name = id_dict[sid][0]\n",
    "    name_list = name.split(' ')\n",
    "    given_name = id_dict[sid][0].split()[:-1]\n",
    "    family_name = id_dict[sid][0].split()[-1]\n",
    "    email = id_dict[sid][1]\n",
    "    s = Subject(sid)\n",
    "    p = person()\n",
    "    p.subject = s\n",
    "    p.givenName = given_name\n",
    "    p.familyName = family_name\n",
    "    #p.email = email\n",
    "    try:\n",
    "        client.registerAccount(p)\n",
    "    except Exception as e:\n",
    "        err_n = str(e).split('\\n')[0]\n",
    "        err_c = str(e).split('\\n')[1]\n",
    "        err_d = str(e).split('\\n')[3]\n",
    "        print('Error processing %s (%s)\\n%s\\n%s\\n%s' % (name, sid, err_n, err_c, err_d))"
   ]
  },
  {
   "cell_type": "markdown",
   "id": "d5d0d6d6",
   "metadata": {},
   "source": [
    "# List of users to create\n",
    "```python\n",
    "# format for list of users:\n",
    "{\n",
    "    'orcid': ['full name', 'email'],\n",
    "    'orcid2': ['full name2', 'email2']\n",
    "}\n",
    "```"
   ]
  },
  {
   "cell_type": "code",
   "execution_count": 3,
   "id": "9b20e518",
   "metadata": {},
   "outputs": [],
   "source": [
    "id_list = {\n",
    "    'http://orcid.org/0000-0001-5828-6070': ['Ian Nesbitt', ''],\n",
    "}"
   ]
  },
  {
   "cell_type": "markdown",
   "id": "35a29e23",
   "metadata": {},
   "source": [
    "## Create users from list"
   ]
  },
  {
   "cell_type": "code",
   "execution_count": null,
   "id": "e1f090fb-828c-4bc0-8ea6-77d96d859c0f",
   "metadata": {},
   "outputs": [],
   "source": [
    "for orcid in id_list:\n",
    "    name = id_list[orcid][0]\n",
    "    nameL = name.split(' ')\n",
    "    givenNameL = id_list[orcid][0].split()[:-1]\n",
    "    familyName = id_list[orcid][0].split()[-1]\n",
    "    email = id_list[orcid][1]\n",
    "    s = Subject(orcid)\n",
    "    p = person()\n",
    "    p.subject = s\n",
    "    p.givenName = givenNameL\n",
    "    p.familyName = familyName\n",
    "    #p.email = email\n",
    "    p.verified = True\n",
    "    \n",
    "    n = 1\n",
    "    listLen = len(id_list[orcid])\n",
    "    # while n < listLen:\n",
    "    #     p.subject = id_list[orcid][n]\n",
    "    #     n += 1\n",
    "    print('%s %s %s' % (p.content()[0].value(), p.content()[1], p.content()[2]))\n",
    "    if True:\n",
    "        try:\n",
    "            client.registerAccount(p)\n",
    "        except Exception as e:\n",
    "            err_n = str(e).split('\\n')[0]\n",
    "            err_c = str(e).split('\\n')[1]\n",
    "            err_d = str(e).split('\\n')[3]\n",
    "            print('Error processing %s (%s)\\n%s\\n%s\\n%s' % (name, orcid, err_n, err_c, err_d))"
   ]
  },
  {
   "cell_type": "markdown",
   "id": "86d768cd",
   "metadata": {},
   "source": [
    "# Check that a user exists in the database\n",
    "This runs a database search for the last user in the `for` loop above. A successful run will return a `SubjectInfo` object."
   ]
  },
  {
   "cell_type": "code",
   "execution_count": 5,
   "id": "6f16a998",
   "metadata": {},
   "outputs": [
    {
     "data": {
      "text/plain": [
       "<d1_common.types.generated.dataoneTypes_v1.SubjectInfo at 0x7fea186b1910>"
      ]
     },
     "execution_count": 5,
     "metadata": {},
     "output_type": "execute_result"
    }
   ],
   "source": [
    "srch = client.getSubjectInfo(orcid)\n",
    "srch"
   ]
  },
  {
   "cell_type": "markdown",
   "id": "58a1156d",
   "metadata": {},
   "source": [
    "This returns the ORCiD of user returned by the above search. It should match the last one in the `id_list` above."
   ]
  },
  {
   "cell_type": "code",
   "execution_count": 6,
   "id": "16401a2a",
   "metadata": {},
   "outputs": [
    {
     "data": {
      "text/plain": [
       "'http://orcid.org/0000-0001-5828-6070'"
      ]
     },
     "execution_count": 6,
     "metadata": {},
     "output_type": "execute_result"
    }
   ],
   "source": [
    "srch.content()[0].content()[0].value()"
   ]
  },
  {
   "cell_type": "code",
   "execution_count": null,
   "metadata": {},
   "outputs": [],
   "source": []
  }
 ],
 "metadata": {
  "kernelspec": {
   "display_name": "Python 3 (ipykernel)",
   "language": "python",
   "name": "python3"
  },
  "language_info": {
   "codemirror_mode": {
    "name": "ipython",
    "version": 3
   },
   "file_extension": ".py",
   "mimetype": "text/x-python",
   "name": "python",
   "nbconvert_exporter": "python",
   "pygments_lexer": "ipython3",
   "version": "3.7.15"
  }
 },
 "nbformat": 4,
 "nbformat_minor": 5
}
