{
 "cells": [
  {
   "cell_type": "markdown",
   "metadata": {},
   "source": [
    "# Listing objects in an Environment\n",
    "\n",
    "All objects in an environment are cataloged by the Coordinating Nodes. The [`CN.listObjects()`](https://dataone-architecture-documentation.readthedocs.io/en/latest/apis/CN_APIs.html#CNRead.listObjects) method provides access to this list. Since there can be a large number of objects in an environment, the page size of a response is limited, and iterating through all the objects requires paging requests.\n",
    "\n",
    "In the following example, the page size is limited to 5 entries:"
   ]
  },
  {
   "cell_type": "code",
   "execution_count": null,
   "metadata": {
    "collapsed": false,
    "jupyter": {
     "outputs_hidden": false
    }
   },
   "outputs": [],
   "source": [
    "# notebook utils contains some convenience methods, see notebook_utils/__init__.py\n",
    "import notebook_utils as nbu\n",
    "\n",
    "# Import the library and create a client instance\n",
    "from d1_client import baseclient_2_0\n",
    "\n",
    "cn_base_url = \"https://cn.dataone.org/cn\"\n",
    "client = baseclient_2_0.DataONEBaseClient_2_0(cn_base_url)\n",
    "response = client.listObjects( count=5, start=0 )\n",
    "\n",
    "print(\"XML Response:\")\n",
    "print(nbu.asXml(response, max_lines=25))"
   ]
  },
  {
   "cell_type": "markdown",
   "metadata": {},
   "source": [
    "Show the response, printing out each entry."
   ]
  },
  {
   "cell_type": "code",
   "execution_count": null,
   "metadata": {
    "collapsed": false,
    "jupyter": {
     "outputs_hidden": false
    }
   },
   "outputs": [],
   "source": [
    "def printResults(response):\n",
    "    print(f\"Total objects: {response.total} Start: {response.start}  Page size: {response.count}\\n\")\n",
    "    counter = response.start\n",
    "    for entry in response.objectInfo:\n",
    "        print(f\"{counter:08d}: \")\n",
    "        print(f\"            PID: {nbu.propertyStr(entry.identifier)}\")\n",
    "        print(f\"       formatId: {nbu.propertyStr(entry.formatId)}\")\n",
    "        print(f\"           size: {nbu.propertyStr(entry.size)}\")\n",
    "        print(f\"  date_modified: {nbu.propertyStr(entry.dateSysMetadataModified)}\")\n",
    "        print(\"\")\n",
    "        counter += 1\n",
    "\n",
    "printResults(response)"
   ]
  },
  {
   "cell_type": "markdown",
   "metadata": {},
   "source": [
    "## Add a date filter\n",
    "\n",
    "Add a `fromDate` parameter, so `listObjects` will respond with the list of entries that were modified between one day ago and now."
   ]
  },
  {
   "cell_type": "code",
   "execution_count": null,
   "metadata": {
    "collapsed": false,
    "jupyter": {
     "outputs_hidden": false
    }
   },
   "outputs": [],
   "source": [
    "import dateparser\n",
    "\n",
    "start_date = dateparser.parse('last week UTC', \n",
    "                              settings={'RETURN_AS_TIMEZONE_AWARE': True})\n",
    "\n",
    "response = client.listObjects( \n",
    "    count=5, \n",
    "    start=0,\n",
    "    fromDate=start_date\n",
    ")\n",
    "\n",
    "printResults( response )\n"
   ]
  },
  {
   "cell_type": "markdown",
   "metadata": {},
   "source": [
    "## Paging the response\n",
    "\n",
    "The server will limit the total number of records returned. When requesting large sets of entries, the \n",
    "response will need to be examined to determine if additional pages of results should be requested."
   ]
  },
  {
   "cell_type": "code",
   "execution_count": null,
   "metadata": {
    "collapsed": false,
    "jupyter": {
     "outputs_hidden": false
    }
   },
   "outputs": [],
   "source": [
    "start_date = dateparser.parse('two weeks ago UTC', \n",
    "                              settings={'RETURN_AS_TIMEZONE_AWARE': True})\n",
    "end_date = dateparser.parse('one week ago UTC', \n",
    "                              settings={'RETURN_AS_TIMEZONE_AWARE': True})\n",
    "max_to_retrieve = 25  # limit total numbe of entries to download\n",
    "\n",
    "params = {\n",
    "    \"count\": 3, #specify a small page size\n",
    "    \"start\": 0,\n",
    "    \"fromDate\": start_date,\n",
    "    \"toDate\": end_date,\n",
    "}\n",
    "response = client.listObjects( **params )\n",
    "\n",
    "if max_to_retrieve > response.total:\n",
    "    max_to_retrieve = response.total\n",
    "\n",
    "printResults( response )\n",
    "\n",
    "num_retrieved = response.count\n",
    "while num_retrieved < max_to_retrieve:\n",
    "    params['start'] += response.count\n",
    "    response = client.listObjects( **params )\n",
    "    num_retrieved += response.count\n",
    "    printResults( response )\n",
    "    "
   ]
  },
  {
   "cell_type": "code",
   "execution_count": null,
   "metadata": {},
   "outputs": [],
   "source": []
  }
 ],
 "metadata": {
  "kernelspec": {
   "display_name": "Python 3",
   "language": "python",
   "name": "python3"
  },
  "language_info": {
   "codemirror_mode": {
    "name": "ipython",
    "version": 3
   },
   "file_extension": ".py",
   "mimetype": "text/x-python",
   "name": "python",
   "nbconvert_exporter": "python",
   "pygments_lexer": "ipython3",
   "version": "3.8.5"
  }
 },
 "nbformat": 4,
 "nbformat_minor": 4
}
