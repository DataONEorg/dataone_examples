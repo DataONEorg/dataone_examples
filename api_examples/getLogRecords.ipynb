{
 "cells": [
  {
   "cell_type": "markdown",
   "metadata": {},
   "source": [
    "# Access Logs\n",
    "\n",
    "MNs log object access and other object events. These logs are collected and aggregated by CNs. Depending on CN and MN policies, the logs can be retrieved from CNs and or MNs.\n",
    "\n",
    "In general, logs are access controlled, and can only be retrieved by DataONE subjects that have elevated access to the related objects. In particular, this means that giving public read access to an object does not cause its log to also become publicly accessible.\n",
    "\n",
    "Logs are retrieved from the CN with\n",
    "\n",
    "[CNCore.getLogRecords(session[, fromDate][, toDate][, event][, idFilter][, start][, count]) → Log](https://releases.dataone.org/online/api-documentation-v2.0/apis/CN_APIs.html#CNCore.getLogRecords)\n",
    "\n",
    "and from the MN with\n",
    "\n",
    "[MNCore.getLogRecords(session[, fromDate][, toDate][, event][, idFilter][, start=0][, count=1000]) → Log](https://releases.dataone.org/online/api-documentation-v2.0/apis/MN_APIs.html#MNCore.getLogRecords)\n",
    "\n",
    "Logs from the MN will contain only records captured on that MN, while logs retrieved from the CN will contain records potentially aggregated across multiple MNs that may hold replicas of the objects.\n",
    "\n",
    "`getLogRecords()` returns a [Log](https://releases.dataone.org/online/api-documentation-v2.0/apis/Types.html#Types.Log) instance which contain a sequence of [LogEntry](https://releases.dataone.org/online/api-documentation-v2.0/apis/Types.html#Types.LogEntry) instances.\n",
    "\n",
    "The types of events that are logged include `create`, `read`, `update`, `delete`, `replicate`, `synchronization_failed`, and `replication_failed`.\n",
    "\n",
    "The client and user information that can potentially be logged for events includes `ipAddress`, `userAgent`, `subject`, `dateLogged` and `nodeIdentifier`.\n"
   ]
  },
  {
   "cell_type": "markdown",
   "metadata": {},
   "source": [
    "## Python Client Library example\n",
    "\n",
    "### Create a CN or MN client\n",
    "\n",
    "In this example, we create a CN client. We authenticate by supplying a certificate. This makes logs available for objects for which the subject(s) in the the certificate have elevated access."
   ]
  },
  {
   "cell_type": "code",
   "execution_count": 10,
   "metadata": {
    "collapsed": true
   },
   "outputs": [],
   "source": [
    "import d1_client.cnclient_2_0\n",
    "\n",
    "cn_client = d1_client.cnclient_2_0.CoordinatingNodeClient_2_0(\n",
    "  'https://cn-stage.test.dataone.org/cn',\n",
    "  cert_pem_path='./urn_node_myMemberNode.pem',\n",
    "  cert_key_path='./urn_node_myMemberNode.key',\n",
    ")"
   ]
  },
  {
   "cell_type": "markdown",
   "metadata": {},
   "source": [
    "### Call getLogRecords()\n",
    "\n",
    "As there can potentially be a large number of log records available, the result is returned in batches, as designated by the `start` and `count` parameters. The total number of records is available in the `total` member of the returned `Log` instance.\n",
    "\n",
    "We also provide a [log record iterator](logRecordIterator) which enables more convenient retrieval of the results from `getLogRecords()`."
   ]
  },
  {
   "cell_type": "code",
   "execution_count": 11,
   "metadata": {
    "collapsed": false
   },
   "outputs": [],
   "source": [
    "log_pyxb = cn_client.getLogRecords(start=0, count=10)"
   ]
  },
  {
   "cell_type": "markdown",
   "metadata": {},
   "source": [
    "### Iterate over the results\n",
    "\n",
    "Since we specified a count of 10 in the `getLogRecords()` call, we will receive at most 10 results.\n",
    "\n",
    "Now we iterate over the sequence of `LogEntry` instances in the returned `Log` and print some selected values."
   ]
  },
  {
   "cell_type": "code",
   "execution_count": 13,
   "metadata": {
    "collapsed": false
   },
   "outputs": [
    {
     "name": "stdout",
     "output_type": "stream",
     "text": [
      "testCnGetLogRecords_Aggregating_urnnodemnTestUIC_obj2 - 64.106.40.19 - CN=urn:node:cnStageUNM1,DC=dataone,DC=org - create\n",
      "testCnGetLogRecords_Access_public_urnnodemnTestUIC - 64.106.40.19 - CN=urn:node:cnStageUNM1,DC=dataone,DC=org - create\n",
      "testUpdateSystemMetadata_MutableAccessPolicy_20173214724315 - 64.106.40.19 - CN=testRightsHolder,DC=dataone,DC=org - create\n",
      "testUpdateSystemMetadata_MutableAccessPolicy_20173214724315 - 64.106.40.19 - CN=testRightsHolder,DC=dataone,DC=org - updateSystemMetadata\n",
      "testUpdateSystemMetadata_MutableAccessPolicy_20173214724315 - 128.111.54.76 - CN=urn:node:cnStageUCSB1,DC=dataone,DC=org - read\n",
      "testUpdateSystemMetadata_MutableAccessPolicy_20173214724315 - 128.111.54.76 - CN=urn:node:cnStageUCSB1,DC=dataone,DC=org - read\n",
      "testCnGetLogRecords_Access_public_urnnodemnTestUIC - 128.111.54.76 - CN=urn:node:cnStageUCSB1,DC=dataone,DC=org - read\n",
      "testCnGetLogRecords_Access_public_urnnodemnTestUIC - 128.111.54.76 - CN=urn:node:cnStageUCSB1,DC=dataone,DC=org - read\n",
      "testCnGetLogRecords_Aggregating_urnnodemnTestUIC_obj2 - 128.111.54.76 - CN=urn:node:cnStageUCSB1,DC=dataone,DC=org - read\n",
      "testCnGetLogRecords_Aggregating_urnnodemnTestUIC_obj2 - 128.111.54.76 - CN=urn:node:cnStageUCSB1,DC=dataone,DC=org - read\n",
      "testUpdateSystemMetadata_MutableAccessPolicy_201732215246674 - 64.106.40.19 - CN=testRightsHolder,DC=dataone,DC=org - create\n",
      "testUpdateSystemMetadata_MutableAccessPolicy_201732215246674 - 64.106.40.19 - CN=testRightsHolder,DC=dataone,DC=org - updateSystemMetadata\n",
      "testUpdateSystemMetadata_MutableAccessPolicy_201732215246674 - 128.111.54.76 - CN=urn:node:cnStageUCSB1,DC=dataone,DC=org - read\n",
      "testUpdateSystemMetadata_MutableAccessPolicy_201732215246674 - 128.111.54.76 - CN=urn:node:cnStageUCSB1,DC=dataone,DC=org - read\n",
      "testUpdateSystemMetadata_MutableAccessPolicy_20173304421459 - 64.106.40.19 - CN=testRightsHolder,DC=dataone,DC=org - create\n",
      "testUpdateSystemMetadata_MutableAccessPolicy_20173304421459 - 64.106.40.19 - CN=testRightsHolder,DC=dataone,DC=org - updateSystemMetadata\n",
      "testUpdateSystemMetadata_MutableAccessPolicy_20173304421459 - 128.111.54.76 - CN=urn:node:cnStageUCSB1,DC=dataone,DC=org - read\n",
      "testUpdateSystemMetadata_MutableAccessPolicy_20173304421459 - 128.111.54.76 - CN=urn:node:cnStageUCSB1,DC=dataone,DC=org - read\n",
      "testUpdateSystemMetadata_MutableAccessPolicy_201741225112981 - 64.106.40.19 - CN=testRightsHolder,DC=dataone,DC=org - create\n",
      "testUpdateSystemMetadata_MutableAccessPolicy_201741225112981 - 64.106.40.19 - CN=testRightsHolder,DC=dataone,DC=org - updateSystemMetadata\n",
      "testUpdateSystemMetadata_MutableAccessPolicy_201741225112981 - 128.111.54.76 - CN=urn:node:cnStageUCSB1,DC=dataone,DC=org - read\n",
      "testUpdateSystemMetadata_MutableAccessPolicy_201741225112981 - 128.111.54.76 - CN=urn:node:cnStageUCSB1,DC=dataone,DC=org - read\n",
      "testUpdateSystemMetadata_MutableAccessPolicy_2017422377816 - 64.106.40.19 - CN=testRightsHolder,DC=dataone,DC=org - create\n",
      "testUpdateSystemMetadata_MutableAccessPolicy_2017422377816 - 64.106.40.19 - CN=testRightsHolder,DC=dataone,DC=org - updateSystemMetadata\n",
      "testUpdateSystemMetadata_MutableAccessPolicy_2017422377816 - 128.111.54.76 - CN=urn:node:cnStageUCSB1,DC=dataone,DC=org - read\n",
      "testUpdateSystemMetadata_MutableAccessPolicy_2017422377816 - 128.111.54.76 - CN=urn:node:cnStageUCSB1,DC=dataone,DC=org - read\n",
      "testV1CreateV2Delete_20163552133344 - 128.111.54.76 - CN=urn:node:cnStageUCSB1,DC=dataone,DC=org - create\n",
      "testV1CreateV2Delete_20163552133344 - 128.111.54.76 - CN=urn:node:cnStageUCSB1,DC=dataone,DC=org - updateSystemMetadata\n",
      "testUpdateSystemMetadata_MutableAccessPolicy_20174222168257 - 64.106.40.19 - CN=testRightsHolder,DC=dataone,DC=org - create\n",
      "testUpdateSystemMetadata_MutableAccessPolicy_20174222168257 - 64.106.40.19 - CN=testRightsHolder,DC=dataone,DC=org - updateSystemMetadata\n",
      "testUpdateSystemMetadata_MutableAccessPolicy_20174222168257 - 128.111.54.76 - CN=urn:node:cnStageUCSB1,DC=dataone,DC=org - read\n",
      "testUpdateSystemMetadata_MutableAccessPolicy_20174222168257 - 128.111.54.76 - CN=urn:node:cnStageUCSB1,DC=dataone,DC=org - read\n",
      "testUpdateSystemMetadata_MutableAccessPolicy_2017431352475 - 64.106.40.19 - CN=testRightsHolder,DC=dataone,DC=org - create\n",
      "testUpdateSystemMetadata_MutableAccessPolicy_2017431352475 - 64.106.40.19 - CN=testRightsHolder,DC=dataone,DC=org - updateSystemMetadata\n",
      "testUpdateSystemMetadata_MutableAccessPolicy_2017431352475 - 128.111.54.76 - CN=urn:node:cnStageUCSB1,DC=dataone,DC=org - read\n",
      "testUpdateSystemMetadata_MutableAccessPolicy_2017431352475 - 128.111.54.76 - CN=urn:node:cnStageUCSB1,DC=dataone,DC=org - read\n",
      "testV1CreateV2Delete_201742132755 - 128.111.54.76 - CN=urn:node:cnStageUCSB1,DC=dataone,DC=org - create\n",
      "testV1CreateV2Delete_201742132755 - 128.111.54.76 - CN=urn:node:cnStageUCSB1,DC=dataone,DC=org - updateSystemMetadata\n",
      "testV1CreateV2Delete_201742132755 - 128.111.54.76 - CN=urn:node:cnStageUCSB1,DC=dataone,DC=org - updateSystemMetadata\n",
      "testUpdateSystemMetadata_MutableAccessPolicy_201743221647357 - 64.106.40.19 - CN=testRightsHolder,DC=dataone,DC=org - create\n",
      "testUpdateSystemMetadata_MutableAccessPolicy_201743221647357 - 64.106.40.19 - CN=testRightsHolder,DC=dataone,DC=org - updateSystemMetadata\n",
      "testUpdateSystemMetadata_MutableAccessPolicy_201743221647357 - 128.111.54.76 - CN=urn:node:cnStageUCSB1,DC=dataone,DC=org - read\n",
      "testUpdateSystemMetadata_MutableAccessPolicy_201743221647357 - 128.111.54.76 - CN=urn:node:cnStageUCSB1,DC=dataone,DC=org - read\n",
      "testUpdateSystemMetadata_MutableAccessPolicy_2017441343877 - 64.106.40.19 - CN=testRightsHolder,DC=dataone,DC=org - create\n",
      "testUpdateSystemMetadata_MutableAccessPolicy_2017441343877 - 64.106.40.19 - CN=testRightsHolder,DC=dataone,DC=org - updateSystemMetadata\n",
      "testUpdateSystemMetadata_MutableAccessPolicy_2017441343877 - 128.111.54.76 - CN=urn:node:cnStageUCSB1,DC=dataone,DC=org - read\n",
      "testUpdateSystemMetadata_MutableAccessPolicy_2017441343877 - 128.111.54.76 - CN=urn:node:cnStageUCSB1,DC=dataone,DC=org - read\n",
      "testUpdateSystemMetadata_MutableAccessPolicy_201744221710550 - 64.106.40.19 - CN=testRightsHolder,DC=dataone,DC=org - create\n",
      "testUpdateSystemMetadata_MutableAccessPolicy_201744221710550 - 64.106.40.19 - CN=testRightsHolder,DC=dataone,DC=org - updateSystemMetadata\n",
      "testUpdateSystemMetadata_MutableAccessPolicy_201744221710550 - 128.111.54.76 - CN=urn:node:cnStageUCSB1,DC=dataone,DC=org - read\n",
      "testUpdateSystemMetadata_MutableAccessPolicy_201744221710550 - 128.111.54.76 - CN=urn:node:cnStageUCSB1,DC=dataone,DC=org - read\n",
      "testV1CreateV2GetSysmeta_201635321323436 - 128.111.54.76 - CN=urn:node:cnStageUCSB1,DC=dataone,DC=org - create\n",
      "testV1CreateV2GetSysmeta_201635321323436 - 128.111.54.76 - CN=urn:node:cnStageUCSB1,DC=dataone,DC=org - updateSystemMetadata\n",
      "testV1CreateV2GetSysmeta_201635321323436 - 128.111.54.76 - CN=urn:node:cnStageUCSB1,DC=dataone,DC=org - updateSystemMetadata\n",
      "testV1CreateV2GetSysmeta_201635321323436 - 128.111.54.76 - CN=urn:node:cnStageUCSB1,DC=dataone,DC=org - updateSystemMetadata\n",
      "testV1CreateV2GetSysmeta_201635321323436 - 128.111.54.76 - CN=urn:node:cnStageUCSB1,DC=dataone,DC=org - updateSystemMetadata\n",
      "testV1CreateV2GetSysmeta_201635321323436 - 128.111.54.76 - CN=urn:node:cnStageUCSB1,DC=dataone,DC=org - updateSystemMetadata\n",
      "testV1CreateV2Get_201635321323436 - 128.111.54.76 - CN=urn:node:cnStageUCSB1,DC=dataone,DC=org - create\n",
      "testV1CreateV2Get_201635321323436 - 128.111.54.76 - CN=urn:node:cnStageUCSB1,DC=dataone,DC=org - updateSystemMetadata\n",
      "testV1CreateV2Get_201635321323436 - 128.111.54.76 - CN=urn:node:cnStageUCSB1,DC=dataone,DC=org - updateSystemMetadata\n",
      "testV1CreateV2Get_201635321323436 - 128.111.54.76 - CN=urn:node:cnStageUCSB1,DC=dataone,DC=org - updateSystemMetadata\n",
      "testV1CreateV2Get_201635321323436 - 128.111.54.76 - CN=urn:node:cnStageUCSB1,DC=dataone,DC=org - updateSystemMetadata\n",
      "testV1CreateV2GetSysmeta_2016366215341132 - 128.111.54.76 - CN=urn:node:cnStageUCSB1,DC=dataone,DC=org - create\n",
      "testV1CreateV2GetSysmeta_2016366215341132 - 128.111.54.76 - CN=urn:node:cnStageUCSB1,DC=dataone,DC=org - updateSystemMetadata\n",
      "testV1CreateV2GetSysmeta_2016366215341132 - 128.111.54.76 - CN=urn:node:cnStageUCSB1,DC=dataone,DC=org - updateSystemMetadata\n",
      "testV1CreateV2GetSysmeta_2016366215341132 - 128.111.54.76 - CN=urn:node:cnStageUCSB1,DC=dataone,DC=org - updateSystemMetadata\n",
      "testV1CreateV2Delete_2016365213056330 - 128.111.54.76 - CN=urn:node:cnStageUCSB1,DC=dataone,DC=org - create\n",
      "testV1CreateV2Delete_2016365213056330 - 128.111.54.76 - CN=urn:node:cnStageUCSB1,DC=dataone,DC=org - updateSystemMetadata\n",
      "testV1CreateV2Delete_201737213733108 - 128.111.54.76 - CN=urn:node:cnStageUCSB1,DC=dataone,DC=org - create\n",
      "testV1CreateV2Delete_201737213733108 - 128.111.54.76 - CN=urn:node:cnStageUCSB1,DC=dataone,DC=org - updateSystemMetadata\n",
      "testV1CreateV2Delete_201737213733108 - 128.111.54.76 - CN=urn:node:cnStageUCSB1,DC=dataone,DC=org - updateSystemMetadata\n",
      "testV1CreateV2Delete_201737213733108 - 128.111.54.76 - CN=urn:node:cnStageUCSB1,DC=dataone,DC=org - updateSystemMetadata\n",
      "testV1CreateV2Delete_201737213733108 - 128.111.54.76 - CN=urn:node:cnStageUCSB1,DC=dataone,DC=org - updateSystemMetadata\n",
      "testV1CreateV2Delete_201737213733108 - 128.111.54.76 - CN=urn:node:cnStageUCSB1,DC=dataone,DC=org - updateSystemMetadata\n",
      "testV1CreateV2GetSysmeta_201710213524242 - 128.111.54.76 - CN=urn:node:cnStageUCSB1,DC=dataone,DC=org - create\n",
      "testV1CreateV2GetSysmeta_201710213524242 - 128.111.54.76 - CN=urn:node:cnStageUCSB1,DC=dataone,DC=org - updateSystemMetadata\n",
      "testV1CreateV2GetSysmeta_201710213524242 - 128.111.54.76 - CN=urn:node:cnStageUCSB1,DC=dataone,DC=org - updateSystemMetadata\n",
      "testV1CreateV2GetSysmeta_201710213524242 - 128.111.54.76 - CN=urn:node:cnStageUCSB1,DC=dataone,DC=org - updateSystemMetadata\n",
      "testV1CreateV2Get_2016366215341132 - 128.111.54.76 - CN=urn:node:cnStageUCSB1,DC=dataone,DC=org - create\n",
      "testV1CreateV2Get_2016366215341132 - 128.111.54.76 - CN=urn:node:cnStageUCSB1,DC=dataone,DC=org - updateSystemMetadata\n",
      "testV1CreateV2Get_2016366215341132 - 128.111.54.76 - CN=urn:node:cnStageUCSB1,DC=dataone,DC=org - updateSystemMetadata\n",
      "testV1CreateV2Get_2016366215341132 - 128.111.54.76 - CN=urn:node:cnStageUCSB1,DC=dataone,DC=org - updateSystemMetadata\n",
      "testV1CreateV2Get_201720221443416 - 128.111.54.76 - CN=urn:node:cnStageUCSB1,DC=dataone,DC=org - create\n",
      "testV1CreateV2Get_201720221443416 - 128.111.54.76 - CN=urn:node:cnStageUCSB1,DC=dataone,DC=org - updateSystemMetadata\n",
      "testV1CreateV2Get_201720221443416 - 128.111.54.76 - CN=urn:node:cnStageUCSB1,DC=dataone,DC=org - updateSystemMetadata\n",
      "testV1CreateV2GetSysmeta_20172021596397 - 128.111.54.76 - CN=urn:node:cnStageUCSB1,DC=dataone,DC=org - create\n",
      "testV1CreateV2GetSysmeta_20172021596397 - 128.111.54.76 - CN=urn:node:cnStageUCSB1,DC=dataone,DC=org - updateSystemMetadata\n",
      "testV1CreateV2GetSysmeta_20172021596397 - 128.111.54.76 - CN=urn:node:cnStageUCSB1,DC=dataone,DC=org - updateSystemMetadata\n",
      "testUpdateSystemMetadata_MutableAccessPolicy_201745221639994 - 64.106.40.19 - CN=testRightsHolder,DC=dataone,DC=org - create\n",
      "testUpdateSystemMetadata_MutableAccessPolicy_201745221639994 - 64.106.40.19 - CN=testRightsHolder,DC=dataone,DC=org - updateSystemMetadata\n",
      "testUpdateSystemMetadata_MutableAccessPolicy_201745221639994 - 128.111.54.76 - CN=urn:node:cnStageUCSB1,DC=dataone,DC=org - read\n",
      "testUpdateSystemMetadata_MutableAccessPolicy_201745221639994 - 128.111.54.76 - CN=urn:node:cnStageUCSB1,DC=dataone,DC=org - read\n",
      "testV1CreateV2Get_201635321323436 - 128.111.54.76 - CN=urn:node:cnStageUCSB1,DC=dataone,DC=org - updateSystemMetadata\n",
      "testV1CreateV2Get_201635321323436 - 128.111.54.76 - CN=urn:node:cnStageUCSB1,DC=dataone,DC=org - updateSystemMetadata\n",
      "testV1CreateV2GetSysmeta_201635321323436 - 128.111.54.76 - CN=urn:node:cnStageUCSB1,DC=dataone,DC=org - updateSystemMetadata\n",
      "testV1CreateV2GetSysmeta_201635321323436 - 128.111.54.76 - CN=urn:node:cnStageUCSB1,DC=dataone,DC=org - updateSystemMetadata\n",
      "testV1CreateV2Delete_2016365213056330 - 128.111.54.76 - CN=urn:node:cnStageUCSB1,DC=dataone,DC=org - updateSystemMetadata\n",
      "testV1CreateV2Delete_2016365213056330 - 128.111.54.76 - CN=urn:node:cnStageUCSB1,DC=dataone,DC=org - updateSystemMetadata\n",
      "testV1CreateV2GetSysmeta_2016366215341132 - 128.111.54.76 - CN=urn:node:cnStageUCSB1,DC=dataone,DC=org - updateSystemMetadata\n",
      "testV1CreateV2Get_2016366215341132 - 128.111.54.76 - CN=urn:node:cnStageUCSB1,DC=dataone,DC=org - updateSystemMetadata\n"
     ]
    }
   ],
   "source": [
    "for log_entry_pyxb in log_pyxb.logEntry:\n",
    "  print u'{} - {} - {} - {}'.format(\n",
    "    log_entry_pyxb.identifier.value(),\n",
    "    log_entry_pyxb.ipAddress,\n",
    "    log_entry_pyxb.subject.value(),\n",
    "    log_entry_pyxb.event,\n",
    ")"
   ]
  },
  {
   "cell_type": "code",
   "execution_count": null,
   "metadata": {
    "collapsed": true
   },
   "outputs": [],
   "source": []
  }
 ],
 "metadata": {
  "kernelspec": {
   "display_name": "Python 2",
   "language": "python",
   "name": "python2"
  },
  "language_info": {
   "codemirror_mode": {
    "name": "ipython",
    "version": 2
   },
   "file_extension": ".py",
   "mimetype": "text/x-python",
   "name": "python",
   "nbconvert_exporter": "python",
   "pygments_lexer": "ipython2",
   "version": "2.7.12"
  }
 },
 "nbformat": 4,
 "nbformat_minor": 2
}
