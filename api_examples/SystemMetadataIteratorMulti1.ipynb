{
 "cells": [
  {
   "cell_type": "markdown",
   "metadata": {
    "deletable": true,
    "editable": true
   },
   "source": [
    "# SystemMetadataIteratorMulti\n",
    "\n",
    "SystemMetadataIteratorMulti uses a configurable number of parallel workers to accelerate downloading of multiple System Metadata documents from a CN or MN. The System Metadata to download can be selected by the filters that are available in the [MNRead.listObjects()](https://releases.dataone.org/online/api-documentation-v2.0/apis/MN_APIs.html#MNRead.listObjects) and [CNRead.listObjects()](https://releases.dataone.org/online/api-documentation-v2.0/apis/CN_APIs.html#CNRead.listObjects) API calls. For MNs, these include: `fromDate`, `toDate`, `formatId` and `identifier`. In addition to these, CNs include `nodeId`.\n",
    "\n",
    "This example shows how to:\n",
    "\n",
    "* Connect to a CN in the DataONE production environment and download System Metadata for objects created in 2015 on the LTER MN (`urn:node:LTER`).\n",
    "* Limit downloads to only the first 20 results.\n",
    "* Extract the PID (identifier) from the System Metadata and display it.\n",
    "* Catch and display errors, such as `NotAuthorized`.\n"
   ]
  },
  {
   "cell_type": "code",
   "execution_count": 1,
   "metadata": {
    "deletable": true,
    "editable": true
   },
   "outputs": [],
   "source": [
    "import datetime\n",
    "import d1_client.iter.sysmeta_multi\n",
    "import d1_common.types.exceptions"
   ]
  },
  {
   "cell_type": "markdown",
   "metadata": {
    "deletable": true,
    "editable": true
   },
   "source": [
    "Create a System Metadata iterator with required filtering."
   ]
  },
  {
   "cell_type": "code",
   "execution_count": 2,
   "metadata": {
    "deletable": true,
    "editable": true
   },
   "outputs": [],
   "source": [
    "sysmeta_iter = d1_client.iter.sysmeta_multi.SystemMetadataIteratorMulti(\n",
    "  'https://cn.dataone.org/cn', list_objects_arg_dict = {\n",
    "    'nodeId': 'urn:node:LTER',\n",
    "    'fromDate': datetime.datetime(2015, 1, 1),\n",
    "    'toDate': datetime.datetime(2015, 12, 31),\n",
    "  }\n",
    ")"
   ]
  },
  {
   "cell_type": "markdown",
   "metadata": {
    "deletable": true,
    "editable": true
   },
   "source": [
    "Iterate over the resulting System Metadata objects."
   ]
  },
  {
   "cell_type": "code",
   "execution_count": null,
   "metadata": {
    "collapsed": false,
    "deletable": true,
    "editable": true,
    "jupyter": {
     "outputs_hidden": false
    }
   },
   "outputs": [
    {
     "name": "stdout",
     "output_type": "stream",
     "text": [
      "1: doi:10.6073/pasta/02f939fb4e46edbcb15b618ddf00c99b: Ok\n",
      "2: doi:10.6073/pasta/08e669e0d44a5525969d62303040e563: Ok\n",
      "3: doi:10.6073/pasta/0ee08f7bc7321c6211d13f4cefced004: Ok\n",
      "4: doi:10.6073/pasta/26cac69ca6725c62d6e49476fedd9443: Ok\n",
      "5: doi:10.6073/pasta/1a959f5c3317235f72b8a63b74e267c0: Ok\n",
      "6: doi:10.6073/pasta/08e72f294d69b65ac22ed4e808a51df9: Ok\n",
      "7: doi:10.6073/pasta/0ee1a2be0cf1233da773baa6925f1352: Ok\n",
      "8: doi:10.6073/pasta/1a96398cfede777b14e598c33cf7aecd: Ok\n",
      "9: doi:10.6073/pasta/08e79833e0ec2198d09ffe395e6e754b: Ok\n",
      "10: doi:10.6073/pasta/0ee69f3b34ba71664aaae1b0494fadd5: Ok\n",
      "11: doi:10.6073/pasta/08e81363b638d671dc1072df8a7d3c15: Ok\n",
      "12: doi:10.6073/AA/cce.13.4: Error: ServiceFailure\n",
      "13: doi:10.6073/AA/knb-lter-bes.514.44: Error: ServiceFailure\n",
      "14: doi:10.6073/AA/knb-lter-hfr.6.9: Error: ServiceFailure\n",
      "15: doi:10.6073/pasta/325430f601651d12cae6cb7f032b9e99: Ok\n",
      "16: doi:10.6073/pasta/3e2c37d8e1aa5e593d05250cdaf2dcc9: Ok\n",
      "17: doi:10.6073/pasta/14c06f6efbf350d49ec25b6b06d8f0af: Error: ServiceFailure\n",
      "18: doi:10.6073/pasta/20b623c91651bf4f57227c02a73c4c72: Error: ServiceFailure\n",
      "19: doi:10.6073/pasta/2c867ab53f4766384ce93bf3caa10d7e: Error: ServiceFailure\n",
      "20: doi:10.6073/pasta/3874f8810308eb3114c5b4e232aa76b9: Ok\n"
     ]
    }
   ],
   "source": [
    "for i, o in enumerate(sysmeta_iter):\n",
    "  if i == 20:\n",
    "    break\n",
    "  if isinstance(o, d1_common.types.exceptions.DataONEException):\n",
    "    print(f'{i+1}: {o.identifier}: Error: {o.name}')\n",
    "  else:\n",
    "    print(f'{i+1}: {o.identifier.value()}: Ok')\n"
   ]
  },
  {
   "cell_type": "code",
   "execution_count": null,
   "metadata": {
    "collapsed": true,
    "deletable": true,
    "editable": true,
    "jupyter": {
     "outputs_hidden": true
    }
   },
   "outputs": [],
   "source": []
  }
 ],
 "metadata": {
  "kernelspec": {
   "display_name": "Python 3",
   "language": "python",
   "name": "python3"
  },
  "language_info": {
   "codemirror_mode": {
    "name": "ipython",
    "version": 3
   },
   "file_extension": ".py",
   "mimetype": "text/x-python",
   "name": "python",
   "nbconvert_exporter": "python",
   "pygments_lexer": "ipython3",
   "version": "3.8.5"
  },
  "name": ""
 },
 "nbformat": 4,
 "nbformat_minor": 4
}
