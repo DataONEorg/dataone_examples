{
 "worksheets": [
  {
   "cells": [
    {
     "cell_type": "markdown",
     "metadata": {
      "collapsed": true
     },
     "source": [
      "# SystemMetadataIteratorMulti\n",
      "\n",
      "SystemMetadataIteratorMulti uses a configurable amount of parallel workers to accelerate downloading of multiple System Metadata documents from a CN or MN. The System Metadata to download can be selected by the filters that are available in the [MNRead.listObjects()](https://releases.dataone.org/online/api-documentation-v2.0/apis/MN_APIs.html#MNRead.listObjects) and [CNRead.listObjects()](https://releases.dataone.org/online/api-documentation-v2.0/apis/CN_APIs.html#CNRead.listObjects) API calls. For MNs, these include: `fromDate`, `toDate`, `formatId` and `identifier`. In addition to these, CNs include `nodeId`.\n",
      "\n",
      "This example shows how to:\n",
      "\n",
      "* Connect to a CN in the DataONE production environment and download System Metadata for objects created in December 2015 on the LTER MN (`urn:node:LTER`).\n",
      "* Limit downloads to only the first 20 results.\n",
      "* Extract the PID (identifier) from the System Metadata and display it.\n",
      "* Count the number of results.\n",
      "* Catch and display errors, such as `NotAuthorized`.\n"
     ]
    },
    {
     "cell_type": "code",
     "execution_count": null,
     "metadata": {},
     "outputs": [],
     "input": [
      "import datetime\n",
      "import d1_client.iter.sysmeta_multi\n",
      "import d1_common.types.exceptions"
     ],
     "language": "python",
     "prompt_number": 9
    },
    {
     "cell_type": "markdown",
     "metadata": {},
     "source": [
      "Create a System Metadata iterator with required filtering."
     ]
    },
    {
     "cell_type": "code",
     "execution_count": null,
     "metadata": {},
     "outputs": [],
     "input": [
      "sysmeta_iter = d1_client.iter.sysmeta_multi.SystemMetadataIteratorMulti(\n",
      "  'https://cn.dataone.org/cn', listObjects_args_dict = {\n",
      "    'nodeId': 'urn:node:LTER',\n",
      "    'fromDate': datetime.datetime(2015, 11, 1),\n",
      "    'toDate': datetime.datetime(2015, 11, 30),\n",
      "  }\n",
      ")"
     ],
     "language": "python",
     "prompt_number": 14
    },
    {
     "cell_type": "markdown",
     "metadata": {},
     "source": [
      "Iterate over the resulting System Metadata objects."
     ]
    },
    {
     "cell_type": "code",
     "execution_count": null,
     "metadata": {},
     "outputs": [
      {
       "stream": "stdout",
       "output_type": "stream",
       "text": [
        "1: Ok: doi:10.6073/pasta/0a830d8bb5b8d4c609a7b45847cf89b6\n",
        "2: Ok: https://pasta.lternet.edu/package/data/eml/knb-lter-hfr/102/20/263505f011688216c03ba5b2b112b57f"
       ]
      },
      {
       "stream": "stdout",
       "output_type": "stream",
       "text": [
        "\n",
        "3: Ok: doi:10.6073/pasta/0af6adfd30bfe5a16898ffc8473f8fb8"
       ]
      },
      {
       "stream": "stdout",
       "output_type": "stream",
       "text": [
        "\n",
        "4: Ok: https://pasta.lternet.edu/package/data/eml/knb-lter-hfr/102/20/b5ca71cf5b43cbc6b1cd09ecc98d12ee"
       ]
      },
      {
       "stream": "stdout",
       "output_type": "stream",
       "text": [
        "\n",
        "5: Ok: doi:10.6073/pasta/21f5bd6642e9689baf90262f3c85ac4a"
       ]
      },
      {
       "stream": "stdout",
       "output_type": "stream",
       "text": [
        "\n",
        "6: Ok: https://pasta.lternet.edu/package/data/eml/knb-lter-ntl/320/2/4a283c25f3548c0f78d8a01658e4a353"
       ]
      },
      {
       "stream": "stdout",
       "output_type": "stream",
       "text": [
        "\n",
        "7: Ok: https://pasta.lternet.edu/package/data/eml/knb-lter-hfr/106/23/2b3ecd5f5c9858a1e11edabcfb8275cb"
       ]
      },
      {
       "stream": "stdout",
       "output_type": "stream",
       "text": [
        "\n",
        "8: Ok: https://pasta.lternet.edu/package/data/eml/knb-lter-ntl/320/3/4a283c25f3548c0f78d8a01658e4a353"
       ]
      },
      {
       "stream": "stdout",
       "output_type": "stream",
       "text": [
        "\n",
        "9: Ok: https://pasta.lternet.edu/package/data/eml/knb-lter-hfr/106/23/49db95e7c9b9f1694f8f807a1889bf5f\n",
        "10: Ok: doi:10.6073/pasta/32453a84d760ccc70d35218ce7c47af2"
       ]
      },
      {
       "stream": "stdout",
       "output_type": "stream",
       "text": [
        "\n",
        "11: Ok: https://pasta.lternet.edu/package/data/eml/knb-lter-ntl/320/4/4a283c25f3548c0f78d8a01658e4a353"
       ]
      },
      {
       "stream": "stdout",
       "output_type": "stream",
       "text": [
        "\n",
        "12: Ok: doi:10.6073/pasta/36f09c8bc92f2138081d00e0d4a196f6"
       ]
      },
      {
       "stream": "stdout",
       "output_type": "stream",
       "text": [
        "\n",
        "13: Ok: https://pasta.lternet.edu/package/data/eml/knb-lter-hfr/106/23/5c1baff88f034b678aaad7b9c905dc33\n",
        "14: Ok: https://pasta.lternet.edu/package/data/eml/knb-lter-ntl/321/5375842/0b9d165424e3f9c918499686d622983b"
       ]
      },
      {
       "stream": "stdout",
       "output_type": "stream",
       "text": [
        "\n",
        "15: Ok: https://pasta.lternet.edu/package/data/eml/knb-lter-hfr/106/23/61ae0b432430ec3a9d539a57bf488e62"
       ]
      },
      {
       "stream": "stdout",
       "output_type": "stream",
       "text": [
        "\n",
        "16: Ok: doi:10.6073/pasta/387f85d69ee7fd0c1a854b7ee18c0974\n",
        "17: Ok: https://pasta.lternet.edu/package/data/eml/knb-lter-hfr/106/23/9e2318dd34f0fb26bbe2e311c2fd3482"
       ]
      },
      {
       "stream": "stdout",
       "output_type": "stream",
       "text": [
        "\n",
        "18: Ok: https://pasta.lternet.edu/package/data/eml/knb-lter-ntl/321/5375842/22935528763d181041c13da125a0a4b4\n",
        "19: Ok: doi:10.6073/pasta/42f712e6b3406f71dad1bb237a0f9009"
       ]
      },
      {
       "stream": "stdout",
       "output_type": "stream",
       "text": [
        "\n",
        "20: Ok: knb-lter-bnz.41.11"
       ]
      },
      {
       "stream": "stdout",
       "output_type": "stream",
       "text": [
        "\n"
       ]
      },
      {
       "ename": "NameError",
       "evalue": "name 'sysmeta_iter' is not defined",
       "traceback": [
        "\u001b[0;31m---------------------------------------------------------------------------\u001b[0m\n\u001b[0;31mNameError\u001b[0m                                 Traceback (most recent call last)",
        "\u001b[0;32m<ipython-input-1-66f35dfd165d>\u001b[0m in \u001b[0;36m<module>\u001b[0;34m()\u001b[0m\n\u001b[0;32m----> 1\u001b[0;31m \u001b[0;32mfor\u001b[0m \u001b[0mi\u001b[0m\u001b[0;34m,\u001b[0m \u001b[0mo\u001b[0m \u001b[0;32min\u001b[0m \u001b[0menumerate\u001b[0m\u001b[0;34m(\u001b[0m\u001b[0msysmeta_iter\u001b[0m\u001b[0;34m)\u001b[0m\u001b[0;34m:\u001b[0m\u001b[0;34m\u001b[0m\u001b[0m\n\u001b[0m\u001b[1;32m      2\u001b[0m   \u001b[0;32mif\u001b[0m \u001b[0mi\u001b[0m \u001b[0;34m==\u001b[0m \u001b[0;36m20\u001b[0m\u001b[0;34m:\u001b[0m\u001b[0;34m\u001b[0m\u001b[0m\n\u001b[1;32m      3\u001b[0m     \u001b[0;32mbreak\u001b[0m\u001b[0;34m\u001b[0m\u001b[0m\n\u001b[1;32m      4\u001b[0m   \u001b[0;32mif\u001b[0m \u001b[0misinstance\u001b[0m\u001b[0;34m(\u001b[0m\u001b[0mo\u001b[0m\u001b[0;34m,\u001b[0m \u001b[0md1_common\u001b[0m\u001b[0;34m.\u001b[0m\u001b[0mtypes\u001b[0m\u001b[0;34m.\u001b[0m\u001b[0mexceptions\u001b[0m\u001b[0;34m.\u001b[0m\u001b[0mDataONEException\u001b[0m\u001b[0;34m)\u001b[0m\u001b[0;34m:\u001b[0m\u001b[0;34m\u001b[0m\u001b[0m\n\u001b[1;32m      5\u001b[0m     \u001b[0;32mprint\u001b[0m \u001b[0;34m'{}: Error: {}'\u001b[0m\u001b[0;34m.\u001b[0m\u001b[0mformat\u001b[0m\u001b[0;34m(\u001b[0m\u001b[0mi\u001b[0m \u001b[0;34m+\u001b[0m \u001b[0;36m1\u001b[0m\u001b[0;34m,\u001b[0m \u001b[0mstr\u001b[0m\u001b[0;34m(\u001b[0m\u001b[0mo\u001b[0m\u001b[0;34m)\u001b[0m\u001b[0;34m)\u001b[0m\u001b[0;34m\u001b[0m\u001b[0m\n",
        "\u001b[0;31mNameError\u001b[0m: name 'sysmeta_iter' is not defined"
       ],
       "output_type": "pyerr"
      },
      {
       "ename": "NameError",
       "evalue": "name 'sysmeta_iter' is not defined",
       "traceback": [
        "\u001b[0;31m---------------------------------------------------------------------------\u001b[0m\n\u001b[0;31mNameError\u001b[0m                                 Traceback (most recent call last)",
        "\u001b[0;32m<ipython-input-1-66f35dfd165d>\u001b[0m in \u001b[0;36m<module>\u001b[0;34m()\u001b[0m\n\u001b[0;32m----> 1\u001b[0;31m \u001b[0;32mfor\u001b[0m \u001b[0mi\u001b[0m\u001b[0;34m,\u001b[0m \u001b[0mo\u001b[0m \u001b[0;32min\u001b[0m \u001b[0menumerate\u001b[0m\u001b[0;34m(\u001b[0m\u001b[0msysmeta_iter\u001b[0m\u001b[0;34m)\u001b[0m\u001b[0;34m:\u001b[0m\u001b[0;34m\u001b[0m\u001b[0m\n\u001b[0m\u001b[1;32m      2\u001b[0m   \u001b[0;32mif\u001b[0m \u001b[0mi\u001b[0m \u001b[0;34m==\u001b[0m \u001b[0;36m20\u001b[0m\u001b[0;34m:\u001b[0m\u001b[0;34m\u001b[0m\u001b[0m\n\u001b[1;32m      3\u001b[0m     \u001b[0;32mbreak\u001b[0m\u001b[0;34m\u001b[0m\u001b[0m\n\u001b[1;32m      4\u001b[0m   \u001b[0;32mif\u001b[0m \u001b[0misinstance\u001b[0m\u001b[0;34m(\u001b[0m\u001b[0mo\u001b[0m\u001b[0;34m,\u001b[0m \u001b[0md1_common\u001b[0m\u001b[0;34m.\u001b[0m\u001b[0mtypes\u001b[0m\u001b[0;34m.\u001b[0m\u001b[0mexceptions\u001b[0m\u001b[0;34m.\u001b[0m\u001b[0mDataONEException\u001b[0m\u001b[0;34m)\u001b[0m\u001b[0;34m:\u001b[0m\u001b[0;34m\u001b[0m\u001b[0m\n\u001b[1;32m      5\u001b[0m     \u001b[0;32mprint\u001b[0m \u001b[0;34m'{}: Error: {}'\u001b[0m\u001b[0;34m.\u001b[0m\u001b[0mformat\u001b[0m\u001b[0;34m(\u001b[0m\u001b[0mi\u001b[0m \u001b[0;34m+\u001b[0m \u001b[0;36m1\u001b[0m\u001b[0;34m,\u001b[0m \u001b[0mstr\u001b[0m\u001b[0;34m(\u001b[0m\u001b[0mo\u001b[0m\u001b[0;34m)\u001b[0m\u001b[0;34m)\u001b[0m\u001b[0;34m\u001b[0m\u001b[0m\n",
        "\u001b[0;31mNameError\u001b[0m: name 'sysmeta_iter' is not defined"
       ],
       "output_type": "pyerr"
      }
     ],
     "input": [
      "for i, o in enumerate(sysmeta_iter):\n",
      "  if i == 20:\n",
      "    break\n",
      "  if isinstance(o, d1_common.types.exceptions.DataONEException):\n",
      "    print '{}: Error: {}'.format(i + 1, str(o))\n",
      "  else:\n",
      "    print '{}: Ok: {}'.format(i + 1, o.identifier.value())"
     ],
     "language": "python",
     "prompt_number": 0
    },
    {
     "cell_type": "code",
     "execution_count": null,
     "metadata": {},
     "outputs": [],
     "input": [
      ""
     ],
     "language": "python"
    }
   ]
  }
 ],
 "cells": [],
 "metadata": {
  "kernelspec": {
   "display_name": "Python 2",
   "language": "python",
   "name": "python2"
  },
  "language_info": {
   "codemirror_mode": {
    "name": "ipython",
    "version": 2.0
   },
   "file_extension": ".py",
   "mimetype": "text/x-python",
   "name": "python",
   "nbconvert_exporter": "python",
   "pygments_lexer": "ipython2",
   "version": "2.7.6"
  },
  "name": "",
  "signature": "sha256:d2ab6793e25e8bbaf430bc120c412e1b75c6adb7b5a1e7d086b9bd69edce25bf"
 },
 "nbformat": 4,
 "nbformat_minor": 0
}