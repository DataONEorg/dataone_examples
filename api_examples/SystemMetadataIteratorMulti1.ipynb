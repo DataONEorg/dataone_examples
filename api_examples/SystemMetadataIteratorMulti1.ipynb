{
 "cells": [
  {
   "cell_type": "markdown",
   "metadata": {
    "collapsed": true,
    "deletable": true,
    "editable": true
   },
   "source": [
    "# SystemMetadataIteratorMulti\n",
    "\n",
    "SystemMetadataIteratorMulti uses a configurable amount of parallel workers to accelerate downloading of multiple System Metadata documents from a CN or MN. The System Metadata to download can be selected by the filters that are available in the [MNRead.listObjects()](https://releases.dataone.org/online/api-documentation-v2.0/apis/MN_APIs.html#MNRead.listObjects) and [CNRead.listObjects()](https://releases.dataone.org/online/api-documentation-v2.0/apis/CN_APIs.html#CNRead.listObjects) API calls. For MNs, these include: `fromDate`, `toDate`, `formatId` and `identifier`. In addition to these, CNs include `nodeId`.\n",
    "\n",
    "This example shows how to:\n",
    "\n",
    "* Connect to a CN in the DataONE production environment and download System Metadata for objects created in December 2015 on the LTER MN (`urn:node:LTER`).\n",
    "* Limit downloads to only the first 20 results.\n",
    "* Extract the PID (identifier) from the System Metadata and display it.\n",
    "* Count the number of results.\n",
    "* Catch and display errors, such as `NotAuthorized`.\n"
   ]
  },
  {
   "cell_type": "code",
   "execution_count": 1,
   "metadata": {
    "collapsed": true,
    "deletable": true,
    "editable": true
   },
   "outputs": [],
   "source": [
    "import datetime\n",
    "import d1_client.iter.sysmeta_multi\n",
    "import d1_common.types.exceptions"
   ]
  },
  {
   "cell_type": "markdown",
   "metadata": {
    "deletable": true,
    "editable": true
   },
   "source": [
    "Create a System Metadata iterator with required filtering."
   ]
  },
  {
   "cell_type": "code",
   "execution_count": 2,
   "metadata": {
    "collapsed": true,
    "deletable": true,
    "editable": true
   },
   "outputs": [],
   "source": [
    "sysmeta_iter = d1_client.iter.sysmeta_multi.SystemMetadataIteratorMulti(\n",
    "  'https://cn.dataone.org/cn', listObjects_dict = {\n",
    "    'nodeId': 'urn:node:LTER',\n",
    "    'fromDate': datetime.datetime(2015, 1, 1),\n",
    "    'toDate': datetime.datetime(2015, 12, 31),\n",
    "  }\n",
    ")"
   ]
  },
  {
   "cell_type": "markdown",
   "metadata": {
    "deletable": true,
    "editable": true
   },
   "source": [
    "Iterate over the resulting System Metadata objects."
   ]
  },
  {
   "cell_type": "code",
   "execution_count": 3,
   "metadata": {
    "collapsed": false,
    "deletable": true,
    "editable": true
   },
   "outputs": [
    {
     "name": "stdout",
     "output_type": "stream",
     "text": [
      "1: doi:10.6073/AA/knb-lter-arc.1638.1: Ok\n",
      "2: doi:10.6073/AA/cce.13.4: Error: NotAuthorized\n",
      "3: doi:10.6073/AA/knb-lter-arc.1421.2: Ok\n",
      "4: doi:10.6073/AA/knb-lter-bes.188.52: Error: NotAuthorized\n",
      "5: doi:10.6073/AA/knb-lter-arc.97.1: Ok\n",
      "6: doi:10.6073/AA/knb-lter-bes.140.21: Error: NotAuthorized\n",
      "7: doi:10.6073/AA/knb-lter-bes.163.38: Error: NotAuthorized\n",
      "8: doi:10.6073/AA/knb-lter-arc.1142.1: Ok\n",
      "9: doi:10.6073/AA/knb-lter-bes.11.7: Ok\n",
      "10: doi:10.6073/AA/knb-lter-and.4336.1: Ok\n",
      "11: doi:10.6073/AA/cce.15.1: Error: NotAuthorized\n",
      "12: doi:10.6073/AA/knb-lter-arc.1638.4: Ok\n",
      "13: doi:10.6073/AA/knb-lter-arc.1422.1: Ok\n",
      "14: doi:10.6073/AA/knb-lter-bes.163.44: Error: NotAuthorized\n",
      "15: doi:10.6073/AA/knb-lter-bes.117.17: Error: NotAuthorized\n",
      "16: doi:10.6073/AA/knb-lter-arc.1143.1: Ok\n",
      "17: doi:10.6073/AA/knb-lter-arc.973.1: Ok\n",
      "18: doi:10.6073/AA/knb-lter-bes.18.9: Ok\n",
      "19: doi:10.6073/AA/knb-lter-bes.140.27: Error: NotAuthorized\n",
      "20: doi:10.6073/AA/knb-lter-and.4338.1: Ok\n"
     ]
    }
   ],
   "source": [
    "for i, o in enumerate(sysmeta_iter):\n",
    "  if i == 20:\n",
    "    break\n",
    "  if isinstance(o, d1_common.types.exceptions.DataONEException):\n",
    "    print '{}: {}: Error: {}'.format(i + 1, o.identifier, o.name)\n",
    "  else:\n",
    "    print '{}: {}: Ok'.format(i + 1, o.identifier.value())\n"
   ]
  },
  {
   "cell_type": "code",
   "execution_count": null,
   "metadata": {
    "collapsed": true,
    "deletable": true,
    "editable": true
   },
   "outputs": [],
   "source": []
  }
 ],
 "metadata": {
  "kernelspec": {
   "display_name": "Python 2",
   "language": "python",
   "name": "python2"
  },
  "language_info": {
   "codemirror_mode": {
    "name": "ipython",
    "version": 2
   },
   "file_extension": ".py",
   "mimetype": "text/x-python",
   "name": "python",
   "nbconvert_exporter": "python",
   "pygments_lexer": "ipython2",
   "version": "2.7.12"
  },
  "name": ""
 },
 "nbformat": 4,
 "nbformat_minor": 0
}
