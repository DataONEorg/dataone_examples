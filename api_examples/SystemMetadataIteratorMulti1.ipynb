{
 "worksheets": [
  {
   "cells": [
    {
     "cell_type": "markdown",
     "metadata": {
      "collapsed": true
     },
     "source": [
      "# SystemMetadataIteratorMulti\n",
      "\n",
      "SystemMetadataIteratorMulti uses a configurable amount of parallel workers to accelerate downloading of multiple System Metadata documents from a CN or MN. The System Metadata to download can be selected by the filters that are available in the [MNRead.listObjects()](https://releases.dataone.org/online/api-documentation-v2.0/apis/MN_APIs.html#MNRead.listObjects) and [CNRead.listObjects()](https://releases.dataone.org/online/api-documentation-v2.0/apis/CN_APIs.html#CNRead.listObjects) API calls. For MNs, these include: `fromDate`, `toDate`, `formatId` and `identifier`. In addition to these, CNs include `nodeId`.\n",
      "\n",
      "This example shows how to:\n",
      "\n",
      "* Connect to a CN in the DataONE production environment and download System Metadata for objects created in December 2015 on the LTER MN (`urn:node:LTER`).\n",
      "* Limit downloads to only the first 20 results.\n",
      "* Extract the PID (identifier) from the System Metadata and display it.\n",
      "* Count the number of results.\n",
      "* Catch and display errors, such as `NotAuthorized`.\n"
     ]
    },
    {
     "cell_type": "code",
     "execution_count": null,
     "metadata": {},
     "outputs": [],
     "input": [
      "import datetime\n",
      "import d1_client.iter.sysmeta_multi\n",
      "import d1_common.types.exceptions"
     ],
     "language": "python",
     "prompt_number": 2
    },
    {
     "cell_type": "markdown",
     "metadata": {},
     "source": [
      "Create a System Metadata iterator with required filtering."
     ]
    },
    {
     "cell_type": "code",
     "execution_count": null,
     "metadata": {},
     "outputs": [],
     "input": [
      "sysmeta_iter = d1_client.iter.sysmeta_multi.SystemMetadataIteratorMulti(\n",
      "  'https://cn.dataone.org/cn', listObjects_dict = {\n",
      "    'nodeId': 'urn:node:LTER',\n",
      "    'fromDate': datetime.datetime(2015, 12, 1),\n",
      "    'toDate': datetime.datetime(2015, 12, 30),\n",
      "  }\n",
      ")"
     ],
     "language": "python",
     "prompt_number": 4
    },
    {
     "cell_type": "markdown",
     "metadata": {},
     "source": [
      "Iterate over the resulting System Metadata objects."
     ]
    },
    {
     "cell_type": "code",
     "execution_count": null,
     "metadata": {},
     "outputs": [
      {
       "stream": "stdout",
       "output_type": "stream",
       "text": [
        "1: Ok: https://pasta.lternet.edu/package/report/eml/knb-lter-hfr/231/2\n2: Ok: https://pasta.lternet.edu/package/data/eml/knb-lter-hfr/113/52/9f9042b85bd6fa391eb874876cebed68\n3: Ok: https://pasta.lternet.edu/package/metadata/eml/knb-lter-hfr/46/18\n4: Ok: https://pasta.lternet.edu/package/data/eml/knb-lter-hfr/2/19/2e9b8e5c36b1c9b95b78502dbd56d937"
       ]
      },
      {
       "stream": "stdout",
       "output_type": "stream",
       "text": [
        "\n5: Ok: https://pasta.lternet.edu/package/data/eml/knb-lter-pie/14/5/c455543be057652d3a365ab484ebf032\n6: Ok: https://pasta.lternet.edu/package/report/eml/knb-lter-hfr/233/2"
       ]
      },
      {
       "stream": "stdout",
       "output_type": "stream",
       "text": [
        "\n7: Ok: https://pasta.lternet.edu/package/data/eml/knb-lter-pie/233/2/0d90c490a876e9e27cb48fc1dc5aac49"
       ]
      },
      {
       "stream": "stdout",
       "output_type": "stream",
       "text": [
        "\n8: Ok: https://pasta.lternet.edu/package/data/eml/knb-lter-hfr/113/52/a2daa04c6f2ad3d7b7699e4fcb218d66"
       ]
      },
      {
       "stream": "stdout",
       "output_type": "stream",
       "text": [
        "\n9: Ok: https://pasta.lternet.edu/package/data/eml/knb-lter-hfr/219/3/72234d161c49c3f599cf667c76f2d7ef\n10: Ok: https://pasta.lternet.edu/package/metadata/eml/knb-lter-hfr/51/18"
       ]
      },
      {
       "stream": "stdout",
       "output_type": "stream",
       "text": [
        "\n11: Ok: https://pasta.lternet.edu/package/report/eml/knb-lter-hfr/236/2"
       ]
      },
      {
       "stream": "stdout",
       "output_type": "stream",
       "text": [
        "\n12: Ok: https://pasta.lternet.edu/package/data/eml/knb-lter-pie/234/2/5b51e1a1ad6c61e08ecc2991f8af7fa4"
       ]
      },
      {
       "stream": "stdout",
       "output_type": "stream",
       "text": [
        "\n13: Ok: https://pasta.lternet.edu/package/data/eml/knb-lter-hfr/113/52/a5ae2278c7b4d9654510a5a7e13e7e39"
       ]
      },
      {
       "stream": "stdout",
       "output_type": "stream",
       "text": [
        "\n14: Ok: https://pasta.lternet.edu/package/data/eml/knb-lter-hfr/2/19/4012563f78337db64518e810840f8aba"
       ]
      },
      {
       "stream": "stdout",
       "output_type": "stream",
       "text": [
        "\n15: Ok: https://pasta.lternet.edu/package/metadata/eml/knb-lter-hfr/52/17"
       ]
      },
      {
       "stream": "stdout",
       "output_type": "stream",
       "text": [
        "\n16: Ok: https://pasta.lternet.edu/package/report/eml/knb-lter-hfr/239/3"
       ]
      },
      {
       "stream": "stdout",
       "output_type": "stream",
       "text": [
        "\n17: Ok: https://pasta.lternet.edu/package/data/eml/knb-lter-pie/361/3/2fa9925c6f7b3373cb384c2d7c7220f9\n18: Ok: https://pasta.lternet.edu/package/data/eml/knb-lter-hfr/113/52/aa9aab2a450df4005b620aa42e87951f"
       ]
      },
      {
       "stream": "stdout",
       "output_type": "stream",
       "text": [
        "\n19: Ok: https://pasta.lternet.edu/package/data/eml/knb-lter-hfr/2/19/40b3bcf6b1cd8f0dd03272d4bbaceb49"
       ]
      },
      {
       "stream": "stdout",
       "output_type": "stream",
       "text": [
        "\n20: Ok: https://pasta.lternet.edu/package/metadata/eml/knb-lter-hfr/75/15"
       ]
      },
      {
       "stream": "stdout",
       "output_type": "stream",
       "text": [
        "\n"
       ]
      }
     ],
     "input": [
      "for i, o in enumerate(sysmeta_iter):\n",
      "  if i == 20:\n",
      "    break\n",
      "  if isinstance(o, d1_common.types.exceptions.DataONEException):\n",
      "    print '{}: Error: {}'.format(i + 1, str(o))\n",
      "  else:\n",
      "    print '{}: Ok: {}'.format(i + 1, o.identifier.value())"
     ],
     "language": "python",
     "prompt_number": 5
    },
    {
     "cell_type": "code",
     "execution_count": null,
     "metadata": {},
     "outputs": [],
     "input": [
      ""
     ],
     "language": "python"
    }
   ]
  }
 ],
 "cells": [],
 "metadata": {
  "kernelspec": {
   "display_name": "Python 2",
   "language": "python",
   "name": "python2"
  },
  "language_info": {
   "codemirror_mode": {
    "name": "ipython",
    "version": 2.0
   },
   "file_extension": ".py",
   "mimetype": "text/x-python",
   "name": "python",
   "nbconvert_exporter": "python",
   "pygments_lexer": "ipython2",
   "version": "2.7.6"
  },
  "name": "",
  "signature": "sha256:d2ab6793e25e8bbaf430bc120c412e1b75c6adb7b5a1e7d086b9bd69edce25bf"
 },
 "nbformat": 4,
 "nbformat_minor": 0
}