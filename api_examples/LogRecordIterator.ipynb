{
 "cells": [
  {
   "cell_type": "markdown",
   "metadata": {
    "deletable": true,
    "editable": true
   },
   "source": [
    "# LogRecordIterator\n",
    "\n",
    "An iterator that provides a convenient way to retrieve log records from a DataONE node and iterate over the results. Log records are retrieved from the node in batches as required. The returned log records can be filtered by providing arguments to getLogRecords() via the getlogRecords_dict parameter.\n",
    "\n",
    "See the [getLogRecords](getLogRecords.ipynb) notebook for an overview of parameters and the underlying functionality."
   ]
  },
  {
   "cell_type": "markdown",
   "metadata": {},
   "source": [
    "## Python Client Library example\n",
    "\n",
    "### Create a CN or MN client\n",
    "\n",
    "In this example, we create a CN client. We authenticate by supplying a certificate. This makes logs available for objects for which the subject(s) in the the certificate have elevated access."
   ]
  },
  {
   "cell_type": "code",
   "execution_count": 1,
   "metadata": {
    "collapsed": true
   },
   "outputs": [],
   "source": [
    "import d1_client.cnclient_2_0\n",
    "import d1_client.iter.logrecord\n",
    "\n",
    "cn_client = d1_client.cnclient_2_0.CoordinatingNodeClient_2_0(\n",
    "  'https://cn-stage.test.dataone.org/cn',\n",
    "  cert_pem_path='./urn_node_myMemberNode.pem',\n",
    "  cert_key_path='./urn_node_myMemberNode.key',\n",
    ")"
   ]
  },
  {
   "cell_type": "markdown",
   "metadata": {},
   "source": [
    "### Create the iterator and iterate over the results \n",
    "\n",
    "Iterate over the `LogEntry` returned instances and print some selected values. We stop the iterator after having retrieved 15 values."
   ]
  },
  {
   "cell_type": "code",
   "execution_count": 2,
   "metadata": {
    "collapsed": false
   },
   "outputs": [
    {
     "name": "stdout",
     "output_type": "stream",
     "text": [
      "testCnGetLogRecords_Aggregating_urnnodemnTestUIC_obj2 - 64.106.40.19 - CN=urn:node:cnStageUNM1,DC=dataone,DC=org - create\n",
      "testCnGetLogRecords_Access_public_urnnodemnTestUIC - 64.106.40.19 - CN=urn:node:cnStageUNM1,DC=dataone,DC=org - create\n",
      "testUpdateSystemMetadata_MutableAccessPolicy_20173214724315 - 64.106.40.19 - CN=testRightsHolder,DC=dataone,DC=org - create\n",
      "testUpdateSystemMetadata_MutableAccessPolicy_20173214724315 - 64.106.40.19 - CN=testRightsHolder,DC=dataone,DC=org - updateSystemMetadata\n",
      "testUpdateSystemMetadata_MutableAccessPolicy_20173214724315 - 128.111.54.76 - CN=urn:node:cnStageUCSB1,DC=dataone,DC=org - read\n",
      "testUpdateSystemMetadata_MutableAccessPolicy_20173214724315 - 128.111.54.76 - CN=urn:node:cnStageUCSB1,DC=dataone,DC=org - read\n",
      "testCnGetLogRecords_Access_public_urnnodemnTestUIC - 128.111.54.76 - CN=urn:node:cnStageUCSB1,DC=dataone,DC=org - read\n",
      "testCnGetLogRecords_Access_public_urnnodemnTestUIC - 128.111.54.76 - CN=urn:node:cnStageUCSB1,DC=dataone,DC=org - read\n",
      "testCnGetLogRecords_Aggregating_urnnodemnTestUIC_obj2 - 128.111.54.76 - CN=urn:node:cnStageUCSB1,DC=dataone,DC=org - read\n",
      "testCnGetLogRecords_Aggregating_urnnodemnTestUIC_obj2 - 128.111.54.76 - CN=urn:node:cnStageUCSB1,DC=dataone,DC=org - read\n",
      "testUpdateSystemMetadata_MutableAccessPolicy_201732215246674 - 64.106.40.19 - CN=testRightsHolder,DC=dataone,DC=org - create\n",
      "testUpdateSystemMetadata_MutableAccessPolicy_201732215246674 - 64.106.40.19 - CN=testRightsHolder,DC=dataone,DC=org - updateSystemMetadata\n",
      "testUpdateSystemMetadata_MutableAccessPolicy_201732215246674 - 128.111.54.76 - CN=urn:node:cnStageUCSB1,DC=dataone,DC=org - read\n",
      "testUpdateSystemMetadata_MutableAccessPolicy_201732215246674 - 128.111.54.76 - CN=urn:node:cnStageUCSB1,DC=dataone,DC=org - read\n",
      "testUpdateSystemMetadata_MutableAccessPolicy_20173304421459 - 64.106.40.19 - CN=testRightsHolder,DC=dataone,DC=org - create\n"
     ]
    }
   ],
   "source": [
    "for i, log_entry_pyxb in enumerate(d1_client.iter.logrecord.LogRecordIterator(\n",
    "  cn_client\n",
    ")):\n",
    "  if i == 15:\n",
    "    break\n",
    "  print u'{} - {} - {} - {}'.format(\n",
    "    log_entry_pyxb.identifier.value(),\n",
    "    log_entry_pyxb.ipAddress,\n",
    "    log_entry_pyxb.subject.value(),\n",
    "    log_entry_pyxb.event,\n",
    "  )\n"
   ]
  },
  {
   "cell_type": "code",
   "execution_count": null,
   "metadata": {
    "collapsed": true
   },
   "outputs": [],
   "source": []
  }
 ],
 "metadata": {
  "kernelspec": {
   "display_name": "Python 2",
   "language": "python",
   "name": "python2"
  },
  "language_info": {
   "codemirror_mode": {
    "name": "ipython",
    "version": 2
   },
   "file_extension": ".py",
   "mimetype": "text/x-python",
   "name": "python",
   "nbconvert_exporter": "python",
   "pygments_lexer": "ipython2",
   "version": "2.7.12"
  }
 },
 "nbformat": 4,
 "nbformat_minor": 0
}
