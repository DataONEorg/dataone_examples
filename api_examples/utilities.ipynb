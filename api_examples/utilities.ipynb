{
 "cells": [
  {
   "cell_type": "code",
   "execution_count": 1,
   "metadata": {},
   "outputs": [],
   "source": [
    "# Base URLs of the Coordinating Node services for DataONE environments. \n",
    "# All but the \"production\" environment are for test purposes.\n",
    "import textwrap\n",
    "\n",
    "ENVIRONMENTS = {\n",
    "    'dev'       : 'https://cn-dev.test.dataone.org/cn',\n",
    "    'dev-2'     : 'https://cn-dev-2.test.dataone.org/cn',\n",
    "    'sandbox'   : 'https://cn-sandbox.test.dataone.org/cn',\n",
    "    'sandbox-2' : 'https://cn-sandbox-2.test.dataone.org/cn',\n",
    "    'stage'     : 'https://cn-stage.test.dataone.org/cn',\n",
    "    'stage-2'   : 'https://cn-stage-2.test.dataone.org/cn',\n",
    "    'production': 'https://cn.dataone.org/cn',\n",
    "}\n",
    "\n",
    "\n",
    "def nLines(t, max_lines=25):\n",
    "    lines = t\n",
    "    if isinstance(t, str):\n",
    "        lines = t.split(\"\\n\")\n",
    "    res = \"\\n\".join(lines[:max_lines])\n",
    "    if len(lines) > max_lines:\n",
    "        res += \"\\n...\\n\"\n",
    "    return res\n",
    "\n",
    "\n",
    "def asXml(o, max_lines=25):\n",
    "    '''Return (partial) xml representation of pyxb object.\n",
    "    \n",
    "    Args:\n",
    "      o (pyxb object): Object (e.g. response from DataONE service call)\n",
    "      max_lines (int, optional): Maximum lines to return, all if 0 or less.\n",
    "      \n",
    "    Returns:\n",
    "      Formatted XML (partial) representation of object\n",
    "    '''\n",
    "    return nLines(o.toDOM().toprettyxml(indent=' '*2))\n",
    "\n",
    "\n",
    "def wrapText(t, indent=5, width=70):\n",
    "    indent = \" \"*indent\n",
    "    tw = textwrap.TextWrapper(\n",
    "        width=width,\n",
    "        initial_indent=indent,\n",
    "        subsequent_indent=indent\n",
    "    )\n",
    "    return \"\\n\".join(tw.wrap(t))\n",
    "\n",
    "\n"
   ]
  },
  {
   "cell_type": "code",
   "execution_count": null,
   "metadata": {},
   "outputs": [],
   "source": []
  }
 ],
 "metadata": {
  "kernelspec": {
   "display_name": "Python 3",
   "language": "python",
   "name": "python3"
  },
  "language_info": {
   "codemirror_mode": {
    "name": "ipython",
    "version": 3
   },
   "file_extension": ".py",
   "mimetype": "text/x-python",
   "name": "python",
   "nbconvert_exporter": "python",
   "pygments_lexer": "ipython3",
   "version": "3.7.7"
  }
 },
 "nbformat": 4,
 "nbformat_minor": 4
}
