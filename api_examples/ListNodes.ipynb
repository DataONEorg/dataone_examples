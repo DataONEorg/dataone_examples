{
 "cells": [
  {
   "cell_type": "markdown",
   "metadata": {},
   "source": [
    "List Nodes in Production\n",
    "\n",
    "Connect to the DataONE production environment, retrieve the list of nodes, and print out the list."
   ]
  },
  {
   "cell_type": "code",
   "execution_count": 1,
   "metadata": {
    "collapsed": true
   },
   "outputs": [],
   "source": [
    "# Base URLs of the Coordinating Node services for DataONE environments. \n",
    "# All but the \"production\" environment are for test purposes.\n",
    "\n",
    "environments = {'dev'       : 'https://cn-dev.test.dataone.org/cn',\n",
    "                'dev-2'     : 'https://cn-dev-2.test.dataone.org/cn',\n",
    "                'sandbox'   : 'https://cn-sandbox.test.dataone.org/cn',\n",
    "                'sandbox-2' : 'https://cn-sandbox-2.test.dataone.org/cn',\n",
    "                'stage'     : 'https://cn-stage.test.dataone.org/cn',\n",
    "                'stage-2'   : 'https://cn-stage-2.test.dataone.org/cn',\n",
    "                'production': 'https://cn.dataone.org/cn'}\n"
   ]
  },
  {
   "cell_type": "code",
   "execution_count": 2,
   "metadata": {
    "collapsed": false
   },
   "outputs": [
    {
     "name": "stdout",
     "output_type": "stream",
     "text": [
      "Using base url of: https://cn.dataone.org/cn\n",
      "01: urn:node:KNB        https://knb.ecoinformatics.org/knb/d1/mn          KNB Data Repository\n",
      "02: urn:node:ESA        https://data.esa.org/esa/d1/mn                    ESA Data Registry\n",
      "03: urn:node:SANPARKS   https://dataknp.sanparks.org/sanparks/d1/mn       SANParks Data Repository\n",
      "04: urn:node:ORNLDAAC   http://mercury-ops2.ornl.gov/ornldaac/mn          ORNL DAAC\n",
      "05: urn:node:LTER       https://gmn.lternet.edu/mn                        U.S. LTER Network\n",
      "06: urn:node:CDL        https://merritt-aws.cdlib.org:8084/mn             UC3 Merritt\n",
      "07: urn:node:PISCO      https://data.piscoweb.org/catalog/d1/mn           PISCO MN\n",
      "08: urn:node:ONEShare   https://oneshare.unm.edu/mn                       ONEShare DataONE Member Node\n",
      "09: urn:node:mnORC1     https://mn-orc-1.dataone.org/knb/d1/mn            DataONE ORC Dedicated Replica Server\n",
      "10: urn:node:mnUNM1     https://mn-unm-1.dataone.org/knb/d1/mn            DataONE UNM Dedicated Replica Server\n",
      "11: urn:node:mnUCSB1    https://mn-ucsb-1.dataone.org/knb/d1/mn           DataONE UCSB Dedicated Replica Server\n",
      "12: urn:node:TFRI       https://metacat.tfri.gov.tw/tfri/d1/mn            TFRI Data Catalog\n",
      "13: urn:node:USANPN     https://mynpn.usanpn.org/knb/d1/mn                USA National Phenology Network\n",
      "14: urn:node:SEAD       http://sead-curbee.ncsa.illinois.edu:8081/sead/rest/mnSEAD Virtual Archive\n",
      "15: urn:node:GOA        https://goa.nceas.ucsb.edu/goa/d1/mn              Gulf of Alaska Data Portal\n",
      "16: urn:node:KUBI       https://bidataone.nhm.ku.edu/mn                   University of Kansas - Biodiversity Institute\n",
      "17: urn:node:LTER_EUROPEhttps://data.lter-europe.net/knb/d1/mn            LTER Europe Member Node\n",
      "18: urn:node:DRYAD      https://datadryad.org/mn                          Dryad Digital Repository\n",
      "19: urn:node:CLOEBIRD   http://dataone.ornith.cornell.edu/metacat/d1/mn   Cornell Lab of Ornithology - eBird\n",
      "20: urn:node:EDACGSTORE https://gstore.unm.edu/dataone/                   EDAC Gstore Repository\n",
      "21: urn:node:IOE        https://data.rcg.montana.edu/catalog/d1/mn        Montana IoE Data Repository\n",
      "22: urn:node:US_MPC     https://dataone-prod.pop.umn.edu/mn               Minnesota Population Center\n",
      "23: urn:node:EDORA      http://mercury-ops2.ornl.gov/EDORA_MN/mn          Environmental Data for the Oak Ridge Area (EDORA)\n",
      "24: urn:node:RGD        http://mercury-ops2.ornl.gov/RGD_MN/mn            Regional and Global biogeochemical dynamics Data (RGD)\n",
      "25: urn:node:GLEON      http://poseidon.limnology.wisc.edu/metacat/d1/mn  GLEON Data Repository\n",
      "26: urn:node:IARC       https://trusty.iarc.uaf.edu/mn                    IARC Data Archive\n",
      "27: urn:node:NMEPSCOR   https://nmepscor-d1.unm.edu/mn                    NM EPSCoR Tier 4 Node\n",
      "28: urn:node:TERN       https://dataone.tern.org.au/mn                    TERN Australia\n",
      "29: urn:node:NKN        https://dataone.northwestknowledge.net/mn         Northwest Knowledge Network\n",
      "30: urn:node:USGS_SDC   https://usgs.ornl.gov/USGS_MN/mn/                 USGS Science Data Catalog\n",
      "31: urn:node:NRDC       https://dataone.sensor.nevada.edu/mn              NRDC DataONE member node\n",
      "32: urn:node:NCEI       https://ncei-node.dataone.org/mn                  NOAA NCEI Oceanographic Data Archive\n",
      "33: urn:node:PPBIO      https://ppbiodata.inpa.gov.br/metacat/d1/mn       PPBio\n",
      "34: urn:node:NEON       http://dataone.neonscience.org/metacat/d1/mn      NEON Member Node\n",
      "35: urn:node:TDAR       https://dataone.tdar.org/dataone/                 The Digital Archaeological Record\n",
      "36: urn:node:ARCTIC     https://arcticdata.io/metacat/d1/mn               Arctic Data Center\n",
      "37: urn:node:BCODMO     https://www.bco-dmo.org/d1/mn                     Biological and Chemical Oceanography Data Management Office (BCO-DMO) \n",
      "38: urn:node:GRIIDC     https://dataone-prod.tamucc.edu/mn                Gulf of Mexico Research Initiative Information and Data Cooperative (GRIIDC)\n",
      "39: urn:node:R2R        https://r2r-node.dataone.org/mn                   Rolling Deck to Repository (R2R)\n",
      "40: urn:node:EDI        https://gmn.edirepository.org/mn                  Environmental Data Initiative\n",
      "41: urn:node:UIC        https://dataone.lib.uic.edu/metacat/d1/mn         A Member Node for University of Illinois at Chicago.\n",
      "42: urn:node:RW         https://dataone.researchworkspace.com/mn          Research Workspace\n",
      "43: urn:node:FEMC       https://dataone.uvm.edu/mn                        Forest Ecosystem Monitoring Cooperative Member Node\n",
      "44: urn:node:OTS_NDC    https://metacat.ots.ac.cr/metacat/d1/mn           Organization for Tropical Studies - Neotropical Data Center\n",
      "45: urn:node:PANGAEA    https://pangaea-orc-1.dataone.org/mn              PANGAEA\n",
      "46: urn:node:ESS_DIVE   https://data.ess-dive.lbl.gov/catalog/d1/mn       ESS-DIVE: Deep Insight for Earth Science Data\n",
      "47: urn:node:CAS_CERN   https://data-en.cern.ac.cn/metacat/d1/mn          Chinese Ecosystem Research Network (CERN)\n"
     ]
    }
   ],
   "source": [
    "from d1_client import cnclient_2_0\n",
    "\n",
    "environment = \"production\"\n",
    "base_url = environments[environment]\n",
    "print(\"Using base url of: {0}\".format(base_url))\n",
    "\n",
    "cncli = cnclient_2_0.CoordinatingNodeClient_2_0(base_url=base_url)\n",
    "nodes = cncli.listNodes()\n",
    "i = 0\n",
    "for node in nodes.node:\n",
    "    if node.type.upper() != \"CN\":\n",
    "        i += 1\n",
    "        row = {'counter': i,\n",
    "               'id':node.identifier.value(),\n",
    "               'type':node.type.upper(),\n",
    "               'url':node.baseURL,\n",
    "               'name':node.name}\n",
    "        print(\"{counter:02d}: {id:20}{url:<50}{name}\".format(**row))\n"
   ]
  },
  {
   "cell_type": "code",
   "execution_count": null,
   "metadata": {
    "collapsed": false
   },
   "outputs": [],
   "source": []
  }
 ],
 "metadata": {
  "kernelspec": {
   "display_name": "Python 3",
   "language": "python",
   "name": "python3"
  },
  "language_info": {
   "codemirror_mode": {
    "name": "ipython",
    "version": 3
   },
   "file_extension": ".py",
   "mimetype": "text/x-python",
   "name": "python",
   "nbconvert_exporter": "python",
   "pygments_lexer": "ipython3",
   "version": "3.7.1"
  }
 },
 "nbformat": 4,
 "nbformat_minor": 2
}
