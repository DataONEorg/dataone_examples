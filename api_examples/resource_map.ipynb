{
 "cells": [
  {
   "cell_type": "markdown",
   "metadata": {},
   "source": [
    "# d1_pyore Tutorial\n",
    "\n",
    "The d1_pyore library facilitates creation and consumption of OAI-ORE documents that are used by DataONE to dscribe data packages (i.e. the combination of Data and Metadata that make up a scientifically meaningful usint of information.\n",
    "\n",
    "Load the RDF-XML data from a DataONE Coordinating Node. Note that this direct access is more fragile than using the combination of resolve() and get()."
   ]
  },
  {
   "cell_type": "code",
   "execution_count": 1,
   "metadata": {
    "collapsed": false,
    "jupyter": {
     "outputs_hidden": false
    }
   },
   "outputs": [
    {
     "name": "stdout",
     "output_type": "stream",
     "text": [
      "<rdf:RDF\n",
      "    xmlns:rdf=\"http://www.w3.org/1999/02/22-rdf-syntax-ns#\"\n",
      "    xmlns:foaf=\"http://xmlns.com/foaf/0.1/\"\n",
      "    xmlns:dc=\"http://purl.org/dc/elements/1.1/\"\n",
      "    xmlns:ore=\"http://www.openarchives.org/ore/terms/\"\n",
      "    xmlns:dcterms=\"http://purl.org/dc/terms/\"\n",
      "    xmlns:cito=\"http://purl.org/spar/cito/\"\n",
      "    xmlns:rdfs1=\"http://www.w3.org/2001/01/rdf-schema#\" > \n",
      "  <rdf:Description rdf:about=\"http://www.openarchives.org/ore/terms/Aggregation\">\n",
      "    <rdfs1:label>Aggregation</rdfs1:label>\n",
      "    <rdfs1:isDefinedBy rdf:resource=\"http://www.openarchives.org/ore/terms/\"/>\n",
      "  </rdf:Description>\n",
      "  <rdf:Description rdf:about=\"https://cn.dataone.org/cn/v1/resolve/ark%3A%2F13030%2Fm5dz07z6%2F2%2Fcadwsap-s3400113-001-vuln.csv\">\n",
      "    <dcterms:identifier>ark:/13030/m5dz07z6/2/cadwsap-s3400113-001-vuln.csv</dcterms:identifier>\n",
      "    <cito:isDocumentedBy rdf:resource=\"https://cn.dataone.org/cn/v1/resolve/ark%3A%2F13030%2Fm5dz07z6%2F2%2Fcadwsap-s3400113-001.xml\"/>\n",
      "  </rdf:Description>\n",
      "  <rdf:Description rdf:about=\"http://store.cdlib.org:35121/content/1001/ark%3A%2F13030%2Fm5dz07z6/2/\">\n",
      "    <ore:aggregates rdf:resource=\"https://cn.dataone.org/cn/v1/resolve/ark%3A%2F13030%2Fm5dz07z6%2F2%2Fcadwsap-s3400113-001-vuln.csv\"/>\n",
      "    <ore:aggregates rdf:resource=\"https://cn.dataone.org/cn/v1/resolve/ark%3A%2F13030%2Fm5dz07z6%2F2%2Fcadwsap-s3400113-001-main.csv\"/>\n",
      "    <ore:aggregates rdf:resource=\"https://cn.dataone.org/cn/v1/resolve/ark%3A%2F13030%2Fm5dz07z6%2F2%2Fcadwsap-s3400113-001.pdf\"/>\n",
      "    <ore:aggregates rdf:resource=\"https://cn.dataone.org/cn/v1/resolve/ark%3A%2F13030%2Fm5dz07z6%2F2%2Fcadwsap-s3400113-001.xml\"/>\n",
      "    <dcterms:title>Simple aggregation of science metadata and data</dcterms:title>\n",
      "    <rdfs1:isDefinedBy rdf:resource=\"http://www.openarchives.org/ore/terms/\"/>\n",
      "  </rdf:Description>\n",
      "  <rdf:Description rdf:about=\"https://cn.dataone.org/cn/v1/resolve/ark%3A%2F13030%2Fm5dz07z6%2F2%2Fcadwsap-s3400113-001.pdf\">\n",
      "    <dcterms:identifier>ark:/13030/m5dz07z6/2/cadwsap-s3400113-001.pdf</dcterms:identifier>\n",
      "    <cito:isDocumentedBy rdf:resource=\"https://cn.dataone.org/cn/v1/resolve/ark%3A%2F13030%2Fm5dz07z6%2F2%2Fcadwsap-s3400113-001.xml\"/>\n",
      "  </rdf:Description>\n",
      "  <rdf:Description rdf:about=\"https://cn.dataone.org/cn/v1/resolve/ark%3A%2F13030%2Fm5dz07z6%2F2%2Fmrt-dataone-map.rdf\">\n",
      "    <dcterms:creator>Merritt</dcterms:creator>\n",
      "    <dcterms:created>2013-09-12T07:33:27-07:00</dcterms:created>\n",
      "    <ore:describes rdf:resource=\"http://store.cdlib.org:35121/content/1001/ark%3A%2F13030%2Fm5dz07z6/2/\"/>\n",
      "    <dc:format>application/rdf+xml</dc:format>\n",
      "    <rdf:type rdf:resource=\"http://www.openarchives.org/ore/terms/ResourceMap\"/>\n",
      "    <dcterms:modified>2013-09-12T07:33:27-07:00</dcterms:modified>\n",
      "    <dcterms:identifier>ark:/13030/m5dz07z6/2/mrt-dataone-map.rdf</dcterms:identifier>\n",
      "  </rdf:Description>\n",
      "  <rdf:Description rdf:about=\"https://cn.dataone.org/cn/v1/resolve/ark%3A%2F13030%2Fm5dz07z6%2F2%2Fcadwsap-s3400113-001-main.csv\">\n",
      "    <dcterms:identifier>ark:/13030/m5dz07z6/2/cadwsap-s3400113-001-main.csv</dcterms:identifier>\n",
      "    <cito:isDocumentedBy rdf:resource=\"https://cn.dataone.org/cn/v1/resolve/ark%3A%2F13030%2Fm5dz07z6%2F2%2Fcadwsap-s3400113-001.xml\"/>\n",
      "  </rdf:Description>\n",
      "  <rdf:Description rdf:about=\"https://cn.dataone.org/cn/v1/resolve/ark%3A%2F13030%2Fm5dz07z6%2F2%2Fcadwsap-s3400113-001.xml\">\n",
      "    <cito:documents rdf:resource=\"https://cn.dataone.org/cn/v1/resolve/ark%3A%2F13030%2Fm5dz07z6%2F2%2Fcadwsap-s3400113-001-vuln.csv\"/>\n",
      "    <cito:documents rdf:resource=\"https://cn.dataone.org/cn/v1/resolve/ark%3A%2F13030%2Fm5dz07z6%2F2%2Fcadwsap-s3400113-001-main.csv\"/>\n",
      "    <dcterms:description>A reference to a science data object using a DataONE identifier.</dcterms:description>\n",
      "    <dcterms:description>A reference to a science metadata document using a DataONE identifier.</dcterms:description>\n",
      "    <dcterms:identifier>ark:/13030/m5dz07z6/2/cadwsap-s3400113-001.xml</dcterms:identifier>\n",
      "    <cito:documents rdf:resource=\"https://cn.dataone.org/cn/v1/resolve/ark%3A%2F13030%2Fm5dz07z6%2F2%2Fcadwsap-s3400113-001.pdf\"/>\n",
      "  </rdf:Description>\n",
      "</rdf:RDF>\n",
      "\n"
     ]
    }
   ],
   "source": [
    "import requests\n",
    "import urllib.parse\n",
    "\n",
    "#identifier for a resource map\n",
    "pid = \"ark:/13030/m5dz07z6/2/mrt-dataone-map.rdf\"\n",
    "url = \"https://cn.dataone.org/cn/v2/object/\" + urllib.parse.quote(pid.encode('utf-8'))\n",
    "ore_document = requests.get(url).text\n",
    "print(ore_document)"
   ]
  },
  {
   "cell_type": "markdown",
   "metadata": {},
   "source": [
    "## Convert to JSON-LD\n",
    "\n",
    "Print out the OAI-ORE document in JSON-LD format, which is more easily processed using Javascript."
   ]
  },
  {
   "cell_type": "code",
   "execution_count": 2,
   "metadata": {
    "collapsed": false,
    "jupyter": {
     "outputs_hidden": false
    }
   },
   "outputs": [
    {
     "name": "stdout",
     "output_type": "stream",
     "text": [
      "[\n",
      "  {\n",
      "    \"@id\": \"http://store.cdlib.org:35121/content/1001/ark%3A%2F13030%2Fm5dz07z6/2/\",\n",
      "    \"http://purl.org/dc/terms/title\": [\n",
      "      {\n",
      "        \"@value\": \"Simple aggregation of science metadata and data\"\n",
      "      }\n",
      "    ],\n",
      "    \"http://www.openarchives.org/ore/terms/aggregates\": [\n",
      "      {\n",
      "        \"@id\": \"https://cn.dataone.org/cn/v1/resolve/ark%3A%2F13030%2Fm5dz07z6%2F2%2Fcadwsap-s3400113-001.xml\"\n",
      "      },\n",
      "      {\n",
      "        \"@id\": \"https://cn.dataone.org/cn/v1/resolve/ark%3A%2F13030%2Fm5dz07z6%2F2%2Fcadwsap-s3400113-001-vuln.csv\"\n",
      "      },\n",
      "      {\n",
      "        \"@id\": \"https://cn.dataone.org/cn/v1/resolve/ark%3A%2F13030%2Fm5dz07z6%2F2%2Fcadwsap-s3400113-001.pdf\"\n",
      "      },\n",
      "      {\n",
      "        \"@id\": \"https://cn.dataone.org/cn/v1/resolve/ark%3A%2F13030%2Fm5dz07z6%2F2%2Fcadwsap-s3400113-001-main.csv\"\n",
      "      }\n",
      "    ],\n",
      "    \"http://www.w3.org/2001/01/rdf-schema#isDefinedBy\": [\n",
      "      {\n",
      "        \"@id\": \"http://www.openarchives.org/ore/terms/\"\n",
      "      }\n",
      "    ]\n",
      "  },\n",
      "  {\n",
      "    \"@id\": \"https://cn.dataone.org/cn/v1/resolve/ark%3A%2F13030%2Fm5dz07z6%2F2%2Fcadwsap-s3400113-001-vuln.csv\",\n",
      "    \"http://purl.org/dc/terms/identifier\": [\n",
      "      {\n",
      "        \"@value\": \"ark:/13030/m5dz07z6/2/cadwsap-s3400113-001-vuln.csv\"\n",
      "      }\n",
      "    ],\n",
      "    \"http://purl.org/spar/cito/isDocumentedBy\": [\n",
      "      {\n",
      "        \"@id\": \"https://cn.dataone.org/cn/v1/resolve/ark%3A%2F13030%2Fm5dz07z6%2F2%2Fcadwsap-s3400113-001.xml\"\n",
      "      }\n",
      "    ]\n",
      "  },\n",
      "  {\n",
      "    \"@id\": \"http://www.openarchives.org/ore/terms/Aggregation\",\n",
      "    \"http://www.w3.org/2001/01/rdf-schema#isDefinedBy\": [\n",
      "      {\n",
      "        \"@id\": \"http://www.openarchives.org/ore/terms/\"\n",
      "      }\n",
      "    ],\n",
      "    \"http://www.w3.org/2001/01/rdf-schema#label\": [\n",
      "      {\n",
      "        \"@value\": \"Aggregation\"\n",
      "      }\n",
      "    ]\n",
      "  },\n",
      "  {\n",
      "    \"@id\": \"https://cn.dataone.org/cn/v1/resolve/ark%3A%2F13030%2Fm5dz07z6%2F2%2Fcadwsap-s3400113-001.pdf\",\n",
      "    \"http://purl.org/dc/terms/identifier\": [\n",
      "      {\n",
      "        \"@value\": \"ark:/13030/m5dz07z6/2/cadwsap-s3400113-001.pdf\"\n",
      "      }\n",
      "    ],\n",
      "    \"http://purl.org/spar/cito/isDocumentedBy\": [\n",
      "      {\n",
      "        \"@id\": \"https://cn.dataone.org/cn/v1/resolve/ark%3A%2F13030%2Fm5dz07z6%2F2%2Fcadwsap-s3400113-001.xml\"\n",
      "      }\n",
      "    ]\n",
      "  },\n",
      "  {\n",
      "    \"@id\": \"https://cn.dataone.org/cn/v1/resolve/ark%3A%2F13030%2Fm5dz07z6%2F2%2Fmrt-dataone-map.rdf\",\n",
      "    \"@type\": [\n",
      "      \"http://www.openarchives.org/ore/terms/ResourceMap\"\n",
      "    ],\n",
      "    \"http://purl.org/dc/elements/1.1/format\": [\n",
      "      {\n",
      "        \"@value\": \"application/rdf+xml\"\n",
      "      }\n",
      "    ],\n",
      "    \"http://purl.org/dc/terms/created\": [\n",
      "      {\n",
      "        \"@value\": \"2013-09-12T07:33:27-07:00\"\n",
      "      }\n",
      "    ],\n",
      "    \"http://purl.org/dc/terms/creator\": [\n",
      "      {\n",
      "        \"@value\": \"Merritt\"\n",
      "      }\n",
      "    ],\n",
      "    \"http://purl.org/dc/terms/identifier\": [\n",
      "      {\n",
      "        \"@value\": \"ark:/13030/m5dz07z6/2/mrt-dataone-map.rdf\"\n",
      "      }\n",
      "    ],\n",
      "    \"http://purl.org/dc/terms/modified\": [\n",
      "      {\n",
      "        \"@value\": \"2013-09-12T07:33:27-07:00\"\n",
      "      }\n",
      "    ],\n",
      "    \"http://www.openarchives.org/ore/terms/describes\": [\n",
      "      {\n",
      "        \"@id\": \"http://store.cdlib.org:35121/content/1001/ark%3A%2F13030%2Fm5dz07z6/2/\"\n",
      "      }\n",
      "    ]\n",
      "  },\n",
      "  {\n",
      "    \"@id\": \"https://cn.dataone.org/cn/v1/resolve/ark%3A%2F13030%2Fm5dz07z6%2F2%2Fcadwsap-s3400113-001-main.csv\",\n",
      "    \"http://purl.org/dc/terms/identifier\": [\n",
      "      {\n",
      "        \"@value\": \"ark:/13030/m5dz07z6/2/cadwsap-s3400113-001-main.csv\"\n",
      "      }\n",
      "    ],\n",
      "    \"http://purl.org/spar/cito/isDocumentedBy\": [\n",
      "      {\n",
      "        \"@id\": \"https://cn.dataone.org/cn/v1/resolve/ark%3A%2F13030%2Fm5dz07z6%2F2%2Fcadwsap-s3400113-001.xml\"\n",
      "      }\n",
      "    ]\n",
      "  },\n",
      "  {\n",
      "    \"@id\": \"https://cn.dataone.org/cn/v1/resolve/ark%3A%2F13030%2Fm5dz07z6%2F2%2Fcadwsap-s3400113-001.xml\",\n",
      "    \"http://purl.org/dc/terms/description\": [\n",
      "      {\n",
      "        \"@value\": \"A reference to a science metadata document using a DataONE identifier.\"\n",
      "      },\n",
      "      {\n",
      "        \"@value\": \"A reference to a science data object using a DataONE identifier.\"\n",
      "      }\n",
      "    ],\n",
      "    \"http://purl.org/dc/terms/identifier\": [\n",
      "      {\n",
      "        \"@value\": \"ark:/13030/m5dz07z6/2/cadwsap-s3400113-001.xml\"\n",
      "      }\n",
      "    ],\n",
      "    \"http://purl.org/spar/cito/documents\": [\n",
      "      {\n",
      "        \"@id\": \"https://cn.dataone.org/cn/v1/resolve/ark%3A%2F13030%2Fm5dz07z6%2F2%2Fcadwsap-s3400113-001-main.csv\"\n",
      "      },\n",
      "      {\n",
      "        \"@id\": \"https://cn.dataone.org/cn/v1/resolve/ark%3A%2F13030%2Fm5dz07z6%2F2%2Fcadwsap-s3400113-001-vuln.csv\"\n",
      "      },\n",
      "      {\n",
      "        \"@id\": \"https://cn.dataone.org/cn/v1/resolve/ark%3A%2F13030%2Fm5dz07z6%2F2%2Fcadwsap-s3400113-001.pdf\"\n",
      "      }\n",
      "    ]\n",
      "  }\n",
      "]\n"
     ]
    }
   ],
   "source": [
    "from d1_common import resource_map\n",
    "ore_object = resource_map.ResourceMap()\n",
    "ore_object.parse(data=ore_document)\n",
    "json_document = ore_object.serialize(format=\"json-ld\").decode() \n",
    "print(json_document)"
   ]
  },
  {
   "cell_type": "markdown",
   "metadata": {},
   "source": [
    "## Compact the JSON-LD document \n"
   ]
  },
  {
   "cell_type": "code",
   "execution_count": 3,
   "metadata": {},
   "outputs": [
    {
     "name": "stdout",
     "output_type": "stream",
     "text": [
      "{\n",
      "  \"@context\": {\n",
      "    \"ore\": \"http://www.openarchives.org/ore/terms/\",\n",
      "    \"dc\": \"http://purl.org/dc/elements/\",\n",
      "    \"dct\": \"http://purl.org/dc/terms/\",\n",
      "    \"dataone\": \"https://cn.dataone.org/cn/\",\n",
      "    \"cito\": \"http://purl.org/spar/cito/\"\n",
      "  },\n",
      "  \"@graph\": [\n",
      "    {\n",
      "      \"@id\": \"http://store.cdlib.org:35121/content/1001/ark%3A%2F13030%2Fm5dz07z6/2/\",\n",
      "      \"dct:title\": \"Simple aggregation of science metadata and data\",\n",
      "      \"ore:aggregates\": [\n",
      "        {\n",
      "          \"@id\": \"dataone:v1/resolve/ark%3A%2F13030%2Fm5dz07z6%2F2%2Fcadwsap-s3400113-001.xml\"\n",
      "        },\n",
      "        {\n",
      "          \"@id\": \"dataone:v1/resolve/ark%3A%2F13030%2Fm5dz07z6%2F2%2Fcadwsap-s3400113-001-vuln.csv\"\n",
      "        },\n",
      "        {\n",
      "          \"@id\": \"dataone:v1/resolve/ark%3A%2F13030%2Fm5dz07z6%2F2%2Fcadwsap-s3400113-001.pdf\"\n",
      "        },\n",
      "        {\n",
      "          \"@id\": \"dataone:v1/resolve/ark%3A%2F13030%2Fm5dz07z6%2F2%2Fcadwsap-s3400113-001-main.csv\"\n",
      "        }\n",
      "      ],\n",
      "      \"http://www.w3.org/2001/01/rdf-schema#isDefinedBy\": {\n",
      "        \"@id\": \"http://www.openarchives.org/ore/terms/\"\n",
      "      }\n",
      "    },\n",
      "    {\n",
      "      \"@id\": \"dataone:v1/resolve/ark%3A%2F13030%2Fm5dz07z6%2F2%2Fcadwsap-s3400113-001-vuln.csv\",\n",
      "      \"dct:identifier\": \"ark:/13030/m5dz07z6/2/cadwsap-s3400113-001-vuln.csv\",\n",
      "      \"cito:isDocumentedBy\": {\n",
      "        \"@id\": \"dataone:v1/resolve/ark%3A%2F13030%2Fm5dz07z6%2F2%2Fcadwsap-s3400113-001.xml\"\n",
      "      }\n",
      "    },\n",
      "    {\n",
      "      \"@id\": \"ore:Aggregation\",\n",
      "      \"http://www.w3.org/2001/01/rdf-schema#isDefinedBy\": {\n",
      "        \"@id\": \"http://www.openarchives.org/ore/terms/\"\n",
      "      },\n",
      "      \"http://www.w3.org/2001/01/rdf-schema#label\": \"Aggregation\"\n",
      "    },\n",
      "    {\n",
      "      \"@id\": \"dataone:v1/resolve/ark%3A%2F13030%2Fm5dz07z6%2F2%2Fcadwsap-s3400113-001.pdf\",\n",
      "      \"dct:identifier\": \"ark:/13030/m5dz07z6/2/cadwsap-s3400113-001.pdf\",\n",
      "      \"cito:isDocumentedBy\": {\n",
      "        \"@id\": \"dataone:v1/resolve/ark%3A%2F13030%2Fm5dz07z6%2F2%2Fcadwsap-s3400113-001.xml\"\n",
      "      }\n",
      "    },\n",
      "    {\n",
      "      \"@id\": \"dataone:v1/resolve/ark%3A%2F13030%2Fm5dz07z6%2F2%2Fmrt-dataone-map.rdf\",\n",
      "      \"@type\": \"ore:ResourceMap\",\n",
      "      \"dc:1.1/format\": \"application/rdf+xml\",\n",
      "      \"dct:created\": \"2013-09-12T07:33:27-07:00\",\n",
      "      \"dct:creator\": \"Merritt\",\n",
      "      \"dct:identifier\": \"ark:/13030/m5dz07z6/2/mrt-dataone-map.rdf\",\n",
      "      \"dct:modified\": \"2013-09-12T07:33:27-07:00\",\n",
      "      \"ore:describes\": {\n",
      "        \"@id\": \"http://store.cdlib.org:35121/content/1001/ark%3A%2F13030%2Fm5dz07z6/2/\"\n",
      "      }\n",
      "    },\n",
      "    {\n",
      "      \"@id\": \"dataone:v1/resolve/ark%3A%2F13030%2Fm5dz07z6%2F2%2Fcadwsap-s3400113-001-main.csv\",\n",
      "      \"dct:identifier\": \"ark:/13030/m5dz07z6/2/cadwsap-s3400113-001-main.csv\",\n",
      "      \"cito:isDocumentedBy\": {\n",
      "        \"@id\": \"dataone:v1/resolve/ark%3A%2F13030%2Fm5dz07z6%2F2%2Fcadwsap-s3400113-001.xml\"\n",
      "      }\n",
      "    },\n",
      "    {\n",
      "      \"@id\": \"dataone:v1/resolve/ark%3A%2F13030%2Fm5dz07z6%2F2%2Fcadwsap-s3400113-001.xml\",\n",
      "      \"dct:description\": [\n",
      "        \"A reference to a science metadata document using a DataONE identifier.\",\n",
      "        \"A reference to a science data object using a DataONE identifier.\"\n",
      "      ],\n",
      "      \"dct:identifier\": \"ark:/13030/m5dz07z6/2/cadwsap-s3400113-001.xml\",\n",
      "      \"cito:documents\": [\n",
      "        {\n",
      "          \"@id\": \"dataone:v1/resolve/ark%3A%2F13030%2Fm5dz07z6%2F2%2Fcadwsap-s3400113-001-main.csv\"\n",
      "        },\n",
      "        {\n",
      "          \"@id\": \"dataone:v1/resolve/ark%3A%2F13030%2Fm5dz07z6%2F2%2Fcadwsap-s3400113-001-vuln.csv\"\n",
      "        },\n",
      "        {\n",
      "          \"@id\": \"dataone:v1/resolve/ark%3A%2F13030%2Fm5dz07z6%2F2%2Fcadwsap-s3400113-001.pdf\"\n",
      "        }\n",
      "      ]\n",
      "    }\n",
      "  ]\n",
      "}\n"
     ]
    }
   ],
   "source": [
    "import json\n",
    "from pyld import jsonld\n",
    "\n",
    "context = {\n",
    "    \"@context\":{\n",
    "        \"ore\":\"http://www.openarchives.org/ore/terms/\",\n",
    "        \"dc\":\"http://purl.org/dc/elements/\",\n",
    "        \"dct\":\"http://purl.org/dc/terms/\",\n",
    "        \"dataone\":\"https://cn.dataone.org/cn/\",\n",
    "        \"cito\":\"http://purl.org/spar/cito/\"\n",
    "    }\n",
    "}\n",
    "doc = json.loads(json_document)\n",
    "compacted = jsonld.compact(doc, context)\n",
    "print(json.dumps(compacted, indent=2))\n"
   ]
  },
  {
   "cell_type": "markdown",
   "metadata": {},
   "source": [
    "## Retrieve Data IDs\n",
    "\n",
    "Retrieve the entries that are the target of a CITO:documents statement. CITO:documents is used to indicate that the subject, i.e. a metadata document, docments the object, i.e. a data object."
   ]
  },
  {
   "cell_type": "code",
   "execution_count": 5,
   "metadata": {
    "collapsed": false,
    "jupyter": {
     "outputs_hidden": false
    }
   },
   "outputs": [
    {
     "name": "stdout",
     "output_type": "stream",
     "text": [
      "['ark:/13030/m5dz07z6/2/cadwsap-s3400113-001.pdf',\n",
      " 'ark:/13030/m5dz07z6/2/cadwsap-s3400113-001-vuln.csv',\n",
      " 'ark:/13030/m5dz07z6/2/cadwsap-s3400113-001-main.csv']\n"
     ]
    }
   ],
   "source": [
    "from d1_common import resource_map\n",
    "import pprint\n",
    "# A list of dc.identifer entries for each entry that is object of CITO:documents \n",
    "documents = ore_object.getAggregatedScienceDataPids()\n",
    "pprint.pprint(documents)"
   ]
  },
  {
   "cell_type": "markdown",
   "metadata": {},
   "source": [
    "## Rendered Graph\n",
    "\n",
    "Render the OAI-ORE document using Graphviz"
   ]
  },
  {
   "cell_type": "code",
   "execution_count": 7,
   "metadata": {
    "collapsed": false,
    "jupyter": {
     "outputs_hidden": false
    }
   },
   "outputs": [
    {
     "ename": "AttributeError",
     "evalue": "module 'cgi' has no attribute 'escape'",
     "output_type": "error",
     "traceback": [
      "\u001b[0;31m---------------------------------------------------------------------------\u001b[0m",
      "\u001b[0;31mAttributeError\u001b[0m                            Traceback (most recent call last)",
      "\u001b[0;32m<ipython-input-7-4c6bad8fe25c>\u001b[0m in \u001b[0;36m<module>\u001b[0;34m\u001b[0m\n\u001b[1;32m      2\u001b[0m \u001b[0;32mfrom\u001b[0m \u001b[0mio\u001b[0m \u001b[0;32mimport\u001b[0m \u001b[0mStringIO\u001b[0m\u001b[0;34m\u001b[0m\u001b[0;34m\u001b[0m\u001b[0m\n\u001b[1;32m      3\u001b[0m \u001b[0more_dot\u001b[0m \u001b[0;34m=\u001b[0m \u001b[0mStringIO\u001b[0m\u001b[0;34m(\u001b[0m\u001b[0;34m)\u001b[0m\u001b[0;34m\u001b[0m\u001b[0;34m\u001b[0m\u001b[0m\n\u001b[0;32m----> 4\u001b[0;31m \u001b[0more_object\u001b[0m\u001b[0;34m.\u001b[0m\u001b[0masGraphvizDot\u001b[0m\u001b[0;34m(\u001b[0m\u001b[0more_dot\u001b[0m\u001b[0;34m)\u001b[0m\u001b[0;34m\u001b[0m\u001b[0;34m\u001b[0m\u001b[0m\n\u001b[0m\u001b[1;32m      5\u001b[0m \u001b[0more_graph\u001b[0m \u001b[0;34m=\u001b[0m \u001b[0mSource\u001b[0m\u001b[0;34m(\u001b[0m\u001b[0more_dot\u001b[0m\u001b[0;34m.\u001b[0m\u001b[0mgetvalue\u001b[0m\u001b[0;34m(\u001b[0m\u001b[0;34m)\u001b[0m\u001b[0;34m)\u001b[0m\u001b[0;34m\u001b[0m\u001b[0;34m\u001b[0m\u001b[0m\n\u001b[1;32m      6\u001b[0m \u001b[0more_graph\u001b[0m\u001b[0;34m\u001b[0m\u001b[0;34m\u001b[0m\u001b[0m\n",
      "\u001b[0;32m~/Documents/Projects/DataONE/Source/dataone_examples/env/lib/python3.8/site-packages/d1_common/resource_map.py\u001b[0m in \u001b[0;36masGraphvizDot\u001b[0;34m(self, stream)\u001b[0m\n\u001b[1;32m    603\u001b[0m \u001b[0;34m\u001b[0m\u001b[0m\n\u001b[1;32m    604\u001b[0m         \"\"\"\n\u001b[0;32m--> 605\u001b[0;31m         \u001b[0mrdflib\u001b[0m\u001b[0;34m.\u001b[0m\u001b[0mtools\u001b[0m\u001b[0;34m.\u001b[0m\u001b[0mrdf2dot\u001b[0m\u001b[0;34m.\u001b[0m\u001b[0mrdf2dot\u001b[0m\u001b[0;34m(\u001b[0m\u001b[0mself\u001b[0m\u001b[0;34m,\u001b[0m \u001b[0mstream\u001b[0m\u001b[0;34m)\u001b[0m\u001b[0;34m\u001b[0m\u001b[0;34m\u001b[0m\u001b[0m\n\u001b[0m\u001b[1;32m    606\u001b[0m \u001b[0;34m\u001b[0m\u001b[0m\n\u001b[1;32m    607\u001b[0m     \u001b[0;32mdef\u001b[0m \u001b[0mparseDoc\u001b[0m\u001b[0;34m(\u001b[0m\u001b[0mself\u001b[0m\u001b[0;34m,\u001b[0m \u001b[0mdoc_str\u001b[0m\u001b[0;34m,\u001b[0m \u001b[0mformat\u001b[0m\u001b[0;34m=\u001b[0m\u001b[0;34m\"xml\"\u001b[0m\u001b[0;34m)\u001b[0m\u001b[0;34m:\u001b[0m\u001b[0;34m\u001b[0m\u001b[0;34m\u001b[0m\u001b[0m\n",
      "\u001b[0;32m~/Documents/Projects/DataONE/Source/dataone_examples/src/rdflib/rdflib/tools/rdf2dot.py\u001b[0m in \u001b[0;36mrdf2dot\u001b[0;34m(g, stream, opts)\u001b[0m\n\u001b[1;32m    140\u001b[0m             \u001b[0mstream\u001b[0m\u001b[0;34m.\u001b[0m\u001b[0mwrite\u001b[0m\u001b[0;34m(\u001b[0m\u001b[0mopstr\u001b[0m \u001b[0;34m%\u001b[0m \u001b[0;34m(\u001b[0m\u001b[0msn\u001b[0m\u001b[0;34m,\u001b[0m \u001b[0mon\u001b[0m\u001b[0;34m,\u001b[0m \u001b[0mcolor\u001b[0m\u001b[0;34m(\u001b[0m\u001b[0mp\u001b[0m\u001b[0;34m)\u001b[0m\u001b[0;34m,\u001b[0m \u001b[0mqname\u001b[0m\u001b[0;34m(\u001b[0m\u001b[0mp\u001b[0m\u001b[0;34m,\u001b[0m \u001b[0mg\u001b[0m\u001b[0;34m)\u001b[0m\u001b[0;34m)\u001b[0m\u001b[0;34m)\u001b[0m\u001b[0;34m\u001b[0m\u001b[0;34m\u001b[0m\u001b[0m\n\u001b[1;32m    141\u001b[0m         \u001b[0;32melse\u001b[0m\u001b[0;34m:\u001b[0m\u001b[0;34m\u001b[0m\u001b[0;34m\u001b[0m\u001b[0m\n\u001b[0;32m--> 142\u001b[0;31m             \u001b[0mfields\u001b[0m\u001b[0;34m[\u001b[0m\u001b[0msn\u001b[0m\u001b[0;34m]\u001b[0m\u001b[0;34m.\u001b[0m\u001b[0madd\u001b[0m\u001b[0;34m(\u001b[0m\u001b[0;34m(\u001b[0m\u001b[0mqname\u001b[0m\u001b[0;34m(\u001b[0m\u001b[0mp\u001b[0m\u001b[0;34m,\u001b[0m \u001b[0mg\u001b[0m\u001b[0;34m)\u001b[0m\u001b[0;34m,\u001b[0m \u001b[0mformatliteral\u001b[0m\u001b[0;34m(\u001b[0m\u001b[0mo\u001b[0m\u001b[0;34m,\u001b[0m \u001b[0mg\u001b[0m\u001b[0;34m)\u001b[0m\u001b[0;34m)\u001b[0m\u001b[0;34m)\u001b[0m\u001b[0;34m\u001b[0m\u001b[0;34m\u001b[0m\u001b[0m\n\u001b[0m\u001b[1;32m    143\u001b[0m \u001b[0;34m\u001b[0m\u001b[0m\n\u001b[1;32m    144\u001b[0m     \u001b[0;32mfor\u001b[0m \u001b[0mu\u001b[0m\u001b[0;34m,\u001b[0m \u001b[0mn\u001b[0m \u001b[0;32min\u001b[0m \u001b[0mnodes\u001b[0m\u001b[0;34m.\u001b[0m\u001b[0mitems\u001b[0m\u001b[0;34m(\u001b[0m\u001b[0;34m)\u001b[0m\u001b[0;34m:\u001b[0m\u001b[0;34m\u001b[0m\u001b[0;34m\u001b[0m\u001b[0m\n",
      "\u001b[0;32m~/Documents/Projects/DataONE/Source/dataone_examples/src/rdflib/rdflib/tools/rdf2dot.py\u001b[0m in \u001b[0;36mformatliteral\u001b[0;34m(l, g)\u001b[0m\n\u001b[1;32m    109\u001b[0m \u001b[0;34m\u001b[0m\u001b[0m\n\u001b[1;32m    110\u001b[0m     \u001b[0;32mdef\u001b[0m \u001b[0mformatliteral\u001b[0m\u001b[0;34m(\u001b[0m\u001b[0ml\u001b[0m\u001b[0;34m,\u001b[0m \u001b[0mg\u001b[0m\u001b[0;34m)\u001b[0m\u001b[0;34m:\u001b[0m\u001b[0;34m\u001b[0m\u001b[0;34m\u001b[0m\u001b[0m\n\u001b[0;32m--> 111\u001b[0;31m         \u001b[0mv\u001b[0m \u001b[0;34m=\u001b[0m \u001b[0mcgi\u001b[0m\u001b[0;34m.\u001b[0m\u001b[0mescape\u001b[0m\u001b[0;34m(\u001b[0m\u001b[0ml\u001b[0m\u001b[0;34m)\u001b[0m\u001b[0;34m\u001b[0m\u001b[0;34m\u001b[0m\u001b[0m\n\u001b[0m\u001b[1;32m    112\u001b[0m         \u001b[0;32mif\u001b[0m \u001b[0ml\u001b[0m\u001b[0;34m.\u001b[0m\u001b[0mdatatype\u001b[0m\u001b[0;34m:\u001b[0m\u001b[0;34m\u001b[0m\u001b[0;34m\u001b[0m\u001b[0m\n\u001b[1;32m    113\u001b[0m             \u001b[0;32mreturn\u001b[0m \u001b[0;34mu\"&quot;%s&quot;^^%s\"\u001b[0m \u001b[0;34m%\u001b[0m \u001b[0;34m(\u001b[0m\u001b[0mv\u001b[0m\u001b[0;34m,\u001b[0m \u001b[0mqname\u001b[0m\u001b[0;34m(\u001b[0m\u001b[0ml\u001b[0m\u001b[0;34m.\u001b[0m\u001b[0mdatatype\u001b[0m\u001b[0;34m,\u001b[0m \u001b[0mg\u001b[0m\u001b[0;34m)\u001b[0m\u001b[0;34m)\u001b[0m\u001b[0;34m\u001b[0m\u001b[0;34m\u001b[0m\u001b[0m\n",
      "\u001b[0;31mAttributeError\u001b[0m: module 'cgi' has no attribute 'escape'"
     ]
    }
   ],
   "source": [
    "from graphviz import Source\n",
    "from io import StringIO\n",
    "ore_dot = StringIO()\n",
    "ore_object.asGraphvizDot(ore_dot)\n",
    "ore_graph = Source(ore_dot.getvalue())\n",
    "ore_graph"
   ]
  },
  {
   "cell_type": "code",
   "execution_count": null,
   "metadata": {
    "collapsed": true,
    "jupyter": {
     "outputs_hidden": true
    }
   },
   "outputs": [],
   "source": []
  }
 ],
 "metadata": {
  "anaconda-cloud": {},
  "kernelspec": {
   "display_name": "Python 3",
   "language": "python",
   "name": "python3"
  },
  "language_info": {
   "codemirror_mode": {
    "name": "ipython",
    "version": 3
   },
   "file_extension": ".py",
   "mimetype": "text/x-python",
   "name": "python",
   "nbconvert_exporter": "python",
   "pygments_lexer": "ipython3",
   "version": "3.8.5"
  }
 },
 "nbformat": 4,
 "nbformat_minor": 4
}
