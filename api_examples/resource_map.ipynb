{
 "cells": [
  {
   "cell_type": "markdown",
   "metadata": {},
   "source": [
    "# d1_pyore Tutorial\n",
    "\n",
    "The d1_pyore library facilitates creation and consumption of OAI-ORE documents that are used by DataONE to dscribe data packages (i.e. the combination of Data and Metadata that make up a scientifically meaningful usint of information.\n",
    "\n",
    "Load the RDF-XML data from a DataONE Coordinating Node. Note that this direct access is more fragile than using the combination of resolve() and get()."
   ]
  },
  {
   "cell_type": "code",
   "execution_count": 1,
   "metadata": {
    "collapsed": false,
    "jupyter": {
     "outputs_hidden": false
    }
   },
   "outputs": [
    {
     "name": "stdout",
     "output_type": "stream",
     "text": [
      "<rdf:RDF\n",
      "    xmlns:rdf=\"http://www.w3.org/1999/02/22-rdf-syntax-ns#\"\n",
      "    xmlns:foaf=\"http://xmlns.com/foaf/0.1/\"\n",
      "    xmlns:dc=\"http://purl.org/dc/elements/1.1/\"\n",
      "    xmlns:ore=\"http://www.openarchives.org/ore/terms/\"\n",
      "    xmlns:dcterms=\"http://purl.org/dc/terms/\"\n",
      "    xmlns:cito=\"http://purl.org/spar/cito/\"\n",
      "    xmlns:rdfs1=\"http://www.w3.org/2001/01/rdf-schema#\" > \n",
      "  <rdf:Description rdf:about=\"http://www.openarchives.org/ore/terms/Aggregation\">\n",
      "    <rdfs1:label>Aggregation</rdfs1:label>\n",
      "    <rdfs1:isDefinedBy rdf:resource=\"http://www.openarchives.org/ore/terms/\"/>\n",
      "  </rdf:Description>\n",
      "  <rdf:Description rdf:about=\"https://cn.dataone.org/cn/v1/resolve/ark%3A%2F13030%2Fm5dz07z6%2F2%2Fcadwsap-s3400113-001-vuln.csv\">\n",
      "    <dcterms:identifier>ark:/13030/m5dz07z6/2/cadwsap-s3400113-001-vuln.csv</dcterms:identifier>\n",
      "    <cito:isDocumentedBy rdf:resource=\"https://cn.dataone.org/cn/v1/resolve/ark%3A%2F13030%2Fm5dz07z6%2F2%2Fcadwsap-s3400113-001.xml\"/>\n",
      "  </rdf:Description>\n",
      "  <rdf:Description rdf:about=\"http://store.cdlib.org:35121/content/1001/ark%3A%2F13030%2Fm5dz07z6/2/\">\n",
      "    <ore:aggregates rdf:resource=\"https://cn.dataone.org/cn/v1/resolve/ark%3A%2F13030%2Fm5dz07z6%2F2%2Fcadwsap-s3400113-001-vuln.csv\"/>\n",
      "    <ore:aggregates rdf:resource=\"https://cn.dataone.org/cn/v1/resolve/ark%3A%2F13030%2Fm5dz07z6%2F2%2Fcadwsap-s3400113-001-main.csv\"/>\n",
      "    <ore:aggregates rdf:resource=\"https://cn.dataone.org/cn/v1/resolve/ark%3A%2F13030%2Fm5dz07z6%2F2%2Fcadwsap-s3400113-001.pdf\"/>\n",
      "    <ore:aggregates rdf:resource=\"https://cn.dataone.org/cn/v1/resolve/ark%3A%2F13030%2Fm5dz07z6%2F2%2Fcadwsap-s3400113-001.xml\"/>\n",
      "    <dcterms:title>Simple aggregation of science metadata and data</dcterms:title>\n",
      "    <rdfs1:isDefinedBy rdf:resource=\"http://www.openarchives.org/ore/terms/\"/>\n",
      "  </rdf:Description>\n",
      "  <rdf:Description rdf:about=\"https://cn.dataone.org/cn/v1/resolve/ark%3A%2F13030%2Fm5dz07z6%2F2%2Fcadwsap-s3400113-001.pdf\">\n",
      "    <dcterms:identifier>ark:/13030/m5dz07z6/2/cadwsap-s3400113-001.pdf</dcterms:identifier>\n",
      "    <cito:isDocumentedBy rdf:resource=\"https://cn.dataone.org/cn/v1/resolve/ark%3A%2F13030%2Fm5dz07z6%2F2%2Fcadwsap-s3400113-001.xml\"/>\n",
      "  </rdf:Description>\n",
      "  <rdf:Description rdf:about=\"https://cn.dataone.org/cn/v1/resolve/ark%3A%2F13030%2Fm5dz07z6%2F2%2Fmrt-dataone-map.rdf\">\n",
      "    <dcterms:creator>Merritt</dcterms:creator>\n",
      "    <dcterms:created>2013-09-12T07:33:27-07:00</dcterms:created>\n",
      "    <ore:describes rdf:resource=\"http://store.cdlib.org:35121/content/1001/ark%3A%2F13030%2Fm5dz07z6/2/\"/>\n",
      "    <dc:format>application/rdf+xml</dc:format>\n",
      "    <rdf:type rdf:resource=\"http://www.openarchives.org/ore/terms/ResourceMap\"/>\n",
      "    <dcterms:modified>2013-09-12T07:33:27-07:00</dcterms:modified>\n",
      "    <dcterms:identifier>ark:/13030/m5dz07z6/2/mrt-dataone-map.rdf</dcterms:identifier>\n",
      "  </rdf:Description>\n",
      "  <rdf:Description rdf:about=\"https://cn.dataone.org/cn/v1/resolve/ark%3A%2F13030%2Fm5dz07z6%2F2%2Fcadwsap-s3400113-001-main.csv\">\n",
      "    <dcterms:identifier>ark:/13030/m5dz07z6/2/cadwsap-s3400113-001-main.csv</dcterms:identifier>\n",
      "    <cito:isDocumentedBy rdf:resource=\"https://cn.dataone.org/cn/v1/resolve/ark%3A%2F13030%2Fm5dz07z6%2F2%2Fcadwsap-s3400113-001.xml\"/>\n",
      "  </rdf:Description>\n",
      "  <rdf:Description rdf:about=\"https://cn.dataone.org/cn/v1/resolve/ark%3A%2F13030%2Fm5dz07z6%2F2%2Fcadwsap-s3400113-001.xml\">\n",
      "    <cito:documents rdf:resource=\"https://cn.dataone.org/cn/v1/resolve/ark%3A%2F13030%2Fm5dz07z6%2F2%2Fcadwsap-s3400113-001-vuln.csv\"/>\n",
      "    <cito:documents rdf:resource=\"https://cn.dataone.org/cn/v1/resolve/ark%3A%2F13030%2Fm5dz07z6%2F2%2Fcadwsap-s3400113-001-main.csv\"/>\n",
      "    <dcterms:description>A reference to a science data object using a DataONE identifier.</dcterms:description>\n",
      "    <dcterms:description>A reference to a science metadata document using a DataONE identifier.</dcterms:description>\n",
      "    <dcterms:identifier>ark:/13030/m5dz07z6/2/cadwsap-s3400113-001.xml</dcterms:identifier>\n",
      "    <cito:documents rdf:resource=\"https://cn.dataone.org/cn/v1/resolve/ark%3A%2F13030%2Fm5dz07z6%2F2%2Fcadwsap-s3400113-001.pdf\"/>\n",
      "  </rdf:Description>\n",
      "</rdf:RDF>\n",
      "\n"
     ]
    }
   ],
   "source": [
    "import requests\n",
    "import urllib.parse\n",
    "\n",
    "#identifier for a resource map\n",
    "pid = \"ark:/13030/m5dz07z6/2/mrt-dataone-map.rdf\"\n",
    "url = \"https://cn.dataone.org/cn/v2/object/\" + urllib.parse.quote(pid.encode('utf-8'))\n",
    "ore_document = requests.get(url).text\n",
    "print(ore_document)"
   ]
  },
  {
   "cell_type": "markdown",
   "metadata": {},
   "source": [
    "## Convert to JSON-LD\n",
    "\n",
    "Print out the OAI-ORE document in JSON-LD format, which is more easily processed using Javascript."
   ]
  },
  {
   "cell_type": "code",
   "execution_count": 2,
   "metadata": {
    "collapsed": false,
    "jupyter": {
     "outputs_hidden": false
    }
   },
   "outputs": [
    {
     "name": "stdout",
     "output_type": "stream",
     "text": [
      "[\n",
      "  {\n",
      "    \"@id\": \"https://cn.dataone.org/cn/v1/resolve/ark%3A%2F13030%2Fm5dz07z6%2F2%2Fcadwsap-s3400113-001.pdf\",\n",
      "    \"http://purl.org/dc/terms/identifier\": [\n",
      "      {\n",
      "        \"@value\": \"ark:/13030/m5dz07z6/2/cadwsap-s3400113-001.pdf\"\n",
      "      }\n",
      "    ],\n",
      "    \"http://purl.org/spar/cito/isDocumentedBy\": [\n",
      "      {\n",
      "        \"@id\": \"https://cn.dataone.org/cn/v1/resolve/ark%3A%2F13030%2Fm5dz07z6%2F2%2Fcadwsap-s3400113-001.xml\"\n",
      "      }\n",
      "    ]\n",
      "  },\n",
      "  {\n",
      "    \"@id\": \"http://www.openarchives.org/ore/terms/Aggregation\",\n",
      "    \"http://www.w3.org/2001/01/rdf-schema#isDefinedBy\": [\n",
      "      {\n",
      "        \"@id\": \"http://www.openarchives.org/ore/terms/\"\n",
      "      }\n",
      "    ],\n",
      "    \"http://www.w3.org/2001/01/rdf-schema#label\": [\n",
      "      {\n",
      "        \"@value\": \"Aggregation\"\n",
      "      }\n",
      "    ]\n",
      "  },\n",
      "  {\n",
      "    \"@id\": \"http://store.cdlib.org:35121/content/1001/ark%3A%2F13030%2Fm5dz07z6/2/\",\n",
      "    \"http://purl.org/dc/terms/title\": [\n",
      "      {\n",
      "        \"@value\": \"Simple aggregation of science metadata and data\"\n",
      "      }\n",
      "    ],\n",
      "    \"http://www.openarchives.org/ore/terms/aggregates\": [\n",
      "      {\n",
      "        \"@id\": \"https://cn.dataone.org/cn/v1/resolve/ark%3A%2F13030%2Fm5dz07z6%2F2%2Fcadwsap-s3400113-001-main.csv\"\n",
      "      },\n",
      "      {\n",
      "        \"@id\": \"https://cn.dataone.org/cn/v1/resolve/ark%3A%2F13030%2Fm5dz07z6%2F2%2Fcadwsap-s3400113-001-vuln.csv\"\n",
      "      },\n",
      "      {\n",
      "        \"@id\": \"https://cn.dataone.org/cn/v1/resolve/ark%3A%2F13030%2Fm5dz07z6%2F2%2Fcadwsap-s3400113-001.xml\"\n",
      "      },\n",
      "      {\n",
      "        \"@id\": \"https://cn.dataone.org/cn/v1/resolve/ark%3A%2F13030%2Fm5dz07z6%2F2%2Fcadwsap-s3400113-001.pdf\"\n",
      "      }\n",
      "    ],\n",
      "    \"http://www.w3.org/2001/01/rdf-schema#isDefinedBy\": [\n",
      "      {\n",
      "        \"@id\": \"http://www.openarchives.org/ore/terms/\"\n",
      "      }\n",
      "    ]\n",
      "  },\n",
      "  {\n",
      "    \"@id\": \"https://cn.dataone.org/cn/v1/resolve/ark%3A%2F13030%2Fm5dz07z6%2F2%2Fcadwsap-s3400113-001-vuln.csv\",\n",
      "    \"http://purl.org/dc/terms/identifier\": [\n",
      "      {\n",
      "        \"@value\": \"ark:/13030/m5dz07z6/2/cadwsap-s3400113-001-vuln.csv\"\n",
      "      }\n",
      "    ],\n",
      "    \"http://purl.org/spar/cito/isDocumentedBy\": [\n",
      "      {\n",
      "        \"@id\": \"https://cn.dataone.org/cn/v1/resolve/ark%3A%2F13030%2Fm5dz07z6%2F2%2Fcadwsap-s3400113-001.xml\"\n",
      "      }\n",
      "    ]\n",
      "  },\n",
      "  {\n",
      "    \"@id\": \"https://cn.dataone.org/cn/v1/resolve/ark%3A%2F13030%2Fm5dz07z6%2F2%2Fmrt-dataone-map.rdf\",\n",
      "    \"@type\": [\n",
      "      \"http://www.openarchives.org/ore/terms/ResourceMap\"\n",
      "    ],\n",
      "    \"http://purl.org/dc/elements/1.1/format\": [\n",
      "      {\n",
      "        \"@value\": \"application/rdf+xml\"\n",
      "      }\n",
      "    ],\n",
      "    \"http://purl.org/dc/terms/created\": [\n",
      "      {\n",
      "        \"@value\": \"2013-09-12T07:33:27-07:00\"\n",
      "      }\n",
      "    ],\n",
      "    \"http://purl.org/dc/terms/creator\": [\n",
      "      {\n",
      "        \"@value\": \"Merritt\"\n",
      "      }\n",
      "    ],\n",
      "    \"http://purl.org/dc/terms/identifier\": [\n",
      "      {\n",
      "        \"@value\": \"ark:/13030/m5dz07z6/2/mrt-dataone-map.rdf\"\n",
      "      }\n",
      "    ],\n",
      "    \"http://purl.org/dc/terms/modified\": [\n",
      "      {\n",
      "        \"@value\": \"2013-09-12T07:33:27-07:00\"\n",
      "      }\n",
      "    ],\n",
      "    \"http://www.openarchives.org/ore/terms/describes\": [\n",
      "      {\n",
      "        \"@id\": \"http://store.cdlib.org:35121/content/1001/ark%3A%2F13030%2Fm5dz07z6/2/\"\n",
      "      }\n",
      "    ]\n",
      "  },\n",
      "  {\n",
      "    \"@id\": \"https://cn.dataone.org/cn/v1/resolve/ark%3A%2F13030%2Fm5dz07z6%2F2%2Fcadwsap-s3400113-001-main.csv\",\n",
      "    \"http://purl.org/dc/terms/identifier\": [\n",
      "      {\n",
      "        \"@value\": \"ark:/13030/m5dz07z6/2/cadwsap-s3400113-001-main.csv\"\n",
      "      }\n",
      "    ],\n",
      "    \"http://purl.org/spar/cito/isDocumentedBy\": [\n",
      "      {\n",
      "        \"@id\": \"https://cn.dataone.org/cn/v1/resolve/ark%3A%2F13030%2Fm5dz07z6%2F2%2Fcadwsap-s3400113-001.xml\"\n",
      "      }\n",
      "    ]\n",
      "  },\n",
      "  {\n",
      "    \"@id\": \"https://cn.dataone.org/cn/v1/resolve/ark%3A%2F13030%2Fm5dz07z6%2F2%2Fcadwsap-s3400113-001.xml\",\n",
      "    \"http://purl.org/dc/terms/description\": [\n",
      "      {\n",
      "        \"@value\": \"A reference to a science metadata document using a DataONE identifier.\"\n",
      "      },\n",
      "      {\n",
      "        \"@value\": \"A reference to a science data object using a DataONE identifier.\"\n",
      "      }\n",
      "    ],\n",
      "    \"http://purl.org/dc/terms/identifier\": [\n",
      "      {\n",
      "        \"@value\": \"ark:/13030/m5dz07z6/2/cadwsap-s3400113-001.xml\"\n",
      "      }\n",
      "    ],\n",
      "    \"http://purl.org/spar/cito/documents\": [\n",
      "      {\n",
      "        \"@id\": \"https://cn.dataone.org/cn/v1/resolve/ark%3A%2F13030%2Fm5dz07z6%2F2%2Fcadwsap-s3400113-001-vuln.csv\"\n",
      "      },\n",
      "      {\n",
      "        \"@id\": \"https://cn.dataone.org/cn/v1/resolve/ark%3A%2F13030%2Fm5dz07z6%2F2%2Fcadwsap-s3400113-001.pdf\"\n",
      "      },\n",
      "      {\n",
      "        \"@id\": \"https://cn.dataone.org/cn/v1/resolve/ark%3A%2F13030%2Fm5dz07z6%2F2%2Fcadwsap-s3400113-001-main.csv\"\n",
      "      }\n",
      "    ]\n",
      "  }\n",
      "]\n"
     ]
    }
   ],
   "source": [
    "from d1_common import resource_map\n",
    "ore_object = resource_map.ResourceMap()\n",
    "ore_object.parse(data=ore_document)\n",
    "json_document = ore_object.serialize(format=\"json-ld\").decode() \n",
    "print(json_document)"
   ]
  },
  {
   "cell_type": "markdown",
   "metadata": {},
   "source": [
    "## Compact the JSON-LD document \n"
   ]
  },
  {
   "cell_type": "code",
   "execution_count": 3,
   "metadata": {},
   "outputs": [
    {
     "name": "stdout",
     "output_type": "stream",
     "text": [
      "{\n",
      "  \"@context\": {\n",
      "    \"ore\": \"http://www.openarchives.org/ore/terms/\",\n",
      "    \"dc\": \"http://purl.org/dc/elements/\",\n",
      "    \"dct\": \"http://purl.org/dc/terms/\",\n",
      "    \"dataone\": \"https://cn.dataone.org/cn/\",\n",
      "    \"cito\": \"http://purl.org/spar/cito/\"\n",
      "  },\n",
      "  \"@graph\": [\n",
      "    {\n",
      "      \"@id\": \"dataone:v1/resolve/ark%3A%2F13030%2Fm5dz07z6%2F2%2Fcadwsap-s3400113-001.pdf\",\n",
      "      \"dct:identifier\": \"ark:/13030/m5dz07z6/2/cadwsap-s3400113-001.pdf\",\n",
      "      \"cito:isDocumentedBy\": {\n",
      "        \"@id\": \"dataone:v1/resolve/ark%3A%2F13030%2Fm5dz07z6%2F2%2Fcadwsap-s3400113-001.xml\"\n",
      "      }\n",
      "    },\n",
      "    {\n",
      "      \"@id\": \"ore:Aggregation\",\n",
      "      \"http://www.w3.org/2001/01/rdf-schema#isDefinedBy\": {\n",
      "        \"@id\": \"http://www.openarchives.org/ore/terms/\"\n",
      "      },\n",
      "      \"http://www.w3.org/2001/01/rdf-schema#label\": \"Aggregation\"\n",
      "    },\n",
      "    {\n",
      "      \"@id\": \"http://store.cdlib.org:35121/content/1001/ark%3A%2F13030%2Fm5dz07z6/2/\",\n",
      "      \"dct:title\": \"Simple aggregation of science metadata and data\",\n",
      "      \"ore:aggregates\": [\n",
      "        {\n",
      "          \"@id\": \"dataone:v1/resolve/ark%3A%2F13030%2Fm5dz07z6%2F2%2Fcadwsap-s3400113-001-main.csv\"\n",
      "        },\n",
      "        {\n",
      "          \"@id\": \"dataone:v1/resolve/ark%3A%2F13030%2Fm5dz07z6%2F2%2Fcadwsap-s3400113-001-vuln.csv\"\n",
      "        },\n",
      "        {\n",
      "          \"@id\": \"dataone:v1/resolve/ark%3A%2F13030%2Fm5dz07z6%2F2%2Fcadwsap-s3400113-001.xml\"\n",
      "        },\n",
      "        {\n",
      "          \"@id\": \"dataone:v1/resolve/ark%3A%2F13030%2Fm5dz07z6%2F2%2Fcadwsap-s3400113-001.pdf\"\n",
      "        }\n",
      "      ],\n",
      "      \"http://www.w3.org/2001/01/rdf-schema#isDefinedBy\": {\n",
      "        \"@id\": \"http://www.openarchives.org/ore/terms/\"\n",
      "      }\n",
      "    },\n",
      "    {\n",
      "      \"@id\": \"dataone:v1/resolve/ark%3A%2F13030%2Fm5dz07z6%2F2%2Fcadwsap-s3400113-001-vuln.csv\",\n",
      "      \"dct:identifier\": \"ark:/13030/m5dz07z6/2/cadwsap-s3400113-001-vuln.csv\",\n",
      "      \"cito:isDocumentedBy\": {\n",
      "        \"@id\": \"dataone:v1/resolve/ark%3A%2F13030%2Fm5dz07z6%2F2%2Fcadwsap-s3400113-001.xml\"\n",
      "      }\n",
      "    },\n",
      "    {\n",
      "      \"@id\": \"dataone:v1/resolve/ark%3A%2F13030%2Fm5dz07z6%2F2%2Fmrt-dataone-map.rdf\",\n",
      "      \"@type\": \"ore:ResourceMap\",\n",
      "      \"dc:1.1/format\": \"application/rdf+xml\",\n",
      "      \"dct:created\": \"2013-09-12T07:33:27-07:00\",\n",
      "      \"dct:creator\": \"Merritt\",\n",
      "      \"dct:identifier\": \"ark:/13030/m5dz07z6/2/mrt-dataone-map.rdf\",\n",
      "      \"dct:modified\": \"2013-09-12T07:33:27-07:00\",\n",
      "      \"ore:describes\": {\n",
      "        \"@id\": \"http://store.cdlib.org:35121/content/1001/ark%3A%2F13030%2Fm5dz07z6/2/\"\n",
      "      }\n",
      "    },\n",
      "    {\n",
      "      \"@id\": \"dataone:v1/resolve/ark%3A%2F13030%2Fm5dz07z6%2F2%2Fcadwsap-s3400113-001-main.csv\",\n",
      "      \"dct:identifier\": \"ark:/13030/m5dz07z6/2/cadwsap-s3400113-001-main.csv\",\n",
      "      \"cito:isDocumentedBy\": {\n",
      "        \"@id\": \"dataone:v1/resolve/ark%3A%2F13030%2Fm5dz07z6%2F2%2Fcadwsap-s3400113-001.xml\"\n",
      "      }\n",
      "    },\n",
      "    {\n",
      "      \"@id\": \"dataone:v1/resolve/ark%3A%2F13030%2Fm5dz07z6%2F2%2Fcadwsap-s3400113-001.xml\",\n",
      "      \"dct:description\": [\n",
      "        \"A reference to a science metadata document using a DataONE identifier.\",\n",
      "        \"A reference to a science data object using a DataONE identifier.\"\n",
      "      ],\n",
      "      \"dct:identifier\": \"ark:/13030/m5dz07z6/2/cadwsap-s3400113-001.xml\",\n",
      "      \"cito:documents\": [\n",
      "        {\n",
      "          \"@id\": \"dataone:v1/resolve/ark%3A%2F13030%2Fm5dz07z6%2F2%2Fcadwsap-s3400113-001-vuln.csv\"\n",
      "        },\n",
      "        {\n",
      "          \"@id\": \"dataone:v1/resolve/ark%3A%2F13030%2Fm5dz07z6%2F2%2Fcadwsap-s3400113-001.pdf\"\n",
      "        },\n",
      "        {\n",
      "          \"@id\": \"dataone:v1/resolve/ark%3A%2F13030%2Fm5dz07z6%2F2%2Fcadwsap-s3400113-001-main.csv\"\n",
      "        }\n",
      "      ]\n",
      "    }\n",
      "  ]\n",
      "}\n"
     ]
    }
   ],
   "source": [
    "import json\n",
    "from pyld import jsonld\n",
    "\n",
    "context = {\n",
    "    \"@context\":{\n",
    "        \"ore\":\"http://www.openarchives.org/ore/terms/\",\n",
    "        \"dc\":\"http://purl.org/dc/elements/\",\n",
    "        \"dct\":\"http://purl.org/dc/terms/\",\n",
    "        \"dataone\":\"https://cn.dataone.org/cn/\",\n",
    "        \"cito\":\"http://purl.org/spar/cito/\"\n",
    "    }\n",
    "}\n",
    "doc = json.loads(json_document)\n",
    "compacted = jsonld.compact(doc, context)\n",
    "print(json.dumps(compacted, indent=2))\n"
   ]
  },
  {
   "cell_type": "markdown",
   "metadata": {},
   "source": [
    "## Retrieve Data IDs\n",
    "\n",
    "Retrieve the entries that are the target of a CITO:documents statement. CITO:documents is used to indicate that the subject, i.e. a metadata document, docments the object, i.e. a data object."
   ]
  },
  {
   "cell_type": "code",
   "execution_count": 4,
   "metadata": {
    "collapsed": false,
    "jupyter": {
     "outputs_hidden": false
    }
   },
   "outputs": [
    {
     "name": "stdout",
     "output_type": "stream",
     "text": [
      "['ark:/13030/m5dz07z6/2/cadwsap-s3400113-001-main.csv',\n",
      " 'ark:/13030/m5dz07z6/2/cadwsap-s3400113-001.pdf',\n",
      " 'ark:/13030/m5dz07z6/2/cadwsap-s3400113-001-vuln.csv']\n"
     ]
    }
   ],
   "source": [
    "from d1_common import resource_map\n",
    "import pprint\n",
    "# A list of dc.identifer entries for each entry that is object of CITO:documents \n",
    "documents = ore_object.getAggregatedScienceDataPids()\n",
    "pprint.pprint(documents)"
   ]
  },
  {
   "cell_type": "markdown",
   "metadata": {},
   "source": [
    "## Rendered Graph\n",
    "\n",
    "Render the OAI-ORE document using Graphviz"
   ]
  },
  {
   "cell_type": "code",
   "execution_count": 5,
   "metadata": {
    "collapsed": false,
    "jupyter": {
     "outputs_hidden": false
    }
   },
   "outputs": [
    {
     "name": "stderr",
     "output_type": "stream",
     "text": [
      "Error: syntax error in line 1 \n",
      "... <B></B> ...\n",
      "in label of node node2\n"
     ]
    },
    {
     "ename": "CalledProcessError",
     "evalue": "Command '['dot', '-Tsvg']' returned non-zero exit status 1. [stderr: b'Error: syntax error in line 1 \\n... <B></B> ...\\nin label of node node2\\n']",
     "output_type": "error",
     "traceback": [
      "\u001b[0;31m---------------------------------------------------------------------------\u001b[0m",
      "\u001b[0;31mCalledProcessError\u001b[0m                        Traceback (most recent call last)",
      "\u001b[0;32m~/opt/anaconda3/envs/dataone/lib/python3.7/site-packages/IPython/core/formatters.py\u001b[0m in \u001b[0;36m__call__\u001b[0;34m(self, obj)\u001b[0m\n\u001b[1;32m    343\u001b[0m             \u001b[0mmethod\u001b[0m \u001b[0;34m=\u001b[0m \u001b[0mget_real_method\u001b[0m\u001b[0;34m(\u001b[0m\u001b[0mobj\u001b[0m\u001b[0;34m,\u001b[0m \u001b[0mself\u001b[0m\u001b[0;34m.\u001b[0m\u001b[0mprint_method\u001b[0m\u001b[0;34m)\u001b[0m\u001b[0;34m\u001b[0m\u001b[0;34m\u001b[0m\u001b[0m\n\u001b[1;32m    344\u001b[0m             \u001b[0;32mif\u001b[0m \u001b[0mmethod\u001b[0m \u001b[0;32mis\u001b[0m \u001b[0;32mnot\u001b[0m \u001b[0;32mNone\u001b[0m\u001b[0;34m:\u001b[0m\u001b[0;34m\u001b[0m\u001b[0;34m\u001b[0m\u001b[0m\n\u001b[0;32m--> 345\u001b[0;31m                 \u001b[0;32mreturn\u001b[0m \u001b[0mmethod\u001b[0m\u001b[0;34m(\u001b[0m\u001b[0;34m)\u001b[0m\u001b[0;34m\u001b[0m\u001b[0;34m\u001b[0m\u001b[0m\n\u001b[0m\u001b[1;32m    346\u001b[0m             \u001b[0;32mreturn\u001b[0m \u001b[0;32mNone\u001b[0m\u001b[0;34m\u001b[0m\u001b[0;34m\u001b[0m\u001b[0m\n\u001b[1;32m    347\u001b[0m         \u001b[0;32melse\u001b[0m\u001b[0;34m:\u001b[0m\u001b[0;34m\u001b[0m\u001b[0;34m\u001b[0m\u001b[0m\n",
      "\u001b[0;32m~/opt/anaconda3/envs/dataone/lib/python3.7/site-packages/graphviz/files.py\u001b[0m in \u001b[0;36m_repr_svg_\u001b[0;34m(self)\u001b[0m\n\u001b[1;32m    111\u001b[0m \u001b[0;34m\u001b[0m\u001b[0m\n\u001b[1;32m    112\u001b[0m     \u001b[0;32mdef\u001b[0m \u001b[0m_repr_svg_\u001b[0m\u001b[0;34m(\u001b[0m\u001b[0mself\u001b[0m\u001b[0;34m)\u001b[0m\u001b[0;34m:\u001b[0m\u001b[0;34m\u001b[0m\u001b[0;34m\u001b[0m\u001b[0m\n\u001b[0;32m--> 113\u001b[0;31m         \u001b[0;32mreturn\u001b[0m \u001b[0mself\u001b[0m\u001b[0;34m.\u001b[0m\u001b[0mpipe\u001b[0m\u001b[0;34m(\u001b[0m\u001b[0mformat\u001b[0m\u001b[0;34m=\u001b[0m\u001b[0;34m'svg'\u001b[0m\u001b[0;34m)\u001b[0m\u001b[0;34m.\u001b[0m\u001b[0mdecode\u001b[0m\u001b[0;34m(\u001b[0m\u001b[0mself\u001b[0m\u001b[0;34m.\u001b[0m\u001b[0m_encoding\u001b[0m\u001b[0;34m)\u001b[0m\u001b[0;34m\u001b[0m\u001b[0;34m\u001b[0m\u001b[0m\n\u001b[0m\u001b[1;32m    114\u001b[0m \u001b[0;34m\u001b[0m\u001b[0m\n\u001b[1;32m    115\u001b[0m     \u001b[0;32mdef\u001b[0m \u001b[0mpipe\u001b[0m\u001b[0;34m(\u001b[0m\u001b[0mself\u001b[0m\u001b[0;34m,\u001b[0m \u001b[0mformat\u001b[0m\u001b[0;34m=\u001b[0m\u001b[0;32mNone\u001b[0m\u001b[0;34m,\u001b[0m \u001b[0mrenderer\u001b[0m\u001b[0;34m=\u001b[0m\u001b[0;32mNone\u001b[0m\u001b[0;34m,\u001b[0m \u001b[0mformatter\u001b[0m\u001b[0;34m=\u001b[0m\u001b[0;32mNone\u001b[0m\u001b[0;34m,\u001b[0m \u001b[0mquiet\u001b[0m\u001b[0;34m=\u001b[0m\u001b[0;32mFalse\u001b[0m\u001b[0;34m)\u001b[0m\u001b[0;34m:\u001b[0m\u001b[0;34m\u001b[0m\u001b[0;34m\u001b[0m\u001b[0m\n",
      "\u001b[0;32m~/opt/anaconda3/envs/dataone/lib/python3.7/site-packages/graphviz/files.py\u001b[0m in \u001b[0;36mpipe\u001b[0;34m(self, format, renderer, formatter, quiet)\u001b[0m\n\u001b[1;32m    136\u001b[0m         out = backend.pipe(self._engine, format, data,\n\u001b[1;32m    137\u001b[0m                            \u001b[0mrenderer\u001b[0m\u001b[0;34m=\u001b[0m\u001b[0mrenderer\u001b[0m\u001b[0;34m,\u001b[0m \u001b[0mformatter\u001b[0m\u001b[0;34m=\u001b[0m\u001b[0mformatter\u001b[0m\u001b[0;34m,\u001b[0m\u001b[0;34m\u001b[0m\u001b[0;34m\u001b[0m\u001b[0m\n\u001b[0;32m--> 138\u001b[0;31m                            quiet=quiet)\n\u001b[0m\u001b[1;32m    139\u001b[0m \u001b[0;34m\u001b[0m\u001b[0m\n\u001b[1;32m    140\u001b[0m         \u001b[0;32mreturn\u001b[0m \u001b[0mout\u001b[0m\u001b[0;34m\u001b[0m\u001b[0;34m\u001b[0m\u001b[0m\n",
      "\u001b[0;32m~/opt/anaconda3/envs/dataone/lib/python3.7/site-packages/graphviz/backend.py\u001b[0m in \u001b[0;36mpipe\u001b[0;34m(engine, format, data, renderer, formatter, quiet)\u001b[0m\n\u001b[1;32m    242\u001b[0m     \"\"\"\n\u001b[1;32m    243\u001b[0m     \u001b[0mcmd\u001b[0m\u001b[0;34m,\u001b[0m \u001b[0m_\u001b[0m \u001b[0;34m=\u001b[0m \u001b[0mcommand\u001b[0m\u001b[0;34m(\u001b[0m\u001b[0mengine\u001b[0m\u001b[0;34m,\u001b[0m \u001b[0mformat\u001b[0m\u001b[0;34m,\u001b[0m \u001b[0;32mNone\u001b[0m\u001b[0;34m,\u001b[0m \u001b[0mrenderer\u001b[0m\u001b[0;34m,\u001b[0m \u001b[0mformatter\u001b[0m\u001b[0;34m)\u001b[0m\u001b[0;34m\u001b[0m\u001b[0;34m\u001b[0m\u001b[0m\n\u001b[0;32m--> 244\u001b[0;31m     \u001b[0mout\u001b[0m\u001b[0;34m,\u001b[0m \u001b[0m_\u001b[0m \u001b[0;34m=\u001b[0m \u001b[0mrun\u001b[0m\u001b[0;34m(\u001b[0m\u001b[0mcmd\u001b[0m\u001b[0;34m,\u001b[0m \u001b[0minput\u001b[0m\u001b[0;34m=\u001b[0m\u001b[0mdata\u001b[0m\u001b[0;34m,\u001b[0m \u001b[0mcapture_output\u001b[0m\u001b[0;34m=\u001b[0m\u001b[0;32mTrue\u001b[0m\u001b[0;34m,\u001b[0m \u001b[0mcheck\u001b[0m\u001b[0;34m=\u001b[0m\u001b[0;32mTrue\u001b[0m\u001b[0;34m,\u001b[0m \u001b[0mquiet\u001b[0m\u001b[0;34m=\u001b[0m\u001b[0mquiet\u001b[0m\u001b[0;34m)\u001b[0m\u001b[0;34m\u001b[0m\u001b[0;34m\u001b[0m\u001b[0m\n\u001b[0m\u001b[1;32m    245\u001b[0m     \u001b[0;32mreturn\u001b[0m \u001b[0mout\u001b[0m\u001b[0;34m\u001b[0m\u001b[0;34m\u001b[0m\u001b[0m\n\u001b[1;32m    246\u001b[0m \u001b[0;34m\u001b[0m\u001b[0m\n",
      "\u001b[0;32m~/opt/anaconda3/envs/dataone/lib/python3.7/site-packages/graphviz/backend.py\u001b[0m in \u001b[0;36mrun\u001b[0;34m(cmd, input, capture_output, check, encoding, quiet, **kwargs)\u001b[0m\n\u001b[1;32m    182\u001b[0m     \u001b[0;32mif\u001b[0m \u001b[0mcheck\u001b[0m \u001b[0;32mand\u001b[0m \u001b[0mproc\u001b[0m\u001b[0;34m.\u001b[0m\u001b[0mreturncode\u001b[0m\u001b[0;34m:\u001b[0m\u001b[0;34m\u001b[0m\u001b[0;34m\u001b[0m\u001b[0m\n\u001b[1;32m    183\u001b[0m         raise CalledProcessError(proc.returncode, cmd,\n\u001b[0;32m--> 184\u001b[0;31m                                  output=out, stderr=err)\n\u001b[0m\u001b[1;32m    185\u001b[0m \u001b[0;34m\u001b[0m\u001b[0m\n\u001b[1;32m    186\u001b[0m     \u001b[0;32mreturn\u001b[0m \u001b[0mout\u001b[0m\u001b[0;34m,\u001b[0m \u001b[0merr\u001b[0m\u001b[0;34m\u001b[0m\u001b[0;34m\u001b[0m\u001b[0m\n",
      "\u001b[0;31mCalledProcessError\u001b[0m: Command '['dot', '-Tsvg']' returned non-zero exit status 1. [stderr: b'Error: syntax error in line 1 \\n... <B></B> ...\\nin label of node node2\\n']"
     ]
    },
    {
     "data": {
      "text/plain": [
       "<graphviz.files.Source at 0x7f8f07f06850>"
      ]
     },
     "execution_count": 5,
     "metadata": {},
     "output_type": "execute_result"
    }
   ],
   "source": [
    "from graphviz import Source\n",
    "from io import StringIO\n",
    "ore_dot = StringIO()\n",
    "ore_object.asGraphvizDot(ore_dot)\n",
    "ore_graph = Source(ore_dot.getvalue())\n",
    "ore_graph"
   ]
  },
  {
   "cell_type": "code",
   "execution_count": null,
   "metadata": {
    "collapsed": true,
    "jupyter": {
     "outputs_hidden": true
    }
   },
   "outputs": [],
   "source": []
  }
 ],
 "metadata": {
  "anaconda-cloud": {},
  "kernelspec": {
   "display_name": "Python 3",
   "language": "python",
   "name": "python3"
  },
  "language_info": {
   "codemirror_mode": {
    "name": "ipython",
    "version": 3
   },
   "file_extension": ".py",
   "mimetype": "text/x-python",
   "name": "python",
   "nbconvert_exporter": "python",
   "pygments_lexer": "ipython3",
   "version": "3.7.7"
  }
 },
 "nbformat": 4,
 "nbformat_minor": 4
}
