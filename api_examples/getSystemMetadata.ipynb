{
 "cells": [
  {
   "cell_type": "code",
   "execution_count": 1,
   "metadata": {},
   "outputs": [
    {
     "name": "stdout",
     "output_type": "stream",
     "text": [
      "<?xml version=\"1.0\" ?>\n",
      "<ns1:systemMetadata xmlns:ns1=\"http://ns.dataone.org/service/types/v2.0\">\n",
      "  <serialVersion>1</serialVersion>\n",
      "  <identifier>urn:uuid:f310f0cb-1f3d-464c-9274-5036fb8eb471</identifier>\n",
      "  <formatId>https://eml.ecoinformatics.org/eml-2.2.0</formatId>\n",
      "  <size>49777</size>\n",
      "  <checksum algorithm=\"MD5\">1106c26cc194813a64b1549cb0ca8093</checksum>\n",
      "  <submitter>http://orcid.org/0000-0001-6544-2035</submitter>\n",
      "  <rightsHolder>http://orcid.org/0000-0001-6544-2035</rightsHolder>\n",
      "  <accessPolicy>\n",
      "    <allow>\n",
      "      <subject>CN=knb-data-admins,DC=dataone,DC=org</subject>\n",
      "      <permission>read</permission>\n",
      "      <permission>write</permission>\n",
      "      <permission>changePermission</permission>\n",
      "    </allow>\n",
      "    <allow>\n",
      "      <subject>public</subject>\n",
      "      <permission>read</permission>\n",
      "    </allow>\n",
      "  </accessPolicy>\n",
      "  <replicationPolicy replicationAllowed=\"false\"/>\n",
      "  <obsoletes>urn:uuid:25332fbe-8b05-4c72-852f-c3ee3021da2f</obsoletes>\n",
      "  <archived>false</archived>\n",
      "  <dateUploaded>2020-08-07T04:36:01.55Z</dateUploaded>\n",
      "...\n",
      "\n"
     ]
    }
   ],
   "source": [
    "# include some utility data and methods\n",
    "%run utilities.ipynb\n",
    "\n",
    "# Import the library and create a client instance\n",
    "from d1_client import baseclient_2_0\n",
    "\n",
    "cn_base_url = \"https://cn.dataone.org/cn\"\n",
    "client = baseclient_2_0.DataONEBaseClient_2_0(cn_base_url)\n",
    "\n",
    "pid = \"urn:uuid:f310f0cb-1f3d-464c-9274-5036fb8eb471\"\n",
    "\n",
    "sysmeta = client.getSystemMetadata(pid)\n",
    "\n",
    "print(asXml(sysmeta, max_lines=-1))"
   ]
  },
  {
   "cell_type": "code",
   "execution_count": 2,
   "metadata": {},
   "outputs": [
    {
     "name": "stdout",
     "output_type": "stream",
     "text": [
      "Identifier: urn:uuid:f310f0cb-1f3d-464c-9274-5036fb8eb471\n",
      "Modified: 2020-08-07 04:36:02.485000+00:00\n",
      "Format ID: https://eml.ecoinformatics.org/eml-2.2.0\n"
     ]
    }
   ],
   "source": [
    "# Access system metadata properties\n",
    "\n",
    "print(f\"Identifier: {sysmeta.identifier.value()}\")\n",
    "print(f\"Modified: {sysmeta.dateSysMetadataModified}\")\n",
    "print(f\"Format ID: {sysmeta.formatId}\")\n"
   ]
  },
  {
   "cell_type": "code",
   "execution_count": null,
   "metadata": {},
   "outputs": [],
   "source": []
  }
 ],
 "metadata": {
  "kernelspec": {
   "display_name": "Python 3",
   "language": "python",
   "name": "python3"
  },
  "language_info": {
   "codemirror_mode": {
    "name": "ipython",
    "version": 3
   },
   "file_extension": ".py",
   "mimetype": "text/x-python",
   "name": "python",
   "nbconvert_exporter": "python",
   "pygments_lexer": "ipython3",
   "version": "3.8.5"
  }
 },
 "nbformat": 4,
 "nbformat_minor": 4
}
