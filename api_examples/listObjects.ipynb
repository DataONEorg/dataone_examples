{
 "cells": [
  {
   "cell_type": "markdown",
   "metadata": {},
   "source": [
    "# Calling CN.listObjects\n",
    "\n",
    "This script demonstrates interacting with the [CN.listObjects](https://purl.dataone.org/architecture/apis/CN_APIs.html#CNRead.listObjects) method using the python client."
   ]
  },
  {
   "cell_type": "code",
   "execution_count": 1,
   "metadata": {
    "collapsed": false,
    "jupyter": {
     "outputs_hidden": false
    }
   },
   "outputs": [],
   "source": [
    "# Import the library and create a client instance\n",
    "\n",
    "from d1_client import baseclient_2_0\n",
    "\n",
    "cn_base_url = \"https://cn.dataone.org/cn\"\n",
    "client = baseclient_2_0.DataONEBaseClient_2_0(cn_base_url)"
   ]
  },
  {
   "cell_type": "markdown",
   "metadata": {},
   "source": [
    "Specify that only five (5) results are to be returned in the request, and start from the first entry. Then call the `listObjects` method."
   ]
  },
  {
   "cell_type": "code",
   "execution_count": 2,
   "metadata": {},
   "outputs": [],
   "source": [
    "num_to_retrieve = 5\n",
    "starting_index = 0\n",
    "params = {'count': num_to_retrieve,\n",
    "          'start': starting_index\n",
    "         }\n",
    "response = client.listObjects( **params )"
   ]
  },
  {
   "cell_type": "markdown",
   "metadata": {},
   "source": [
    "Show the response, printing out each entry."
   ]
  },
  {
   "cell_type": "code",
   "execution_count": 3,
   "metadata": {
    "collapsed": false,
    "jupyter": {
     "outputs_hidden": false
    }
   },
   "outputs": [
    {
     "name": "stdout",
     "output_type": "stream",
     "text": [
      "Total objects: 2895254 Start: 0  Page size: 5\n",
      "\n",
      "00000000: \n",
      "            PID: 0000120ce277dbb2e140d74b50ca23e5\n",
      "       formatId: http://www.isotc211.org/2005/gmd-pangaea\n",
      "           size: 19541\n",
      "  date_modified: 2018-04-20T07:59:45Z\n",
      "\n",
      "00000001: \n",
      "            PID: 000026213216f47287f0d3027f3c4be3\n",
      "       formatId: http://www.isotc211.org/2005/gmd-pangaea\n",
      "           size: 26256\n",
      "  date_modified: 2018-04-20T05:09:36Z\n",
      "\n",
      "00000002: \n",
      "            PID: 0000aa6924377b6a7e5ab59bcec5d4f3\n",
      "       formatId: http://www.isotc211.org/2005/gmd-pangaea\n",
      "           size: 35084\n",
      "  date_modified: 2018-02-17T03:01:16Z\n",
      "\n",
      "00000003: \n",
      "            PID: 0000d11ff42b22915fcce5cfa6027040\n",
      "       formatId: http://www.isotc211.org/2005/gmd-pangaea\n",
      "           size: 35257\n",
      "  date_modified: 2018-01-06T10:43:32Z\n",
      "\n",
      "00000004: \n",
      "            PID: 0000eb4ff1fc59ae6c33a4981e00eabf\n",
      "       formatId: http://www.isotc211.org/2005/gmd-pangaea\n",
      "           size: 49904\n",
      "  date_modified: 2018-01-08T11:18:27Z\n",
      "\n"
     ]
    }
   ],
   "source": [
    "DATE_FORMAT = \"%Y-%m-%dT%H:%M:%SZ\"\n",
    "from datetime import datetime as dt\n",
    "\n",
    "def printResults(response):\n",
    "    print(\"Total objects: {0} Start: {1}  Page size: {2}\\n\".format(response.total, response.start, response.count))\n",
    "    counter = response.start\n",
    "    for entry in response.objectInfo:\n",
    "        print(u\"{:08d}: \".format(counter))\n",
    "        print(u\"            PID: {0}\".format(entry.identifier.value()))\n",
    "        print(u\"       formatId: {0}\".format(entry.formatId))\n",
    "        print(u\"           size: {0}\".format(entry.size))\n",
    "        print(u\"  date_modified: {0}\".format(entry.dateSysMetadataModified.strftime(DATE_FORMAT)))\n",
    "        print(\"\")\n",
    "        counter += 1\n",
    "\n",
    "printResults(response)"
   ]
  },
  {
   "cell_type": "markdown",
   "metadata": {},
   "source": [
    "Add a `fromDate` parameter, so `listObjects` will respond with the list of entries that were modified between one day ago and now."
   ]
  },
  {
   "cell_type": "code",
   "execution_count": 4,
   "metadata": {
    "collapsed": false,
    "jupyter": {
     "outputs_hidden": false
    }
   },
   "outputs": [
    {
     "name": "stdout",
     "output_type": "stream",
     "text": [
      "{'count': 5, 'start': 0, 'fromDate': datetime.datetime(2020, 8, 5, 13, 8, 50, 339714, tzinfo=<StaticTzInfo 'UTC'>)}\n",
      "Total objects: 186 Start: 0  Page size: 5\n",
      "\n",
      "00000000: \n",
      "            PID: 05aaa4b0-fcd4-4c87-b0e1-84fb9d55ce21\n",
      "       formatId: text/plain\n",
      "           size: 1045\n",
      "  date_modified: 2020-08-05T20:17:23Z\n",
      "\n",
      "00000001: \n",
      "            PID: 09b8c6b5-d95d-46ee-9b27-4e884dd2222b\n",
      "       formatId: http://www.openarchives.org/ore/terms\n",
      "           size: 5440\n",
      "  date_modified: 2020-08-05T20:17:52Z\n",
      "\n",
      "00000002: \n",
      "            PID: 10.24431_rw1k46a_2020_8_5_20657\n",
      "       formatId: http://www.isotc211.org/2005/gmd\n",
      "           size: 52320\n",
      "  date_modified: 2020-08-05T20:06:58Z\n",
      "\n",
      "00000003: \n",
      "            PID: 10.24431_rw1k46b_2020_8_5_201725\n",
      "       formatId: http://www.isotc211.org/2005/gmd\n",
      "           size: 36733\n",
      "  date_modified: 2020-08-05T20:17:25Z\n",
      "\n",
      "00000004: \n",
      "            PID: 3d2f9ab9-a159-482c-a797-3f5e603d41df\n",
      "       formatId: application/zip\n",
      "           size: 55294222\n",
      "  date_modified: 2020-08-05T20:17:18Z\n",
      "\n"
     ]
    }
   ],
   "source": [
    "import dateparser\n",
    "\n",
    "start_date = dateparser.parse('yesterday UTC', \n",
    "                              settings={'RETURN_AS_TIMEZONE_AWARE': True})\n",
    "\n",
    "params = {'count': num_to_retrieve,\n",
    "          'start': starting_index,\n",
    "          'fromDate': start_date,\n",
    "         }\n",
    "print( str(params) )\n",
    "response = client.listObjects( **params )\n",
    "\n",
    "printResults( response )\n"
   ]
  },
  {
   "cell_type": "markdown",
   "metadata": {},
   "source": [
    "The server will limit the total number of records returned. When requesting large sets of entries, the \n",
    "response will need to be examined to determine if additional pages of results should be requested."
   ]
  },
  {
   "cell_type": "code",
   "execution_count": 5,
   "metadata": {
    "collapsed": false,
    "jupyter": {
     "outputs_hidden": false
    }
   },
   "outputs": [
    {
     "name": "stdout",
     "output_type": "stream",
     "text": [
      "Total objects: 1014 Start: 0  Page size: 3\n",
      "\n",
      "00000000: \n",
      "            PID: 001d01a92d70ea24b4ab7e81c29858b9\n",
      "       formatId: http://www.isotc211.org/2005/gmd\n",
      "           size: 15674\n",
      "  date_modified: 2020-07-29T19:51:44Z\n",
      "\n",
      "00000001: \n",
      "            PID: 03df7e14aac0a44e89fd88a8e14ec794\n",
      "       formatId: http://www.isotc211.org/2005/gmd\n",
      "           size: 20263\n",
      "  date_modified: 2020-07-29T19:50:11Z\n",
      "\n",
      "00000002: \n",
      "            PID: 07b2d06230bef0b718d3dc3735878510\n",
      "       formatId: http://www.isotc211.org/2005/gmd\n",
      "           size: 19867\n",
      "  date_modified: 2020-07-29T19:49:23Z\n",
      "\n",
      "Total objects: 1014 Start: 3  Page size: 3\n",
      "\n",
      "00000003: \n",
      "            PID: 07c91bc1-583c-4c20-9494-5764ebfe884b\n",
      "       formatId: text/csv\n",
      "           size: 45977422\n",
      "  date_modified: 2020-07-27T22:12:05Z\n",
      "\n",
      "00000004: \n",
      "            PID: 0b613da7-1fd7-42da-a8a1-6a723fc67c17\n",
      "       formatId: text/csv\n",
      "           size: 9209\n",
      "  date_modified: 2020-07-27T17:51:26Z\n",
      "\n",
      "00000005: \n",
      "            PID: 0c7974cb-58d0-4dff-9775-ec47d6f180bd\n",
      "       formatId: text/csv\n",
      "           size: 140223\n",
      "  date_modified: 2020-07-27T17:51:31Z\n",
      "\n",
      "Total objects: 1014 Start: 6  Page size: 3\n",
      "\n",
      "00000006: \n",
      "            PID: 0d1b8af4448541e4252894496116e6fc\n",
      "       formatId: http://www.isotc211.org/2005/gmd\n",
      "           size: 15884\n",
      "  date_modified: 2020-07-29T19:50:38Z\n",
      "\n",
      "00000007: \n",
      "            PID: 0e383843f68d23b8251d0248877890b0\n",
      "       formatId: http://www.isotc211.org/2005/gmd\n",
      "           size: 16201\n",
      "  date_modified: 2020-07-29T05:00:13Z\n",
      "\n",
      "00000008: \n",
      "            PID: 0e76dd7f-5ef5-4a51-a4da-7f970148ab81\n",
      "       formatId: text/plain\n",
      "           size: 575\n",
      "  date_modified: 2020-07-29T17:55:21Z\n",
      "\n",
      "Total objects: 1014 Start: 9  Page size: 3\n",
      "\n",
      "00000009: \n",
      "            PID: 0f48e719a93a7a52115c9ef802e7a7c3\n",
      "       formatId: http://www.isotc211.org/2005/gmd\n",
      "           size: 15656\n",
      "  date_modified: 2020-07-29T19:49:48Z\n",
      "\n",
      "00000010: \n",
      "            PID: 0f563cba95af6454e37371078531fa87\n",
      "       formatId: http://www.isotc211.org/2005/gmd\n",
      "           size: 15959\n",
      "  date_modified: 2020-07-29T19:51:42Z\n",
      "\n",
      "00000011: \n",
      "            PID: 0f851376-03b5-48ca-8dac-b57a19e40f39\n",
      "       formatId: text/csv\n",
      "           size: 170873335\n",
      "  date_modified: 2020-07-28T00:53:25Z\n",
      "\n",
      "Total objects: 1014 Start: 12  Page size: 3\n",
      "\n",
      "00000012: \n",
      "            PID: 0f96f25ccfdc7b7781c20448d5537b88\n",
      "       formatId: http://www.isotc211.org/2005/gmd\n",
      "           size: 18915\n",
      "  date_modified: 2020-07-29T19:48:04Z\n",
      "\n",
      "00000013: \n",
      "            PID: 10.24431_rw1k45y_2020_7_23_17119\n",
      "       formatId: http://www.isotc211.org/2005/gmd\n",
      "           size: 41946\n",
      "  date_modified: 2020-07-23T17:01:19Z\n",
      "\n",
      "00000014: \n",
      "            PID: 10.24431_rw1k45z_2020_7_23_23548\n",
      "       formatId: http://www.isotc211.org/2005/gmd\n",
      "           size: 35612\n",
      "  date_modified: 2020-07-23T23:54:09Z\n",
      "\n",
      "Total objects: 1014 Start: 15  Page size: 3\n",
      "\n",
      "00000015: \n",
      "            PID: 10.24431_rw1k460_2020_7_24_181228\n",
      "       formatId: http://www.isotc211.org/2005/gmd\n",
      "           size: 52487\n",
      "  date_modified: 2020-07-24T18:12:28Z\n",
      "\n",
      "00000016: \n",
      "            PID: 10.24431_rw1k461_2020_7_24_181443\n",
      "       formatId: http://www.isotc211.org/2005/gmd\n",
      "           size: 42176\n",
      "  date_modified: 2020-07-24T18:14:44Z\n",
      "\n",
      "00000017: \n",
      "            PID: 10.24431_rw1k462_2020_7_27_175139\n",
      "       formatId: http://www.isotc211.org/2005/gmd\n",
      "           size: 71552\n",
      "  date_modified: 2020-07-27T17:51:40Z\n",
      "\n",
      "Total objects: 1014 Start: 18  Page size: 3\n",
      "\n",
      "00000018: \n",
      "            PID: 10.24431_rw1k463_2020_7_28_05439\n",
      "       formatId: http://www.isotc211.org/2005/gmd\n",
      "           size: 26977\n",
      "  date_modified: 2020-07-28T00:54:40Z\n",
      "\n",
      "00000019: \n",
      "            PID: 10.24431_rw1k464_2020_7_28_174358\n",
      "       formatId: http://www.isotc211.org/2005/gmd\n",
      "           size: 26795\n",
      "  date_modified: 2020-07-28T17:44:00Z\n",
      "\n",
      "00000020: \n",
      "            PID: 10.24431_rw1k465_2020_7_29_175524\n",
      "       formatId: http://www.isotc211.org/2005/gmd\n",
      "           size: 39475\n",
      "  date_modified: 2020-07-29T17:55:24Z\n",
      "\n",
      "Total objects: 1014 Start: 21  Page size: 3\n",
      "\n",
      "00000021: \n",
      "            PID: 10d4ddf188b57eba0c8ae8270e000592\n",
      "       formatId: http://www.isotc211.org/2005/gmd\n",
      "           size: 15138\n",
      "  date_modified: 2020-07-29T19:50:52Z\n",
      "\n",
      "00000022: \n",
      "            PID: 11405d9a57326a809af8b8762a5d7bf9\n",
      "       formatId: http://www.isotc211.org/2005/gmd\n",
      "           size: 20045\n",
      "  date_modified: 2020-07-29T19:52:20Z\n",
      "\n",
      "00000023: \n",
      "            PID: 11a902c8aba77e019670ef8fd2d013a8\n",
      "       formatId: http://www.isotc211.org/2005/gmd\n",
      "           size: 15786\n",
      "  date_modified: 2020-07-29T19:48:46Z\n",
      "\n",
      "Total objects: 1014 Start: 24  Page size: 3\n",
      "\n",
      "00000024: \n",
      "            PID: 1200591f67b769b89ac22006295082e0\n",
      "       formatId: http://www.isotc211.org/2005/gmd\n",
      "           size: 14909\n",
      "  date_modified: 2020-07-29T19:47:30Z\n",
      "\n",
      "00000025: \n",
      "            PID: 12e16d453afe5600e31433fb917fb788\n",
      "       formatId: http://www.isotc211.org/2005/gmd\n",
      "           size: 15016\n",
      "  date_modified: 2020-07-29T05:00:21Z\n",
      "\n",
      "00000026: \n",
      "            PID: 13563dd6242bb3cdd212accd649b6f56\n",
      "       formatId: http://www.isotc211.org/2005/gmd\n",
      "           size: 15806\n",
      "  date_modified: 2020-07-29T19:47:52Z\n",
      "\n"
     ]
    }
   ],
   "source": [
    "start_date = dateparser.parse('two weeks ago UTC', \n",
    "                              settings={'RETURN_AS_TIMEZONE_AWARE': True})\n",
    "end_date = dateparser.parse('one week ago UTC', \n",
    "                              settings={'RETURN_AS_TIMEZONE_AWARE': True})\n",
    "max_to_retrieve = 25  # limit total numbe of entries to download\n",
    "\n",
    "params = {'start': 0,  \n",
    "          'count': 3,      #specify a small page size\n",
    "          'fromDate': start_date,\n",
    "          'toDate': end_date}\n",
    "response = client.listObjects( **params )\n",
    "\n",
    "if max_to_retrieve > response.total:\n",
    "    max_to_retrieve = response.total\n",
    "\n",
    "printResults( response )\n",
    "\n",
    "num_retrieved = response.count\n",
    "while num_retrieved < max_to_retrieve:\n",
    "    params['start'] += response.count\n",
    "    response = client.listObjects( **params )\n",
    "    num_retrieved += response.count\n",
    "    printResults( response )\n",
    "    "
   ]
  },
  {
   "cell_type": "code",
   "execution_count": null,
   "metadata": {
    "collapsed": true,
    "jupyter": {
     "outputs_hidden": true
    }
   },
   "outputs": [],
   "source": []
  },
  {
   "cell_type": "code",
   "execution_count": null,
   "metadata": {},
   "outputs": [],
   "source": []
  }
 ],
 "metadata": {
  "kernelspec": {
   "display_name": "Python 3",
   "language": "python",
   "name": "python3"
  },
  "language_info": {
   "codemirror_mode": {
    "name": "ipython",
    "version": 3
   },
   "file_extension": ".py",
   "mimetype": "text/x-python",
   "name": "python",
   "nbconvert_exporter": "python",
   "pygments_lexer": "ipython3",
   "version": "3.8.5"
  }
 },
 "nbformat": 4,
 "nbformat_minor": 4
}
