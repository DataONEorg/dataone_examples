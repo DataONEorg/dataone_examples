{
 "cells": [
  {
   "cell_type": "markdown",
   "metadata": {},
   "source": [
    "# Calling CN.listObjects\n",
    "\n",
    "This script demonstrates interacting with the [CN.listObjects](https://purl.dataone.org/architecture/apis/CN_APIs.html#CNRead.listObjects) method using the python client."
   ]
  },
  {
   "cell_type": "code",
   "execution_count": 1,
   "metadata": {
    "collapsed": false,
    "jupyter": {
     "outputs_hidden": false
    }
   },
   "outputs": [],
   "source": [
    "# Import the library and create a client instance\n",
    "\n",
    "from d1_client import baseclient_2_0\n",
    "\n",
    "cn_base_url = \"https://cn.dataone.org/cn\"\n",
    "client = baseclient_2_0.DataONEBaseClient_2_0(cn_base_url)"
   ]
  },
  {
   "cell_type": "markdown",
   "metadata": {},
   "source": [
    "Specify that only five (5) results are to be returned in the request, and start from the first entry. Then call the `listObjects` method."
   ]
  },
  {
   "cell_type": "code",
   "execution_count": 2,
   "metadata": {},
   "outputs": [],
   "source": [
    "num_to_retrieve = 5\n",
    "starting_index = 0\n",
    "params = {'count': num_to_retrieve,\n",
    "          'start': starting_index\n",
    "         }\n",
    "response = client.listObjects( **params )"
   ]
  },
  {
   "cell_type": "markdown",
   "metadata": {},
   "source": [
    "Show the response, printing out each entry."
   ]
  },
  {
   "cell_type": "code",
   "execution_count": 3,
   "metadata": {
    "collapsed": false,
    "jupyter": {
     "outputs_hidden": false
    }
   },
   "outputs": [
    {
     "name": "stdout",
     "output_type": "stream",
     "text": [
      "Total objects: 2889561 Start: 0  Page size: 5\n",
      "\n",
      "00000000: \n",
      "            PID: 0000120ce277dbb2e140d74b50ca23e5\n",
      "       formatId: http://www.isotc211.org/2005/gmd-pangaea\n",
      "           size: 19541\n",
      "  date_modified: 2018-04-20T07:59:45Z\n",
      "\n",
      "00000001: \n",
      "            PID: 000026213216f47287f0d3027f3c4be3\n",
      "       formatId: http://www.isotc211.org/2005/gmd-pangaea\n",
      "           size: 26256\n",
      "  date_modified: 2018-04-20T05:09:36Z\n",
      "\n",
      "00000002: \n",
      "            PID: 0000aa6924377b6a7e5ab59bcec5d4f3\n",
      "       formatId: http://www.isotc211.org/2005/gmd-pangaea\n",
      "           size: 35084\n",
      "  date_modified: 2018-02-17T03:01:16Z\n",
      "\n",
      "00000003: \n",
      "            PID: 0000d11ff42b22915fcce5cfa6027040\n",
      "       formatId: http://www.isotc211.org/2005/gmd-pangaea\n",
      "           size: 35257\n",
      "  date_modified: 2018-01-06T10:43:32Z\n",
      "\n",
      "00000004: \n",
      "            PID: 0000eb4ff1fc59ae6c33a4981e00eabf\n",
      "       formatId: http://www.isotc211.org/2005/gmd-pangaea\n",
      "           size: 49904\n",
      "  date_modified: 2018-01-08T11:18:27Z\n",
      "\n"
     ]
    }
   ],
   "source": [
    "DATE_FORMAT = \"%Y-%m-%dT%H:%M:%SZ\"\n",
    "from datetime import datetime as dt\n",
    "\n",
    "def printResults(response):\n",
    "    print(\"Total objects: {0} Start: {1}  Page size: {2}\\n\".format(response.total, response.start, response.count))\n",
    "    counter = response.start\n",
    "    for entry in response.objectInfo:\n",
    "        print(u\"{:08d}: \".format(counter))\n",
    "        print(u\"            PID: {0}\".format(entry.identifier.value()))\n",
    "        print(u\"       formatId: {0}\".format(entry.formatId))\n",
    "        print(u\"           size: {0}\".format(entry.size))\n",
    "        print(u\"  date_modified: {0}\".format(entry.dateSysMetadataModified.strftime(DATE_FORMAT)))\n",
    "        print(\"\")\n",
    "        counter += 1\n",
    "\n",
    "printResults(response)"
   ]
  },
  {
   "cell_type": "markdown",
   "metadata": {},
   "source": [
    "Add a `fromDate` parameter, so `listObjects` will respond with the list of entries that were modified between one day ago and now."
   ]
  },
  {
   "cell_type": "code",
   "execution_count": 4,
   "metadata": {
    "collapsed": false,
    "jupyter": {
     "outputs_hidden": false
    }
   },
   "outputs": [
    {
     "name": "stdout",
     "output_type": "stream",
     "text": [
      "{'count': 5, 'start': 0, 'fromDate': datetime.datetime(2020, 7, 28, 16, 37, 50, 53057, tzinfo=<StaticTzInfo 'UTC'>)}\n",
      "Total objects: 137 Start: 0  Page size: 5\n",
      "\n",
      "00000000: \n",
      "            PID: 10.24431_rw1k464_2020_7_28_174358\n",
      "       formatId: http://www.isotc211.org/2005/gmd\n",
      "           size: 26795\n",
      "  date_modified: 2020-07-28T17:44:00Z\n",
      "\n",
      "00000001: \n",
      "            PID: 1c52f167-4dcc-4dd5-aaf6-15f508611cbf\n",
      "       formatId: text/csv\n",
      "           size: 87443\n",
      "  date_modified: 2020-07-28T17:43:11Z\n",
      "\n",
      "00000002: \n",
      "            PID: 1fe7e489-fce8-43ab-b0c4-c8e17375e2d2\n",
      "       formatId: text/csv\n",
      "           size: 28489\n",
      "  date_modified: 2020-07-28T17:43:12Z\n",
      "\n",
      "00000003: \n",
      "            PID: 3e775ef8-a927-4a16-96fb-d3acbeffd9c9\n",
      "       formatId: text/csv\n",
      "           size: 41591\n",
      "  date_modified: 2020-07-28T17:43:17Z\n",
      "\n",
      "00000004: \n",
      "            PID: 4dc88670-ea8b-4dc2-b8a4-edaedcfc1b79\n",
      "       formatId: text/csv\n",
      "           size: 112282\n",
      "  date_modified: 2020-07-28T17:43:18Z\n",
      "\n"
     ]
    }
   ],
   "source": [
    "import dateparser\n",
    "\n",
    "start_date = dateparser.parse('yesterday UTC', \n",
    "                              settings={'RETURN_AS_TIMEZONE_AWARE': True})\n",
    "\n",
    "params = {'count': num_to_retrieve,\n",
    "          'start': starting_index,\n",
    "          'fromDate': start_date,\n",
    "         }\n",
    "print( str(params) )\n",
    "response = client.listObjects( **params )\n",
    "\n",
    "printResults( response )\n"
   ]
  },
  {
   "cell_type": "markdown",
   "metadata": {},
   "source": [
    "The server will limit the total number of records returned. When requesting large sets of entries, the \n",
    "response will need to be examined to determine if additional pages of results should be requested."
   ]
  },
  {
   "cell_type": "code",
   "execution_count": 5,
   "metadata": {
    "collapsed": false,
    "jupyter": {
     "outputs_hidden": false
    }
   },
   "outputs": [
    {
     "name": "stdout",
     "output_type": "stream",
     "text": [
      "Total objects: 2254 Start: 0  Page size: 3\n",
      "\n",
      "00000000: \n",
      "            PID: 10016bde-b180-4e4a-b0c2-a912084bff9c\n",
      "       formatId: application/octet-stream\n",
      "           size: 58198749\n",
      "  date_modified: 2020-07-21T19:35:14Z\n",
      "\n",
      "00000001: \n",
      "            PID: 10.24431_rw1k43t_20203421026\n",
      "       formatId: http://www.isotc211.org/2005/gmd\n",
      "           size: 50059\n",
      "  date_modified: 2020-07-20T18:50:48Z\n",
      "\n",
      "00000002: \n",
      "            PID: 10.24431_rw1k43t_2020_7_20_185014\n",
      "       formatId: http://www.isotc211.org/2005/gmd\n",
      "           size: 48471\n",
      "  date_modified: 2020-07-20T18:50:16Z\n",
      "\n",
      "Total objects: 2254 Start: 3  Page size: 3\n",
      "\n",
      "00000003: \n",
      "            PID: 10.24431_rw1k45x_2020_7_20_202245\n",
      "       formatId: http://www.isotc211.org/2005/gmd\n",
      "           size: 41883\n",
      "  date_modified: 2020-07-20T20:22:46Z\n",
      "\n",
      "00000004: \n",
      "            PID: 1072e855-aba2-40a9-9a22-30974ec790e1\n",
      "       formatId: application/octet-stream\n",
      "           size: 98762383\n",
      "  date_modified: 2020-07-21T18:50:43Z\n",
      "\n",
      "00000005: \n",
      "            PID: 184ef9f6-5ae0-49fc-9f90-f7ca1182dc9a\n",
      "       formatId: application/octet-stream\n",
      "           size: 381206386\n",
      "  date_modified: 2020-07-21T20:55:51Z\n",
      "\n",
      "Total objects: 2254 Start: 6  Page size: 3\n",
      "\n",
      "00000006: \n",
      "            PID: 1fb5de0e-f470-4f12-9045-082cc64f1fb1\n",
      "       formatId: application/octet-stream\n",
      "           size: 297028211\n",
      "  date_modified: 2020-07-21T21:58:14Z\n",
      "\n",
      "00000007: \n",
      "            PID: 2391720a-e899-4463-ae72-5db0a3e9df28\n",
      "       formatId: text/csv\n",
      "           size: 1401753\n",
      "  date_modified: 2020-07-20T20:22:42Z\n",
      "\n",
      "00000008: \n",
      "            PID: 3740c8ac-ff3b-42c3-87b8-85e0cc4140b4\n",
      "       formatId: application/octet-stream\n",
      "           size: 364564646\n",
      "  date_modified: 2020-07-21T23:17:44Z\n",
      "\n",
      "Total objects: 2254 Start: 9  Page size: 3\n",
      "\n",
      "00000009: \n",
      "            PID: 5a4e5097-955c-4439-90ba-b8624c3d47f9\n",
      "       formatId: application/octet-stream\n",
      "           size: 81694757\n",
      "  date_modified: 2020-07-21T19:08:26Z\n",
      "\n",
      "00000010: \n",
      "            PID: 6d9c9e28-2570-47c5-9ef9-75e1b274db3f\n",
      "       formatId: text/csv\n",
      "           size: 3594\n",
      "  date_modified: 2020-07-21T18:30:23Z\n",
      "\n",
      "00000011: \n",
      "            PID: 88612c16-835b-484b-abb3-dbe658287f06\n",
      "       formatId: text/plain\n",
      "           size: 145379\n",
      "  date_modified: 2020-07-21T23:55:39Z\n",
      "\n",
      "Total objects: 2254 Start: 12  Page size: 3\n",
      "\n",
      "00000012: \n",
      "            PID: 90c3b5d3-96c5-4ce1-8863-787f206f1c67\n",
      "       formatId: text/csv\n",
      "           size: 21047\n",
      "  date_modified: 2020-07-20T20:22:32Z\n",
      "\n",
      "00000013: \n",
      "            PID: 99693529-b51e-4a5c-a189-33415f6a509f\n",
      "       formatId: application/octet-stream\n",
      "           size: 78268964\n",
      "  date_modified: 2020-07-21T19:24:25Z\n",
      "\n",
      "00000014: \n",
      "            PID: cf9e1ee1-2e11-423c-b54c-4ca5802a71d6\n",
      "       formatId: text/csv\n",
      "           size: 24421\n",
      "  date_modified: 2020-07-20T20:22:42Z\n",
      "\n",
      "Total objects: 2254 Start: 15  Page size: 3\n",
      "\n",
      "00000015: \n",
      "            PID: d8b15251-93dc-4936-b438-cf1ffa34817c\n",
      "       formatId: text/csv\n",
      "           size: 867003\n",
      "  date_modified: 2020-07-20T20:22:29Z\n",
      "\n",
      "00000016: \n",
      "            PID: doi:10.18739/A20000132\n",
      "       formatId: eml://ecoinformatics.org/eml-2.1.1\n",
      "           size: 5319\n",
      "  date_modified: 2020-07-16T16:44:38Z\n",
      "\n",
      "00000017: \n",
      "            PID: doi:10.18739/A2027H\n",
      "       formatId: eml://ecoinformatics.org/eml-2.1.1\n",
      "           size: 27145\n",
      "  date_modified: 2020-07-22T03:22:11Z\n",
      "\n",
      "Total objects: 2254 Start: 18  Page size: 3\n",
      "\n",
      "00000018: \n",
      "            PID: doi:10.18739/A2028PD4G\n",
      "       formatId: eml://ecoinformatics.org/eml-2.1.1\n",
      "           size: 7372\n",
      "  date_modified: 2020-07-15T18:55:48Z\n",
      "\n",
      "00000019: \n",
      "            PID: doi:10.18739/A2028PD6F\n",
      "       formatId: eml://ecoinformatics.org/eml-2.1.1\n",
      "           size: 6499\n",
      "  date_modified: 2020-07-20T17:07:14Z\n",
      "\n",
      "00000020: \n",
      "            PID: doi:10.18739/A2057CT1B\n",
      "       formatId: eml://ecoinformatics.org/eml-2.1.1\n",
      "           size: 6572\n",
      "  date_modified: 2020-07-15T18:53:11Z\n",
      "\n",
      "Total objects: 2254 Start: 21  Page size: 3\n",
      "\n",
      "00000021: \n",
      "            PID: doi:10.18739/A20863623\n",
      "       formatId: eml://ecoinformatics.org/eml-2.1.1\n",
      "           size: 23275\n",
      "  date_modified: 2020-07-22T06:59:59Z\n",
      "\n",
      "00000022: \n",
      "            PID: doi:10.18739/A20C4SK70\n",
      "       formatId: eml://ecoinformatics.org/eml-2.1.1\n",
      "           size: 13046\n",
      "  date_modified: 2020-07-21T19:01:36Z\n",
      "\n",
      "00000023: \n",
      "            PID: doi:10.18739/A20K26C1P\n",
      "       formatId: eml://ecoinformatics.org/eml-2.1.1\n",
      "           size: 5660\n",
      "  date_modified: 2020-07-20T17:30:09Z\n",
      "\n",
      "Total objects: 2254 Start: 24  Page size: 3\n",
      "\n",
      "00000024: \n",
      "            PID: doi:10.18739/A20P0WR6K\n",
      "       formatId: eml://ecoinformatics.org/eml-2.1.1\n",
      "           size: 7590\n",
      "  date_modified: 2020-07-17T21:32:27Z\n",
      "\n",
      "00000025: \n",
      "            PID: doi:10.18739/A20R9M44B\n",
      "       formatId: eml://ecoinformatics.org/eml-2.1.1\n",
      "           size: 8416\n",
      "  date_modified: 2020-07-16T17:13:51Z\n",
      "\n",
      "00000026: \n",
      "            PID: doi:10.18739/A20R9M469\n",
      "       formatId: eml://ecoinformatics.org/eml-2.1.1\n",
      "           size: 56464\n",
      "  date_modified: 2020-07-22T05:34:01Z\n",
      "\n"
     ]
    }
   ],
   "source": [
    "start_date = dateparser.parse('two weeks ago UTC', \n",
    "                              settings={'RETURN_AS_TIMEZONE_AWARE': True})\n",
    "end_date = dateparser.parse('one week ago UTC', \n",
    "                              settings={'RETURN_AS_TIMEZONE_AWARE': True})\n",
    "max_to_retrieve = 25  # limit total numbe of entries to download\n",
    "\n",
    "params = {'start': 0,  \n",
    "          'count': 3,      #specify a small page size\n",
    "          'fromDate': start_date,\n",
    "          'toDate': end_date}\n",
    "response = client.listObjects( **params )\n",
    "\n",
    "if max_to_retrieve > response.total:\n",
    "    max_to_retrieve = response.total\n",
    "\n",
    "printResults( response )\n",
    "\n",
    "num_retrieved = response.count\n",
    "while num_retrieved < max_to_retrieve:\n",
    "    params['start'] += response.count\n",
    "    response = client.listObjects( **params )\n",
    "    num_retrieved += response.count\n",
    "    printResults( response )\n",
    "    "
   ]
  },
  {
   "cell_type": "code",
   "execution_count": null,
   "metadata": {
    "collapsed": true,
    "jupyter": {
     "outputs_hidden": true
    }
   },
   "outputs": [],
   "source": []
  }
 ],
 "metadata": {
  "kernelspec": {
   "display_name": "Python 3",
   "language": "python",
   "name": "python3"
  },
  "language_info": {
   "codemirror_mode": {
    "name": "ipython",
    "version": 3
   },
   "file_extension": ".py",
   "mimetype": "text/x-python",
   "name": "python",
   "nbconvert_exporter": "python",
   "pygments_lexer": "ipython3",
   "version": "3.7.7"
  }
 },
 "nbformat": 4,
 "nbformat_minor": 4
}
